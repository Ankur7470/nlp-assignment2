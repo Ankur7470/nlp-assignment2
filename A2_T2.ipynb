{
  "cells": [
    {
      "cell_type": "markdown",
      "metadata": {
        "id": "view-in-github",
        "colab_type": "text"
      },
      "source": [
        "<a href=\"https://colab.research.google.com/github/Ankur7470/nlp-assignment2/blob/main/A2_T2.ipynb\" target=\"_parent\"><img src=\"https://colab.research.google.com/assets/colab-badge.svg\" alt=\"Open In Colab\"/></a>"
      ]
    },
    {
      "cell_type": "code",
      "execution_count": null,
      "metadata": {
        "colab": {
          "base_uri": "https://localhost:8080/"
        },
        "id": "8_J5SC7fKwWh",
        "outputId": "848ad9a6-1871-4a09-a89f-93c1f4059389"
      },
      "outputs": [
        {
          "name": "stdout",
          "output_type": "stream",
          "text": [
            "Collecting gensim\n",
            "  Downloading gensim-4.3.3-cp311-cp311-manylinux_2_17_x86_64.manylinux2014_x86_64.whl.metadata (8.1 kB)\n",
            "Requirement already satisfied: numpy<2.0,>=1.18.5 in /usr/local/lib/python3.11/dist-packages (from gensim) (1.26.4)\n",
            "Collecting scipy<1.14.0,>=1.7.0 (from gensim)\n",
            "  Downloading scipy-1.13.1-cp311-cp311-manylinux_2_17_x86_64.manylinux2014_x86_64.whl.metadata (60 kB)\n",
            "\u001b[2K     \u001b[90m━━━━━━━━━━━━━━━━━━━━━━━━━━━━━━━━━━━━━━━━\u001b[0m \u001b[32m60.6/60.6 kB\u001b[0m \u001b[31m1.9 MB/s\u001b[0m eta \u001b[36m0:00:00\u001b[0m\n",
            "\u001b[?25hRequirement already satisfied: smart-open>=1.8.1 in /usr/local/lib/python3.11/dist-packages (from gensim) (7.1.0)\n",
            "Requirement already satisfied: wrapt in /usr/local/lib/python3.11/dist-packages (from smart-open>=1.8.1->gensim) (1.17.2)\n",
            "Downloading gensim-4.3.3-cp311-cp311-manylinux_2_17_x86_64.manylinux2014_x86_64.whl (26.7 MB)\n",
            "\u001b[2K   \u001b[90m━━━━━━━━━━━━━━━━━━━━━━━━━━━━━━━━━━━━━━━━\u001b[0m \u001b[32m26.7/26.7 MB\u001b[0m \u001b[31m18.0 MB/s\u001b[0m eta \u001b[36m0:00:00\u001b[0m\n",
            "\u001b[?25hDownloading scipy-1.13.1-cp311-cp311-manylinux_2_17_x86_64.manylinux2014_x86_64.whl (38.6 MB)\n",
            "\u001b[2K   \u001b[90m━━━━━━━━━━━━━━━━━━━━━━━━━━━━━━━━━━━━━━━━\u001b[0m \u001b[32m38.6/38.6 MB\u001b[0m \u001b[31m9.2 MB/s\u001b[0m eta \u001b[36m0:00:00\u001b[0m\n",
            "\u001b[?25hInstalling collected packages: scipy, gensim\n",
            "  Attempting uninstall: scipy\n",
            "    Found existing installation: scipy 1.14.1\n",
            "    Uninstalling scipy-1.14.1:\n",
            "      Successfully uninstalled scipy-1.14.1\n",
            "Successfully installed gensim-4.3.3 scipy-1.13.1\n"
          ]
        }
      ],
      "source": [
        "!pip install gensim"
      ]
    },
    {
      "cell_type": "code",
      "execution_count": null,
      "metadata": {
        "colab": {
          "base_uri": "https://localhost:8080/"
        },
        "id": "G5PZegSBtQJR",
        "outputId": "2bb241eb-6dfa-48de-af2c-dffe91f9b840"
      },
      "outputs": [
        {
          "name": "stdout",
          "output_type": "stream",
          "text": [
            "Requirement already satisfied: nltk in /usr/local/lib/python3.11/dist-packages (3.9.1)\n",
            "Requirement already satisfied: click in /usr/local/lib/python3.11/dist-packages (from nltk) (8.1.8)\n",
            "Requirement already satisfied: joblib in /usr/local/lib/python3.11/dist-packages (from nltk) (1.4.2)\n",
            "Requirement already satisfied: regex>=2021.8.3 in /usr/local/lib/python3.11/dist-packages (from nltk) (2024.11.6)\n",
            "Requirement already satisfied: tqdm in /usr/local/lib/python3.11/dist-packages (from nltk) (4.67.1)\n"
          ]
        }
      ],
      "source": [
        "!pip install nltk"
      ]
    },
    {
      "cell_type": "markdown",
      "metadata": {
        "id": "hU1piVqgJr6I"
      },
      "source": [
        "## Importing the necessary libraries"
      ]
    },
    {
      "cell_type": "code",
      "execution_count": null,
      "metadata": {
        "id": "rc_p9n86CkgZ"
      },
      "outputs": [],
      "source": [
        "import pandas as pd\n",
        "import numpy as np\n",
        "import matplotlib.pyplot as plt\n",
        "import seaborn as sns\n",
        "import re\n",
        "import nltk\n",
        "import torch\n",
        "import torch.nn as nn\n",
        "import torch.optim as optim\n",
        "from torch.optim.lr_scheduler import StepLR\n",
        "from torch.utils.data import Dataset, DataLoader, random_split, Subset\n",
        "import torch.nn.functional as F\n",
        "from gensim.models import Word2Vec\n",
        "from sklearn.model_selection import StratifiedKFold\n",
        "from sklearn.preprocessing import LabelEncoder\n",
        "from sklearn.metrics import accuracy_score, confusion_matrix, classification_report\n",
        "from nltk.tokenize import word_tokenize\n",
        "from nltk.corpus import stopwords\n",
        "from nltk.stem import WordNetLemmatizer"
      ]
    },
    {
      "cell_type": "markdown",
      "metadata": {
        "id": "fwONm8NXJxty"
      },
      "source": [
        "## EDA"
      ]
    },
    {
      "cell_type": "markdown",
      "metadata": {
        "id": "5SnqkZjRJ9ZF"
      },
      "source": [
        "### Loading the Sentiment Analysis Dataset"
      ]
    },
    {
      "cell_type": "code",
      "execution_count": null,
      "metadata": {
        "id": "8-lPy3OvKl02"
      },
      "outputs": [],
      "source": [
        "sentiment_data = pd.read_csv(\"sentimentdataset.csv\")"
      ]
    },
    {
      "cell_type": "markdown",
      "metadata": {
        "id": "2E04nAZMKB6u"
      },
      "source": [
        "### Information about the Dataset"
      ]
    },
    {
      "cell_type": "code",
      "execution_count": null,
      "metadata": {
        "colab": {
          "base_uri": "https://localhost:8080/",
          "height": 695
        },
        "id": "4dzs3faoLbhc",
        "outputId": "c0324c43-3442-4e0c-85b8-963508b867ef"
      },
      "outputs": [
        {
          "data": {
            "application/vnd.google.colaboratory.intrinsic+json": {
              "summary": "{\n  \"name\": \"sentiment_data\",\n  \"rows\": 732,\n  \"fields\": [\n    {\n      \"column\": \"Unnamed: 0.1\",\n      \"properties\": {\n        \"dtype\": \"number\",\n        \"std\": 211,\n        \"min\": 0,\n        \"max\": 732,\n        \"num_unique_values\": 732,\n        \"samples\": [\n          605,\n          34,\n          301\n        ],\n        \"semantic_type\": \"\",\n        \"description\": \"\"\n      }\n    },\n    {\n      \"column\": \"Unnamed: 0\",\n      \"properties\": {\n        \"dtype\": \"number\",\n        \"std\": 212,\n        \"min\": 0,\n        \"max\": 736,\n        \"num_unique_values\": 732,\n        \"samples\": [\n          609,\n          35,\n          305\n        ],\n        \"semantic_type\": \"\",\n        \"description\": \"\"\n      }\n    },\n    {\n      \"column\": \"Text\",\n      \"properties\": {\n        \"dtype\": \"string\",\n        \"num_unique_values\": 707,\n        \"samples\": [\n          \"Walking the Great Wall of China, each step a testament to ancient engineering marvels. \",\n          \" Laughter is the key to joy\\u2014attending a stand-up comedy show. \",\n          \" The fear of the unknown is keeping me up at night.    \"\n        ],\n        \"semantic_type\": \"\",\n        \"description\": \"\"\n      }\n    },\n    {\n      \"column\": \"Sentiment\",\n      \"properties\": {\n        \"dtype\": \"category\",\n        \"num_unique_values\": 279,\n        \"samples\": [\n          \" Elation       \",\n          \" Confidence    \",\n          \" Loss \"\n        ],\n        \"semantic_type\": \"\",\n        \"description\": \"\"\n      }\n    },\n    {\n      \"column\": \"Timestamp\",\n      \"properties\": {\n        \"dtype\": \"object\",\n        \"num_unique_values\": 683,\n        \"samples\": [\n          \"2019-12-12 17:00:00\",\n          \"2018-03-10 09:45:00\",\n          \"2022-01-05 10:30:00\"\n        ],\n        \"semantic_type\": \"\",\n        \"description\": \"\"\n      }\n    },\n    {\n      \"column\": \"User\",\n      \"properties\": {\n        \"dtype\": \"string\",\n        \"num_unique_values\": 685,\n        \"samples\": [\n          \" VenomousHeart \",\n          \" GamingEnthusiast \",\n          \" DreamChaser       \"\n        ],\n        \"semantic_type\": \"\",\n        \"description\": \"\"\n      }\n    },\n    {\n      \"column\": \"Platform\",\n      \"properties\": {\n        \"dtype\": \"category\",\n        \"num_unique_values\": 4,\n        \"samples\": [\n          \" Instagram \",\n          \" Twitter \",\n          \" Twitter  \"\n        ],\n        \"semantic_type\": \"\",\n        \"description\": \"\"\n      }\n    },\n    {\n      \"column\": \"Hashtags\",\n      \"properties\": {\n        \"dtype\": \"string\",\n        \"num_unique_values\": 697,\n        \"samples\": [\n          \" #Fulfillment #PuzzleChallenge                \",\n          \" #Nostalgia #ClassicFilmMoments \",\n          \" #Isolation #EmotionalWinter            \"\n        ],\n        \"semantic_type\": \"\",\n        \"description\": \"\"\n      }\n    },\n    {\n      \"column\": \"Retweets\",\n      \"properties\": {\n        \"dtype\": \"number\",\n        \"std\": 7.061286414470437,\n        \"min\": 5.0,\n        \"max\": 40.0,\n        \"num_unique_values\": 26,\n        \"samples\": [\n          18.0,\n          17.0,\n          15.0\n        ],\n        \"semantic_type\": \"\",\n        \"description\": \"\"\n      }\n    },\n    {\n      \"column\": \"Likes\",\n      \"properties\": {\n        \"dtype\": \"number\",\n        \"std\": 14.089848390888744,\n        \"min\": 10.0,\n        \"max\": 80.0,\n        \"num_unique_values\": 38,\n        \"samples\": [\n          31.0,\n          51.0,\n          25.0\n        ],\n        \"semantic_type\": \"\",\n        \"description\": \"\"\n      }\n    },\n    {\n      \"column\": \"Country\",\n      \"properties\": {\n        \"dtype\": \"category\",\n        \"num_unique_values\": 115,\n        \"samples\": [\n          \" France         \",\n          \" Australia \",\n          \" India         \"\n        ],\n        \"semantic_type\": \"\",\n        \"description\": \"\"\n      }\n    },\n    {\n      \"column\": \"Year\",\n      \"properties\": {\n        \"dtype\": \"number\",\n        \"std\": 2,\n        \"min\": 2010,\n        \"max\": 2023,\n        \"num_unique_values\": 14,\n        \"samples\": [\n          2016,\n          2018,\n          2023\n        ],\n        \"semantic_type\": \"\",\n        \"description\": \"\"\n      }\n    },\n    {\n      \"column\": \"Month\",\n      \"properties\": {\n        \"dtype\": \"number\",\n        \"std\": 3,\n        \"min\": 1,\n        \"max\": 12,\n        \"num_unique_values\": 12,\n        \"samples\": [\n          10,\n          7,\n          1\n        ],\n        \"semantic_type\": \"\",\n        \"description\": \"\"\n      }\n    },\n    {\n      \"column\": \"Day\",\n      \"properties\": {\n        \"dtype\": \"number\",\n        \"std\": 8,\n        \"min\": 1,\n        \"max\": 31,\n        \"num_unique_values\": 31,\n        \"samples\": [\n          7,\n          30,\n          3\n        ],\n        \"semantic_type\": \"\",\n        \"description\": \"\"\n      }\n    },\n    {\n      \"column\": \"Hour\",\n      \"properties\": {\n        \"dtype\": \"number\",\n        \"std\": 4,\n        \"min\": 0,\n        \"max\": 23,\n        \"num_unique_values\": 22,\n        \"samples\": [\n          12,\n          20,\n          13\n        ],\n        \"semantic_type\": \"\",\n        \"description\": \"\"\n      }\n    }\n  ]\n}",
              "type": "dataframe",
              "variable_name": "sentiment_data"
            },
            "text/html": [
              "\n",
              "  <div id=\"df-b60e4a77-09c4-40de-bed4-199a6797052f\" class=\"colab-df-container\">\n",
              "    <div>\n",
              "<style scoped>\n",
              "    .dataframe tbody tr th:only-of-type {\n",
              "        vertical-align: middle;\n",
              "    }\n",
              "\n",
              "    .dataframe tbody tr th {\n",
              "        vertical-align: top;\n",
              "    }\n",
              "\n",
              "    .dataframe thead th {\n",
              "        text-align: right;\n",
              "    }\n",
              "</style>\n",
              "<table border=\"1\" class=\"dataframe\">\n",
              "  <thead>\n",
              "    <tr style=\"text-align: right;\">\n",
              "      <th></th>\n",
              "      <th>Unnamed: 0.1</th>\n",
              "      <th>Unnamed: 0</th>\n",
              "      <th>Text</th>\n",
              "      <th>Sentiment</th>\n",
              "      <th>Timestamp</th>\n",
              "      <th>User</th>\n",
              "      <th>Platform</th>\n",
              "      <th>Hashtags</th>\n",
              "      <th>Retweets</th>\n",
              "      <th>Likes</th>\n",
              "      <th>Country</th>\n",
              "      <th>Year</th>\n",
              "      <th>Month</th>\n",
              "      <th>Day</th>\n",
              "      <th>Hour</th>\n",
              "    </tr>\n",
              "  </thead>\n",
              "  <tbody>\n",
              "    <tr>\n",
              "      <th>0</th>\n",
              "      <td>0</td>\n",
              "      <td>0</td>\n",
              "      <td>Enjoying a beautiful day at the park!        ...</td>\n",
              "      <td>Positive</td>\n",
              "      <td>2023-01-15 12:30:00</td>\n",
              "      <td>User123</td>\n",
              "      <td>Twitter</td>\n",
              "      <td>#Nature #Park</td>\n",
              "      <td>15.0</td>\n",
              "      <td>30.0</td>\n",
              "      <td>USA</td>\n",
              "      <td>2023</td>\n",
              "      <td>1</td>\n",
              "      <td>15</td>\n",
              "      <td>12</td>\n",
              "    </tr>\n",
              "    <tr>\n",
              "      <th>1</th>\n",
              "      <td>1</td>\n",
              "      <td>1</td>\n",
              "      <td>Traffic was terrible this morning.           ...</td>\n",
              "      <td>Negative</td>\n",
              "      <td>2023-01-15 08:45:00</td>\n",
              "      <td>CommuterX</td>\n",
              "      <td>Twitter</td>\n",
              "      <td>#Traffic #Morning</td>\n",
              "      <td>5.0</td>\n",
              "      <td>10.0</td>\n",
              "      <td>Canada</td>\n",
              "      <td>2023</td>\n",
              "      <td>1</td>\n",
              "      <td>15</td>\n",
              "      <td>8</td>\n",
              "    </tr>\n",
              "    <tr>\n",
              "      <th>2</th>\n",
              "      <td>2</td>\n",
              "      <td>2</td>\n",
              "      <td>Just finished an amazing workout! 💪          ...</td>\n",
              "      <td>Positive</td>\n",
              "      <td>2023-01-15 15:45:00</td>\n",
              "      <td>FitnessFan</td>\n",
              "      <td>Instagram</td>\n",
              "      <td>#Fitness #Workout</td>\n",
              "      <td>20.0</td>\n",
              "      <td>40.0</td>\n",
              "      <td>USA</td>\n",
              "      <td>2023</td>\n",
              "      <td>1</td>\n",
              "      <td>15</td>\n",
              "      <td>15</td>\n",
              "    </tr>\n",
              "    <tr>\n",
              "      <th>3</th>\n",
              "      <td>3</td>\n",
              "      <td>3</td>\n",
              "      <td>Excited about the upcoming weekend getaway!  ...</td>\n",
              "      <td>Positive</td>\n",
              "      <td>2023-01-15 18:20:00</td>\n",
              "      <td>AdventureX</td>\n",
              "      <td>Facebook</td>\n",
              "      <td>#Travel #Adventure</td>\n",
              "      <td>8.0</td>\n",
              "      <td>15.0</td>\n",
              "      <td>UK</td>\n",
              "      <td>2023</td>\n",
              "      <td>1</td>\n",
              "      <td>15</td>\n",
              "      <td>18</td>\n",
              "    </tr>\n",
              "    <tr>\n",
              "      <th>4</th>\n",
              "      <td>4</td>\n",
              "      <td>4</td>\n",
              "      <td>Trying out a new recipe for dinner tonight.  ...</td>\n",
              "      <td>Neutral</td>\n",
              "      <td>2023-01-15 19:55:00</td>\n",
              "      <td>ChefCook</td>\n",
              "      <td>Instagram</td>\n",
              "      <td>#Cooking #Food</td>\n",
              "      <td>12.0</td>\n",
              "      <td>25.0</td>\n",
              "      <td>Australia</td>\n",
              "      <td>2023</td>\n",
              "      <td>1</td>\n",
              "      <td>15</td>\n",
              "      <td>19</td>\n",
              "    </tr>\n",
              "  </tbody>\n",
              "</table>\n",
              "</div>\n",
              "    <div class=\"colab-df-buttons\">\n",
              "\n",
              "  <div class=\"colab-df-container\">\n",
              "    <button class=\"colab-df-convert\" onclick=\"convertToInteractive('df-b60e4a77-09c4-40de-bed4-199a6797052f')\"\n",
              "            title=\"Convert this dataframe to an interactive table.\"\n",
              "            style=\"display:none;\">\n",
              "\n",
              "  <svg xmlns=\"http://www.w3.org/2000/svg\" height=\"24px\" viewBox=\"0 -960 960 960\">\n",
              "    <path d=\"M120-120v-720h720v720H120Zm60-500h600v-160H180v160Zm220 220h160v-160H400v160Zm0 220h160v-160H400v160ZM180-400h160v-160H180v160Zm440 0h160v-160H620v160ZM180-180h160v-160H180v160Zm440 0h160v-160H620v160Z\"/>\n",
              "  </svg>\n",
              "    </button>\n",
              "\n",
              "  <style>\n",
              "    .colab-df-container {\n",
              "      display:flex;\n",
              "      gap: 12px;\n",
              "    }\n",
              "\n",
              "    .colab-df-convert {\n",
              "      background-color: #E8F0FE;\n",
              "      border: none;\n",
              "      border-radius: 50%;\n",
              "      cursor: pointer;\n",
              "      display: none;\n",
              "      fill: #1967D2;\n",
              "      height: 32px;\n",
              "      padding: 0 0 0 0;\n",
              "      width: 32px;\n",
              "    }\n",
              "\n",
              "    .colab-df-convert:hover {\n",
              "      background-color: #E2EBFA;\n",
              "      box-shadow: 0px 1px 2px rgba(60, 64, 67, 0.3), 0px 1px 3px 1px rgba(60, 64, 67, 0.15);\n",
              "      fill: #174EA6;\n",
              "    }\n",
              "\n",
              "    .colab-df-buttons div {\n",
              "      margin-bottom: 4px;\n",
              "    }\n",
              "\n",
              "    [theme=dark] .colab-df-convert {\n",
              "      background-color: #3B4455;\n",
              "      fill: #D2E3FC;\n",
              "    }\n",
              "\n",
              "    [theme=dark] .colab-df-convert:hover {\n",
              "      background-color: #434B5C;\n",
              "      box-shadow: 0px 1px 3px 1px rgba(0, 0, 0, 0.15);\n",
              "      filter: drop-shadow(0px 1px 2px rgba(0, 0, 0, 0.3));\n",
              "      fill: #FFFFFF;\n",
              "    }\n",
              "  </style>\n",
              "\n",
              "    <script>\n",
              "      const buttonEl =\n",
              "        document.querySelector('#df-b60e4a77-09c4-40de-bed4-199a6797052f button.colab-df-convert');\n",
              "      buttonEl.style.display =\n",
              "        google.colab.kernel.accessAllowed ? 'block' : 'none';\n",
              "\n",
              "      async function convertToInteractive(key) {\n",
              "        const element = document.querySelector('#df-b60e4a77-09c4-40de-bed4-199a6797052f');\n",
              "        const dataTable =\n",
              "          await google.colab.kernel.invokeFunction('convertToInteractive',\n",
              "                                                    [key], {});\n",
              "        if (!dataTable) return;\n",
              "\n",
              "        const docLinkHtml = 'Like what you see? Visit the ' +\n",
              "          '<a target=\"_blank\" href=https://colab.research.google.com/notebooks/data_table.ipynb>data table notebook</a>'\n",
              "          + ' to learn more about interactive tables.';\n",
              "        element.innerHTML = '';\n",
              "        dataTable['output_type'] = 'display_data';\n",
              "        await google.colab.output.renderOutput(dataTable, element);\n",
              "        const docLink = document.createElement('div');\n",
              "        docLink.innerHTML = docLinkHtml;\n",
              "        element.appendChild(docLink);\n",
              "      }\n",
              "    </script>\n",
              "  </div>\n",
              "\n",
              "\n",
              "<div id=\"df-be7ec0de-679c-412f-a7de-993fc17703d0\">\n",
              "  <button class=\"colab-df-quickchart\" onclick=\"quickchart('df-be7ec0de-679c-412f-a7de-993fc17703d0')\"\n",
              "            title=\"Suggest charts\"\n",
              "            style=\"display:none;\">\n",
              "\n",
              "<svg xmlns=\"http://www.w3.org/2000/svg\" height=\"24px\"viewBox=\"0 0 24 24\"\n",
              "     width=\"24px\">\n",
              "    <g>\n",
              "        <path d=\"M19 3H5c-1.1 0-2 .9-2 2v14c0 1.1.9 2 2 2h14c1.1 0 2-.9 2-2V5c0-1.1-.9-2-2-2zM9 17H7v-7h2v7zm4 0h-2V7h2v10zm4 0h-2v-4h2v4z\"/>\n",
              "    </g>\n",
              "</svg>\n",
              "  </button>\n",
              "\n",
              "<style>\n",
              "  .colab-df-quickchart {\n",
              "      --bg-color: #E8F0FE;\n",
              "      --fill-color: #1967D2;\n",
              "      --hover-bg-color: #E2EBFA;\n",
              "      --hover-fill-color: #174EA6;\n",
              "      --disabled-fill-color: #AAA;\n",
              "      --disabled-bg-color: #DDD;\n",
              "  }\n",
              "\n",
              "  [theme=dark] .colab-df-quickchart {\n",
              "      --bg-color: #3B4455;\n",
              "      --fill-color: #D2E3FC;\n",
              "      --hover-bg-color: #434B5C;\n",
              "      --hover-fill-color: #FFFFFF;\n",
              "      --disabled-bg-color: #3B4455;\n",
              "      --disabled-fill-color: #666;\n",
              "  }\n",
              "\n",
              "  .colab-df-quickchart {\n",
              "    background-color: var(--bg-color);\n",
              "    border: none;\n",
              "    border-radius: 50%;\n",
              "    cursor: pointer;\n",
              "    display: none;\n",
              "    fill: var(--fill-color);\n",
              "    height: 32px;\n",
              "    padding: 0;\n",
              "    width: 32px;\n",
              "  }\n",
              "\n",
              "  .colab-df-quickchart:hover {\n",
              "    background-color: var(--hover-bg-color);\n",
              "    box-shadow: 0 1px 2px rgba(60, 64, 67, 0.3), 0 1px 3px 1px rgba(60, 64, 67, 0.15);\n",
              "    fill: var(--button-hover-fill-color);\n",
              "  }\n",
              "\n",
              "  .colab-df-quickchart-complete:disabled,\n",
              "  .colab-df-quickchart-complete:disabled:hover {\n",
              "    background-color: var(--disabled-bg-color);\n",
              "    fill: var(--disabled-fill-color);\n",
              "    box-shadow: none;\n",
              "  }\n",
              "\n",
              "  .colab-df-spinner {\n",
              "    border: 2px solid var(--fill-color);\n",
              "    border-color: transparent;\n",
              "    border-bottom-color: var(--fill-color);\n",
              "    animation:\n",
              "      spin 1s steps(1) infinite;\n",
              "  }\n",
              "\n",
              "  @keyframes spin {\n",
              "    0% {\n",
              "      border-color: transparent;\n",
              "      border-bottom-color: var(--fill-color);\n",
              "      border-left-color: var(--fill-color);\n",
              "    }\n",
              "    20% {\n",
              "      border-color: transparent;\n",
              "      border-left-color: var(--fill-color);\n",
              "      border-top-color: var(--fill-color);\n",
              "    }\n",
              "    30% {\n",
              "      border-color: transparent;\n",
              "      border-left-color: var(--fill-color);\n",
              "      border-top-color: var(--fill-color);\n",
              "      border-right-color: var(--fill-color);\n",
              "    }\n",
              "    40% {\n",
              "      border-color: transparent;\n",
              "      border-right-color: var(--fill-color);\n",
              "      border-top-color: var(--fill-color);\n",
              "    }\n",
              "    60% {\n",
              "      border-color: transparent;\n",
              "      border-right-color: var(--fill-color);\n",
              "    }\n",
              "    80% {\n",
              "      border-color: transparent;\n",
              "      border-right-color: var(--fill-color);\n",
              "      border-bottom-color: var(--fill-color);\n",
              "    }\n",
              "    90% {\n",
              "      border-color: transparent;\n",
              "      border-bottom-color: var(--fill-color);\n",
              "    }\n",
              "  }\n",
              "</style>\n",
              "\n",
              "  <script>\n",
              "    async function quickchart(key) {\n",
              "      const quickchartButtonEl =\n",
              "        document.querySelector('#' + key + ' button');\n",
              "      quickchartButtonEl.disabled = true;  // To prevent multiple clicks.\n",
              "      quickchartButtonEl.classList.add('colab-df-spinner');\n",
              "      try {\n",
              "        const charts = await google.colab.kernel.invokeFunction(\n",
              "            'suggestCharts', [key], {});\n",
              "      } catch (error) {\n",
              "        console.error('Error during call to suggestCharts:', error);\n",
              "      }\n",
              "      quickchartButtonEl.classList.remove('colab-df-spinner');\n",
              "      quickchartButtonEl.classList.add('colab-df-quickchart-complete');\n",
              "    }\n",
              "    (() => {\n",
              "      let quickchartButtonEl =\n",
              "        document.querySelector('#df-be7ec0de-679c-412f-a7de-993fc17703d0 button');\n",
              "      quickchartButtonEl.style.display =\n",
              "        google.colab.kernel.accessAllowed ? 'block' : 'none';\n",
              "    })();\n",
              "  </script>\n",
              "</div>\n",
              "\n",
              "    </div>\n",
              "  </div>\n"
            ],
            "text/plain": [
              "   Unnamed: 0.1  Unnamed: 0  \\\n",
              "0             0           0   \n",
              "1             1           1   \n",
              "2             2           2   \n",
              "3             3           3   \n",
              "4             4           4   \n",
              "\n",
              "                                                Text    Sentiment  \\\n",
              "0   Enjoying a beautiful day at the park!        ...   Positive     \n",
              "1   Traffic was terrible this morning.           ...   Negative     \n",
              "2   Just finished an amazing workout! 💪          ...   Positive     \n",
              "3   Excited about the upcoming weekend getaway!  ...   Positive     \n",
              "4   Trying out a new recipe for dinner tonight.  ...   Neutral      \n",
              "\n",
              "             Timestamp            User     Platform  \\\n",
              "0  2023-01-15 12:30:00   User123          Twitter     \n",
              "1  2023-01-15 08:45:00   CommuterX        Twitter     \n",
              "2  2023-01-15 15:45:00   FitnessFan      Instagram    \n",
              "3  2023-01-15 18:20:00   AdventureX       Facebook    \n",
              "4  2023-01-15 19:55:00   ChefCook        Instagram    \n",
              "\n",
              "                                     Hashtags  Retweets  Likes       Country  \\\n",
              "0   #Nature #Park                                  15.0   30.0     USA         \n",
              "1   #Traffic #Morning                               5.0   10.0     Canada      \n",
              "2   #Fitness #Workout                              20.0   40.0   USA           \n",
              "3   #Travel #Adventure                              8.0   15.0     UK          \n",
              "4   #Cooking #Food                                 12.0   25.0    Australia    \n",
              "\n",
              "   Year  Month  Day  Hour  \n",
              "0  2023      1   15    12  \n",
              "1  2023      1   15     8  \n",
              "2  2023      1   15    15  \n",
              "3  2023      1   15    18  \n",
              "4  2023      1   15    19  "
            ]
          },
          "execution_count": 55,
          "metadata": {},
          "output_type": "execute_result"
        }
      ],
      "source": [
        "sentiment_data.head()"
      ]
    },
    {
      "cell_type": "code",
      "execution_count": null,
      "metadata": {
        "colab": {
          "base_uri": "https://localhost:8080/"
        },
        "id": "gmc-2FsmLhDO",
        "outputId": "8078ade0-d951-4ffa-c8a5-b4aa316f57e7"
      },
      "outputs": [
        {
          "name": "stdout",
          "output_type": "stream",
          "text": [
            "<class 'pandas.core.frame.DataFrame'>\n",
            "RangeIndex: 732 entries, 0 to 731\n",
            "Data columns (total 15 columns):\n",
            " #   Column        Non-Null Count  Dtype  \n",
            "---  ------        --------------  -----  \n",
            " 0   Unnamed: 0.1  732 non-null    int64  \n",
            " 1   Unnamed: 0    732 non-null    int64  \n",
            " 2   Text          732 non-null    object \n",
            " 3   Sentiment     732 non-null    object \n",
            " 4   Timestamp     732 non-null    object \n",
            " 5   User          732 non-null    object \n",
            " 6   Platform      732 non-null    object \n",
            " 7   Hashtags      732 non-null    object \n",
            " 8   Retweets      732 non-null    float64\n",
            " 9   Likes         732 non-null    float64\n",
            " 10  Country       732 non-null    object \n",
            " 11  Year          732 non-null    int64  \n",
            " 12  Month         732 non-null    int64  \n",
            " 13  Day           732 non-null    int64  \n",
            " 14  Hour          732 non-null    int64  \n",
            "dtypes: float64(2), int64(6), object(7)\n",
            "memory usage: 85.9+ KB\n"
          ]
        }
      ],
      "source": [
        "sentiment_data.info()"
      ]
    },
    {
      "cell_type": "code",
      "execution_count": null,
      "metadata": {
        "id": "yGPPxJzLLsXu"
      },
      "outputs": [],
      "source": [
        "sentiment_data = sentiment_data.drop(columns=['Unnamed: 0.1', 'Unnamed: 0', 'Timestamp', 'User', 'Platform', 'Hashtags', 'Retweets', 'Likes', 'Country', 'Year', 'Month', 'Day', 'Hour'])"
      ]
    },
    {
      "cell_type": "markdown",
      "metadata": {
        "id": "gqRmwS9P6uHW"
      },
      "source": [
        "### Working with Sentiment Labels"
      ]
    },
    {
      "cell_type": "code",
      "execution_count": null,
      "metadata": {
        "colab": {
          "base_uri": "https://localhost:8080/"
        },
        "id": "MdBfnOaoKQJL",
        "outputId": "251fbe0d-aca3-4296-f7dd-61bb2338bd9e"
      },
      "outputs": [
        {
          "name": "stdout",
          "output_type": "stream",
          "text": [
            "\n",
            "No. of Unique Sentiments: 279\n"
          ]
        }
      ],
      "source": [
        "print(\"\\nNo. of Unique Sentiments:\", sentiment_data['Sentiment'].nunique())"
      ]
    },
    {
      "cell_type": "code",
      "execution_count": null,
      "metadata": {
        "colab": {
          "base_uri": "https://localhost:8080/"
        },
        "id": "JtHv9fQJvToQ",
        "outputId": "493a81d4-23ef-43dc-aecb-ce27979db9e3"
      },
      "outputs": [
        {
          "data": {
            "text/plain": [
              "array([' Positive  ', ' Negative  ', ' Neutral   ', ' Anger        ',\n",
              "       ' Fear         ', ' Sadness      ', ' Disgust      ',\n",
              "       ' Happiness    ', ' Joy          ', ' Love         ',\n",
              "       ' Amusement    ', ' Enjoyment    ', ' Admiration   ',\n",
              "       ' Affection    ', ' Awe          ', ' Disappointed ',\n",
              "       ' Surprise     ', ' Acceptance   ', ' Adoration    ',\n",
              "       ' Anticipation ', ' Bitter       ', ' Calmness     ',\n",
              "       ' Confusion    ', ' Excitement   ', ' Kind         ',\n",
              "       ' Pride        ', ' Shame        ', ' Confusion ', ' Excitement ',\n",
              "       ' Shame ', ' Elation       ', ' Euphoria      ', ' Contentment   ',\n",
              "       ' Serenity      ', ' Gratitude     ', ' Hope          ',\n",
              "       ' Empowerment   ', ' Compassion    ', ' Tenderness    ',\n",
              "       ' Arousal       ', ' Enthusiasm    ', ' Fulfillment  ',\n",
              "       ' Reverence     ', ' Compassion', ' Fulfillment   ', ' Reverence ',\n",
              "       ' Elation   ', ' Despair         ', ' Grief           ',\n",
              "       ' Loneliness      ', ' Jealousy        ', ' Resentment      ',\n",
              "       ' Frustration     ', ' Boredom         ', ' Anxiety         ',\n",
              "       ' Intimidation    ', ' Helplessness    ', ' Envy            ',\n",
              "       ' Regret         ', ' Disgust         ', ' Despair      ',\n",
              "       ' Loneliness ', ' Frustration ', ' Anxiety   ', ' Intimidation ',\n",
              "       ' Helplessness ', ' Jealousy    ', ' Curiosity       ',\n",
              "       ' Indifference    ', ' Confusion       ', ' Numbness        ',\n",
              "       ' Melancholy      ', ' Nostalgia       ', ' Ambivalence     ',\n",
              "       ' Acceptance      ', ' Determination   ', ' Serenity        ',\n",
              "       ' Numbness ', ' Zest ', ' Contentment ', ' Hopeful ', ' Proud ',\n",
              "       ' Grateful ', ' Empathetic ', ' Compassionate ', ' Playful ',\n",
              "       ' Free-spirited ', ' Inspired ', ' Confident ', ' Serenity ',\n",
              "       ' Curiosity ', ' Ambivalence ', ' Despair ', ' Bitterness ',\n",
              "       ' Yearning ', ' Fearful ', ' Apprehensive ', ' Overwhelmed ',\n",
              "       ' Jealous ', ' Devastated ', ' Frustrated ', ' Envious ',\n",
              "       ' Dismissive ', ' Awe           ', ' Determination ',\n",
              "       ' Nostalgia      ', ' Thrill        ', ' Calmness      ',\n",
              "       ' Overwhelmed   ', ' Gratitude   ', ' Bittersweet ',\n",
              "       ' Curiosity     ', ' Admiration    ', ' Overjoyed     ',\n",
              "       ' Inspiration   ', ' Motivation    ', ' Amusement     ',\n",
              "       ' Contemplation ', ' JoyfulReunion ', ' Excitement    ',\n",
              "       ' Satisfaction  ', ' Blessed       ', ' Anticipation  ',\n",
              "       ' Reflection    ', ' Nostalgia     ', ' Appreciation  ',\n",
              "       ' Confidence    ', ' Surprise      ', ' Accomplishment ',\n",
              "       ' Wonderment    ', ' Optimism      ', ' Pride         ',\n",
              "       ' Happiness     ', ' Curiosity   ', ' Enchantment   ',\n",
              "       ' Intrigue      ', ' PlayfulJoy    ', ' Mindfulness   ',\n",
              "       ' DreamChaser   ', ' Elegance ', ' Whimsy        ', ' Pensive ',\n",
              "       ' Thrill      ', ' Harmony    ', ' Creativity   ', ' Radiance    ',\n",
              "       ' Wonder     ', ' Rejuvenation ', ' Inspiration ',\n",
              "       ' Coziness     ', ' Gratitude  ', ' Adventure ', ' Euphoria   ',\n",
              "       ' Awe    ', ' Melodic       ', ' FestiveJoy    ',\n",
              "       ' InnerJourney  ', ' Freedom       ', ' Dazzle        ',\n",
              "       ' Adrenaline     ', ' Harmony       ', ' ArtisticBurst ',\n",
              "       ' Radiance      ', ' Wonder       ', ' Inspiration  ',\n",
              "       ' CulinaryOdyssey ', ' Euphoria     ', ' Curiosity  ',\n",
              "       ' Resilience   ', ' Immersion ', ' Nostalgia ', ' Spark        ',\n",
              "       ' Gratitude    ', ' Marvel       ', ' Serenity   ',\n",
              "       ' Heartbreak    ', ' Loneliness    ', ' Grief      ',\n",
              "       ' Despair   ', ' Betrayal      ', ' Suffering ',\n",
              "       ' EmotionalStorm ', ' Regret        ', ' Isolation ',\n",
              "       ' Disappointment ', ' LostLove ', ' Melancholy ', ' Exhaustion ',\n",
              "       ' Sorrow      ', ' Darkness     ', ' Desperation ', ' Ruins      ',\n",
              "       ' Desolation ', ' Regret ', ' Grief ', ' Heartbreak ',\n",
              "       ' Betrayal ', ' Resilience ', ' Sorrow ', ' Loss ', ' Heartache ',\n",
              "       ' Solitude ', ' Joy ', ' Happiness ', ' Enthusiasm ',\n",
              "       ' Gratitude ', ' Positivity ', ' Kindness ', ' Friendship ',\n",
              "       ' Love ', ' Surprise ', ' Success ', ' Thrill ', ' Reflection ',\n",
              "       ' Enchantment ', ' Exploration ', ' Awe ', ' Amazement ',\n",
              "       ' Romance ', ' Captivation ', ' Wonder ', ' Tranquility ',\n",
              "       ' Grandeur ', ' Emotion ', ' Energy ', ' Celebration ', ' Charm ',\n",
              "       ' Ecstasy ', ' Hope ', ' Creativity ', ' Colorful ', ' Pride ',\n",
              "       ' Hypnotic ', ' Connection ', ' Iconic ', ' Euphoria ',\n",
              "       ' Journey ', ' Engagement ', ' Touched ', ' Suspense ',\n",
              "       ' Satisfaction ', ' Admiration ', ' Triumph ', ' Heartwarming ',\n",
              "       ' Obstacle ', ' Sympathy ', ' Pressure ', ' Renewed Effort ',\n",
              "       ' Miscalculation ', ' Challenge ', ' Solace ', ' Breakthrough ',\n",
              "       ' Harmony ', ' Joy in Baking ', ' Envisioning History ',\n",
              "       ' Imagination ', ' Vibrancy ', ' Mesmerizing ',\n",
              "       ' Culinary Adventure ', ' Winter Magic ', ' Thrilling Journey ',\n",
              "       \" Nature's Beauty \", ' Celestial Wonder ',\n",
              "       ' Creative Inspiration ', ' Runway Creativity ',\n",
              "       \" Ocean's Freedom \", ' Whispers of the Past ', ' Boredom ',\n",
              "       ' Indifference ', ' Disgust ', ' Relief ', ' Positive ',\n",
              "       ' Embarrassed ', ' Mischievous ', ' Sad ', ' Hate ', ' Bad ',\n",
              "       ' Neutral ', ' Happy '], dtype=object)"
            ]
          },
          "execution_count": 9,
          "metadata": {},
          "output_type": "execute_result"
        }
      ],
      "source": [
        "sentiment_data['Sentiment'].unique()"
      ]
    },
    {
      "cell_type": "code",
      "execution_count": null,
      "metadata": {
        "id": "0JhFqwwtvXyZ"
      },
      "outputs": [],
      "source": [
        "# Stripping the leading and trailing spaces from each sentiment\n",
        "sentiment_data['Sentiment'] = [sentiment.strip() for sentiment in sentiment_data['Sentiment']]"
      ]
    },
    {
      "cell_type": "code",
      "execution_count": null,
      "metadata": {
        "colab": {
          "base_uri": "https://localhost:8080/"
        },
        "id": "tvnCb_gWvbRt",
        "outputId": "b8f6d6d9-759a-41fd-c32a-93c397cad98c"
      },
      "outputs": [
        {
          "name": "stdout",
          "output_type": "stream",
          "text": [
            "\n",
            "No. of Unique Sentiments after stripping the unwanted spaces from sentiment labels : 191\n"
          ]
        }
      ],
      "source": [
        "print(\"\\nNo. of Unique Sentiments after stripping the unwanted spaces from sentiment labels :\", sentiment_data['Sentiment'].nunique())"
      ]
    },
    {
      "cell_type": "code",
      "execution_count": null,
      "metadata": {
        "colab": {
          "base_uri": "https://localhost:8080/",
          "height": 464
        },
        "id": "xoCixY4s9_fJ",
        "outputId": "e925e6b8-cf93-46a3-9a2d-a2ad666100c1"
      },
      "outputs": [
        {
          "name": "stdout",
          "output_type": "stream",
          "text": [
            "Sentiment Counts:\n",
            "\n"
          ]
        },
        {
          "data": {
            "text/html": [
              "<div>\n",
              "<style scoped>\n",
              "    .dataframe tbody tr th:only-of-type {\n",
              "        vertical-align: middle;\n",
              "    }\n",
              "\n",
              "    .dataframe tbody tr th {\n",
              "        vertical-align: top;\n",
              "    }\n",
              "\n",
              "    .dataframe thead th {\n",
              "        text-align: right;\n",
              "    }\n",
              "</style>\n",
              "<table border=\"1\" class=\"dataframe\">\n",
              "  <thead>\n",
              "    <tr style=\"text-align: right;\">\n",
              "      <th></th>\n",
              "      <th>count</th>\n",
              "    </tr>\n",
              "    <tr>\n",
              "      <th>Sentiment</th>\n",
              "      <th></th>\n",
              "    </tr>\n",
              "  </thead>\n",
              "  <tbody>\n",
              "    <tr>\n",
              "      <th>Positive</th>\n",
              "      <td>45</td>\n",
              "    </tr>\n",
              "    <tr>\n",
              "      <th>Joy</th>\n",
              "      <td>44</td>\n",
              "    </tr>\n",
              "    <tr>\n",
              "      <th>Excitement</th>\n",
              "      <td>37</td>\n",
              "    </tr>\n",
              "    <tr>\n",
              "      <th>Contentment</th>\n",
              "      <td>19</td>\n",
              "    </tr>\n",
              "    <tr>\n",
              "      <th>Neutral</th>\n",
              "      <td>18</td>\n",
              "    </tr>\n",
              "    <tr>\n",
              "      <th>Gratitude</th>\n",
              "      <td>18</td>\n",
              "    </tr>\n",
              "    <tr>\n",
              "      <th>Curiosity</th>\n",
              "      <td>16</td>\n",
              "    </tr>\n",
              "    <tr>\n",
              "      <th>Serenity</th>\n",
              "      <td>15</td>\n",
              "    </tr>\n",
              "    <tr>\n",
              "      <th>Happy</th>\n",
              "      <td>14</td>\n",
              "    </tr>\n",
              "    <tr>\n",
              "      <th>Nostalgia</th>\n",
              "      <td>11</td>\n",
              "    </tr>\n",
              "  </tbody>\n",
              "</table>\n",
              "</div><br><label><b>dtype:</b> int64</label>"
            ],
            "text/plain": [
              "Sentiment\n",
              "Positive       45\n",
              "Joy            44\n",
              "Excitement     37\n",
              "Contentment    19\n",
              "Neutral        18\n",
              "Gratitude      18\n",
              "Curiosity      16\n",
              "Serenity       15\n",
              "Happy          14\n",
              "Nostalgia      11\n",
              "Name: count, dtype: int64"
            ]
          },
          "execution_count": 59,
          "metadata": {},
          "output_type": "execute_result"
        }
      ],
      "source": [
        "sentiment_counts = sentiment_data['Sentiment'].value_counts()\n",
        "print(\"Sentiment Counts:\\n\")\n",
        "sentiment_counts[:10]"
      ]
    },
    {
      "cell_type": "markdown",
      "metadata": {
        "id": "Eufw6NIZ66-9"
      },
      "source": [
        "### Checking for Duplicate Text Entries"
      ]
    },
    {
      "cell_type": "code",
      "execution_count": null,
      "metadata": {
        "colab": {
          "base_uri": "https://localhost:8080/"
        },
        "id": "jzt14IT96-Fh",
        "outputId": "138fe79a-b5e7-4a83-80f5-9668d0b0d7ca"
      },
      "outputs": [
        {
          "name": "stdout",
          "output_type": "stream",
          "text": [
            "No. of Duplicate Text Entries 25\n"
          ]
        }
      ],
      "source": [
        "print(\"No. of Duplicate Text Entries\", sentiment_data['Text'].duplicated().sum())"
      ]
    },
    {
      "cell_type": "code",
      "execution_count": null,
      "metadata": {
        "colab": {
          "base_uri": "https://localhost:8080/",
          "height": 708
        },
        "id": "58P7_yK87B1d",
        "outputId": "3c1070b9-a28d-4e6c-a639-9e4ef92e4c34"
      },
      "outputs": [
        {
          "data": {
            "application/vnd.google.colaboratory.intrinsic+json": {
              "summary": "{\n  \"name\": \"duplicate_texts[duplicate_texts['count'] > 1]\",\n  \"rows\": 21,\n  \"fields\": [\n    {\n      \"column\": \"Text\",\n      \"properties\": {\n        \"dtype\": \"string\",\n        \"num_unique_values\": 21,\n        \"samples\": [\n          \" A compassionate rain, tears of empathy falling gently, nurturing the seeds of kindness in the garden of human connections. \",\n          \"Heartfelt gratitude for the laughter shared during a family reunion. \",\n          \" Whispering tales of inspiration to the stars, a storyteller crafting constellations from the threads of imagination. \"\n        ],\n        \"semantic_type\": \"\",\n        \"description\": \"\"\n      }\n    },\n    {\n      \"column\": \"count\",\n      \"properties\": {\n        \"dtype\": \"number\",\n        \"std\": 0,\n        \"min\": 2,\n        \"max\": 3,\n        \"num_unique_values\": 2,\n        \"samples\": [\n          2,\n          3\n        ],\n        \"semantic_type\": \"\",\n        \"description\": \"\"\n      }\n    }\n  ]\n}",
              "type": "dataframe"
            },
            "text/html": [
              "\n",
              "  <div id=\"df-d942af8c-6c8c-4bf5-bd7b-5d01af1c2910\" class=\"colab-df-container\">\n",
              "    <div>\n",
              "<style scoped>\n",
              "    .dataframe tbody tr th:only-of-type {\n",
              "        vertical-align: middle;\n",
              "    }\n",
              "\n",
              "    .dataframe tbody tr th {\n",
              "        vertical-align: top;\n",
              "    }\n",
              "\n",
              "    .dataframe thead th {\n",
              "        text-align: right;\n",
              "    }\n",
              "</style>\n",
              "<table border=\"1\" class=\"dataframe\">\n",
              "  <thead>\n",
              "    <tr style=\"text-align: right;\">\n",
              "      <th></th>\n",
              "      <th>Text</th>\n",
              "      <th>count</th>\n",
              "    </tr>\n",
              "  </thead>\n",
              "  <tbody>\n",
              "    <tr>\n",
              "      <th>1</th>\n",
              "      <td>A compassionate rain, tears of empathy fallin...</td>\n",
              "      <td>3</td>\n",
              "    </tr>\n",
              "    <tr>\n",
              "      <th>4</th>\n",
              "      <td>A free spirit soaring on the wings of dreams,...</td>\n",
              "      <td>2</td>\n",
              "    </tr>\n",
              "    <tr>\n",
              "      <th>12</th>\n",
              "      <td>A playful escapade in the carnival of life, c...</td>\n",
              "      <td>3</td>\n",
              "    </tr>\n",
              "    <tr>\n",
              "      <th>40</th>\n",
              "      <td>Bathed in the golden hues of gratefulness, a ...</td>\n",
              "      <td>2</td>\n",
              "    </tr>\n",
              "    <tr>\n",
              "      <th>52</th>\n",
              "      <td>Charting a course through the waves of hopefu...</td>\n",
              "      <td>2</td>\n",
              "    </tr>\n",
              "    <tr>\n",
              "      <th>59</th>\n",
              "      <td>Confident strides in the dance of life, a bal...</td>\n",
              "      <td>2</td>\n",
              "    </tr>\n",
              "    <tr>\n",
              "      <th>81</th>\n",
              "      <td>Dismissive gestures, a curtain drawn to shiel...</td>\n",
              "      <td>2</td>\n",
              "    </tr>\n",
              "    <tr>\n",
              "      <th>93</th>\n",
              "      <td>Embraced by the hopeful dawn, a gardener sowi...</td>\n",
              "      <td>3</td>\n",
              "    </tr>\n",
              "    <tr>\n",
              "      <th>148</th>\n",
              "      <td>Floating on clouds of inspiration, an artist ...</td>\n",
              "      <td>2</td>\n",
              "    </tr>\n",
              "    <tr>\n",
              "      <th>176</th>\n",
              "      <td>Hopeful whispers of wind, carrying the promis...</td>\n",
              "      <td>2</td>\n",
              "    </tr>\n",
              "    <tr>\n",
              "      <th>203</th>\n",
              "      <td>Loneliness, a silent companion in the night, ...</td>\n",
              "      <td>2</td>\n",
              "    </tr>\n",
              "    <tr>\n",
              "      <th>213</th>\n",
              "      <td>Navigating the river of contentment, a serene...</td>\n",
              "      <td>2</td>\n",
              "    </tr>\n",
              "    <tr>\n",
              "      <th>230</th>\n",
              "      <td>Playfully juggling responsibilities, a circus...</td>\n",
              "      <td>2</td>\n",
              "    </tr>\n",
              "    <tr>\n",
              "      <th>237</th>\n",
              "      <td>Proudly scaling the peaks of achievement, a m...</td>\n",
              "      <td>3</td>\n",
              "    </tr>\n",
              "    <tr>\n",
              "      <th>267</th>\n",
              "      <td>Shattered dreams lie on the floor like fragme...</td>\n",
              "      <td>2</td>\n",
              "    </tr>\n",
              "    <tr>\n",
              "      <th>300</th>\n",
              "      <td>Whispering tales of inspiration to the stars,...</td>\n",
              "      <td>2</td>\n",
              "    </tr>\n",
              "    <tr>\n",
              "      <th>304</th>\n",
              "      <td>With empathy as a lantern, wandering through ...</td>\n",
              "      <td>2</td>\n",
              "    </tr>\n",
              "    <tr>\n",
              "      <th>501</th>\n",
              "      <td>Heartfelt gratitude for the laughter shared du...</td>\n",
              "      <td>2</td>\n",
              "    </tr>\n",
              "    <tr>\n",
              "      <th>617</th>\n",
              "      <td>Rejuvenated by the salty breeze and the sound ...</td>\n",
              "      <td>2</td>\n",
              "    </tr>\n",
              "    <tr>\n",
              "      <th>625</th>\n",
              "      <td>Savoring the warmth of a cup of cocoa on a chi...</td>\n",
              "      <td>2</td>\n",
              "    </tr>\n",
              "    <tr>\n",
              "      <th>699</th>\n",
              "      <td>Whispers of inspiration from the rustling leav...</td>\n",
              "      <td>2</td>\n",
              "    </tr>\n",
              "  </tbody>\n",
              "</table>\n",
              "</div>\n",
              "    <div class=\"colab-df-buttons\">\n",
              "\n",
              "  <div class=\"colab-df-container\">\n",
              "    <button class=\"colab-df-convert\" onclick=\"convertToInteractive('df-d942af8c-6c8c-4bf5-bd7b-5d01af1c2910')\"\n",
              "            title=\"Convert this dataframe to an interactive table.\"\n",
              "            style=\"display:none;\">\n",
              "\n",
              "  <svg xmlns=\"http://www.w3.org/2000/svg\" height=\"24px\" viewBox=\"0 -960 960 960\">\n",
              "    <path d=\"M120-120v-720h720v720H120Zm60-500h600v-160H180v160Zm220 220h160v-160H400v160Zm0 220h160v-160H400v160ZM180-400h160v-160H180v160Zm440 0h160v-160H620v160ZM180-180h160v-160H180v160Zm440 0h160v-160H620v160Z\"/>\n",
              "  </svg>\n",
              "    </button>\n",
              "\n",
              "  <style>\n",
              "    .colab-df-container {\n",
              "      display:flex;\n",
              "      gap: 12px;\n",
              "    }\n",
              "\n",
              "    .colab-df-convert {\n",
              "      background-color: #E8F0FE;\n",
              "      border: none;\n",
              "      border-radius: 50%;\n",
              "      cursor: pointer;\n",
              "      display: none;\n",
              "      fill: #1967D2;\n",
              "      height: 32px;\n",
              "      padding: 0 0 0 0;\n",
              "      width: 32px;\n",
              "    }\n",
              "\n",
              "    .colab-df-convert:hover {\n",
              "      background-color: #E2EBFA;\n",
              "      box-shadow: 0px 1px 2px rgba(60, 64, 67, 0.3), 0px 1px 3px 1px rgba(60, 64, 67, 0.15);\n",
              "      fill: #174EA6;\n",
              "    }\n",
              "\n",
              "    .colab-df-buttons div {\n",
              "      margin-bottom: 4px;\n",
              "    }\n",
              "\n",
              "    [theme=dark] .colab-df-convert {\n",
              "      background-color: #3B4455;\n",
              "      fill: #D2E3FC;\n",
              "    }\n",
              "\n",
              "    [theme=dark] .colab-df-convert:hover {\n",
              "      background-color: #434B5C;\n",
              "      box-shadow: 0px 1px 3px 1px rgba(0, 0, 0, 0.15);\n",
              "      filter: drop-shadow(0px 1px 2px rgba(0, 0, 0, 0.3));\n",
              "      fill: #FFFFFF;\n",
              "    }\n",
              "  </style>\n",
              "\n",
              "    <script>\n",
              "      const buttonEl =\n",
              "        document.querySelector('#df-d942af8c-6c8c-4bf5-bd7b-5d01af1c2910 button.colab-df-convert');\n",
              "      buttonEl.style.display =\n",
              "        google.colab.kernel.accessAllowed ? 'block' : 'none';\n",
              "\n",
              "      async function convertToInteractive(key) {\n",
              "        const element = document.querySelector('#df-d942af8c-6c8c-4bf5-bd7b-5d01af1c2910');\n",
              "        const dataTable =\n",
              "          await google.colab.kernel.invokeFunction('convertToInteractive',\n",
              "                                                    [key], {});\n",
              "        if (!dataTable) return;\n",
              "\n",
              "        const docLinkHtml = 'Like what you see? Visit the ' +\n",
              "          '<a target=\"_blank\" href=https://colab.research.google.com/notebooks/data_table.ipynb>data table notebook</a>'\n",
              "          + ' to learn more about interactive tables.';\n",
              "        element.innerHTML = '';\n",
              "        dataTable['output_type'] = 'display_data';\n",
              "        await google.colab.output.renderOutput(dataTable, element);\n",
              "        const docLink = document.createElement('div');\n",
              "        docLink.innerHTML = docLinkHtml;\n",
              "        element.appendChild(docLink);\n",
              "      }\n",
              "    </script>\n",
              "  </div>\n",
              "\n",
              "\n",
              "<div id=\"df-9320d3b7-f219-4770-b1b8-1fe3f316b58c\">\n",
              "  <button class=\"colab-df-quickchart\" onclick=\"quickchart('df-9320d3b7-f219-4770-b1b8-1fe3f316b58c')\"\n",
              "            title=\"Suggest charts\"\n",
              "            style=\"display:none;\">\n",
              "\n",
              "<svg xmlns=\"http://www.w3.org/2000/svg\" height=\"24px\"viewBox=\"0 0 24 24\"\n",
              "     width=\"24px\">\n",
              "    <g>\n",
              "        <path d=\"M19 3H5c-1.1 0-2 .9-2 2v14c0 1.1.9 2 2 2h14c1.1 0 2-.9 2-2V5c0-1.1-.9-2-2-2zM9 17H7v-7h2v7zm4 0h-2V7h2v10zm4 0h-2v-4h2v4z\"/>\n",
              "    </g>\n",
              "</svg>\n",
              "  </button>\n",
              "\n",
              "<style>\n",
              "  .colab-df-quickchart {\n",
              "      --bg-color: #E8F0FE;\n",
              "      --fill-color: #1967D2;\n",
              "      --hover-bg-color: #E2EBFA;\n",
              "      --hover-fill-color: #174EA6;\n",
              "      --disabled-fill-color: #AAA;\n",
              "      --disabled-bg-color: #DDD;\n",
              "  }\n",
              "\n",
              "  [theme=dark] .colab-df-quickchart {\n",
              "      --bg-color: #3B4455;\n",
              "      --fill-color: #D2E3FC;\n",
              "      --hover-bg-color: #434B5C;\n",
              "      --hover-fill-color: #FFFFFF;\n",
              "      --disabled-bg-color: #3B4455;\n",
              "      --disabled-fill-color: #666;\n",
              "  }\n",
              "\n",
              "  .colab-df-quickchart {\n",
              "    background-color: var(--bg-color);\n",
              "    border: none;\n",
              "    border-radius: 50%;\n",
              "    cursor: pointer;\n",
              "    display: none;\n",
              "    fill: var(--fill-color);\n",
              "    height: 32px;\n",
              "    padding: 0;\n",
              "    width: 32px;\n",
              "  }\n",
              "\n",
              "  .colab-df-quickchart:hover {\n",
              "    background-color: var(--hover-bg-color);\n",
              "    box-shadow: 0 1px 2px rgba(60, 64, 67, 0.3), 0 1px 3px 1px rgba(60, 64, 67, 0.15);\n",
              "    fill: var(--button-hover-fill-color);\n",
              "  }\n",
              "\n",
              "  .colab-df-quickchart-complete:disabled,\n",
              "  .colab-df-quickchart-complete:disabled:hover {\n",
              "    background-color: var(--disabled-bg-color);\n",
              "    fill: var(--disabled-fill-color);\n",
              "    box-shadow: none;\n",
              "  }\n",
              "\n",
              "  .colab-df-spinner {\n",
              "    border: 2px solid var(--fill-color);\n",
              "    border-color: transparent;\n",
              "    border-bottom-color: var(--fill-color);\n",
              "    animation:\n",
              "      spin 1s steps(1) infinite;\n",
              "  }\n",
              "\n",
              "  @keyframes spin {\n",
              "    0% {\n",
              "      border-color: transparent;\n",
              "      border-bottom-color: var(--fill-color);\n",
              "      border-left-color: var(--fill-color);\n",
              "    }\n",
              "    20% {\n",
              "      border-color: transparent;\n",
              "      border-left-color: var(--fill-color);\n",
              "      border-top-color: var(--fill-color);\n",
              "    }\n",
              "    30% {\n",
              "      border-color: transparent;\n",
              "      border-left-color: var(--fill-color);\n",
              "      border-top-color: var(--fill-color);\n",
              "      border-right-color: var(--fill-color);\n",
              "    }\n",
              "    40% {\n",
              "      border-color: transparent;\n",
              "      border-right-color: var(--fill-color);\n",
              "      border-top-color: var(--fill-color);\n",
              "    }\n",
              "    60% {\n",
              "      border-color: transparent;\n",
              "      border-right-color: var(--fill-color);\n",
              "    }\n",
              "    80% {\n",
              "      border-color: transparent;\n",
              "      border-right-color: var(--fill-color);\n",
              "      border-bottom-color: var(--fill-color);\n",
              "    }\n",
              "    90% {\n",
              "      border-color: transparent;\n",
              "      border-bottom-color: var(--fill-color);\n",
              "    }\n",
              "  }\n",
              "</style>\n",
              "\n",
              "  <script>\n",
              "    async function quickchart(key) {\n",
              "      const quickchartButtonEl =\n",
              "        document.querySelector('#' + key + ' button');\n",
              "      quickchartButtonEl.disabled = true;  // To prevent multiple clicks.\n",
              "      quickchartButtonEl.classList.add('colab-df-spinner');\n",
              "      try {\n",
              "        const charts = await google.colab.kernel.invokeFunction(\n",
              "            'suggestCharts', [key], {});\n",
              "      } catch (error) {\n",
              "        console.error('Error during call to suggestCharts:', error);\n",
              "      }\n",
              "      quickchartButtonEl.classList.remove('colab-df-spinner');\n",
              "      quickchartButtonEl.classList.add('colab-df-quickchart-complete');\n",
              "    }\n",
              "    (() => {\n",
              "      let quickchartButtonEl =\n",
              "        document.querySelector('#df-9320d3b7-f219-4770-b1b8-1fe3f316b58c button');\n",
              "      quickchartButtonEl.style.display =\n",
              "        google.colab.kernel.accessAllowed ? 'block' : 'none';\n",
              "    })();\n",
              "  </script>\n",
              "</div>\n",
              "\n",
              "    </div>\n",
              "  </div>\n"
            ],
            "text/plain": [
              "                                                  Text  count\n",
              "1     A compassionate rain, tears of empathy fallin...      3\n",
              "4     A free spirit soaring on the wings of dreams,...      2\n",
              "12    A playful escapade in the carnival of life, c...      3\n",
              "40    Bathed in the golden hues of gratefulness, a ...      2\n",
              "52    Charting a course through the waves of hopefu...      2\n",
              "59    Confident strides in the dance of life, a bal...      2\n",
              "81    Dismissive gestures, a curtain drawn to shiel...      2\n",
              "93    Embraced by the hopeful dawn, a gardener sowi...      3\n",
              "148   Floating on clouds of inspiration, an artist ...      2\n",
              "176   Hopeful whispers of wind, carrying the promis...      2\n",
              "203   Loneliness, a silent companion in the night, ...      2\n",
              "213   Navigating the river of contentment, a serene...      2\n",
              "230   Playfully juggling responsibilities, a circus...      2\n",
              "237   Proudly scaling the peaks of achievement, a m...      3\n",
              "267   Shattered dreams lie on the floor like fragme...      2\n",
              "300   Whispering tales of inspiration to the stars,...      2\n",
              "304   With empathy as a lantern, wandering through ...      2\n",
              "501  Heartfelt gratitude for the laughter shared du...      2\n",
              "617  Rejuvenated by the salty breeze and the sound ...      2\n",
              "625  Savoring the warmth of a cup of cocoa on a chi...      2\n",
              "699  Whispers of inspiration from the rustling leav...      2"
            ]
          },
          "execution_count": 61,
          "metadata": {},
          "output_type": "execute_result"
        }
      ],
      "source": [
        "# Filtering texts that appear more than once\n",
        "duplicate_texts = sentiment_data.groupby('Text').size().reset_index(name='count')\n",
        "duplicate_texts[duplicate_texts['count'] > 1]"
      ]
    },
    {
      "cell_type": "markdown",
      "metadata": {
        "id": "Z9dxTOxu7SRk"
      },
      "source": [
        "### Handling Duplicate Text Entries"
      ]
    },
    {
      "cell_type": "code",
      "execution_count": null,
      "metadata": {
        "id": "z5rqQIW47V5o"
      },
      "outputs": [],
      "source": [
        "# Keeping the first occurrence of each duplicate\n",
        "sentiment_data = sentiment_data.drop_duplicates(subset=['Text'], keep='first')"
      ]
    },
    {
      "cell_type": "code",
      "execution_count": null,
      "metadata": {
        "colab": {
          "base_uri": "https://localhost:8080/"
        },
        "id": "tSakR6E77YvH",
        "outputId": "8e967904-a6fa-4361-c727-acc91e51bb40"
      },
      "outputs": [
        {
          "name": "stdout",
          "output_type": "stream",
          "text": [
            "No. of Duplicate Text Entries (keeping only the first occurrence):  0\n"
          ]
        }
      ],
      "source": [
        "print(\"No. of Duplicate Text Entries (keeping only the first occurrence): \", sentiment_data['Text'].duplicated().sum())"
      ]
    },
    {
      "cell_type": "code",
      "execution_count": null,
      "metadata": {
        "colab": {
          "base_uri": "https://localhost:8080/"
        },
        "id": "N4-_B1zm7bgy",
        "outputId": "61735488-bb9c-4e83-a1d7-fca8e9d231bc"
      },
      "outputs": [
        {
          "name": "stdout",
          "output_type": "stream",
          "text": [
            "<class 'pandas.core.frame.DataFrame'>\n",
            "Index: 707 entries, 0 to 731\n",
            "Data columns (total 2 columns):\n",
            " #   Column     Non-Null Count  Dtype \n",
            "---  ------     --------------  ----- \n",
            " 0   Text       707 non-null    object\n",
            " 1   Sentiment  707 non-null    object\n",
            "dtypes: object(2)\n",
            "memory usage: 16.6+ KB\n"
          ]
        }
      ],
      "source": [
        "sentiment_data.info()"
      ]
    },
    {
      "cell_type": "markdown",
      "metadata": {
        "id": "f3Fkb3YSLHZ3"
      },
      "source": [
        "## Data Preprocessing"
      ]
    },
    {
      "cell_type": "markdown",
      "metadata": {
        "id": "RcZwx2FnMFgF"
      },
      "source": [
        "### Applying Preprocessing to all the texts"
      ]
    },
    {
      "cell_type": "code",
      "execution_count": null,
      "metadata": {
        "colab": {
          "base_uri": "https://localhost:8080/"
        },
        "id": "w9v-KX61bg4t",
        "outputId": "3f69f4b3-e66a-4b1c-b041-ea04812e9014"
      },
      "outputs": [
        {
          "name": "stderr",
          "output_type": "stream",
          "text": [
            "[nltk_data] Downloading package stopwords to /root/nltk_data...\n",
            "[nltk_data]   Package stopwords is already up-to-date!\n",
            "[nltk_data] Downloading package punkt_tab to /root/nltk_data...\n",
            "[nltk_data]   Package punkt_tab is already up-to-date!\n",
            "[nltk_data] Downloading package wordnet to /root/nltk_data...\n",
            "[nltk_data]   Package wordnet is already up-to-date!\n"
          ]
        }
      ],
      "source": [
        "nltk.download('stopwords')\n",
        "nltk.download('punkt_tab')\n",
        "nltk.download('wordnet')\n",
        "\n",
        "def preprocess_text(text):\n",
        "    text = re.sub(r'[^a-zA-Z\\s]', '', text)\n",
        "    text = text.lower()\n",
        "    tokens = word_tokenize(text)\n",
        "    tokens = [word for word in tokens if word not in stopwords.words('english')]\n",
        "    lemmatizer = WordNetLemmatizer()\n",
        "    tokens = [lemmatizer.lemmatize(word) for word in tokens]\n",
        "    return tokens\n",
        "\n",
        "sentiment_data['Tokenized Text'] = [preprocess_text(text) for text in sentiment_data['Text'].values]"
      ]
    },
    {
      "cell_type": "markdown",
      "metadata": {
        "id": "L_7kEIwwMbaO"
      },
      "source": [
        "### Dataset after Preprocessing/Tokenization of texts"
      ]
    },
    {
      "cell_type": "code",
      "execution_count": null,
      "metadata": {
        "colab": {
          "base_uri": "https://localhost:8080/",
          "height": 363
        },
        "id": "YrCYdmVYMlny",
        "outputId": "a846ed0e-0ede-4a98-b9bb-8dafdc030f7c"
      },
      "outputs": [
        {
          "data": {
            "application/vnd.google.colaboratory.intrinsic+json": {
              "summary": "{\n  \"name\": \"sentiment_data\",\n  \"rows\": 707,\n  \"fields\": [\n    {\n      \"column\": \"Text\",\n      \"properties\": {\n        \"dtype\": \"string\",\n        \"num_unique_values\": 707,\n        \"samples\": [\n          \"Walking the Great Wall of China, each step a testament to ancient engineering marvels. \",\n          \" Laughter is the key to joy\\u2014attending a stand-up comedy show. \",\n          \" The fear of the unknown is keeping me up at night.    \"\n        ],\n        \"semantic_type\": \"\",\n        \"description\": \"\"\n      }\n    },\n    {\n      \"column\": \"Sentiment\",\n      \"properties\": {\n        \"dtype\": \"category\",\n        \"num_unique_values\": 191,\n        \"samples\": [\n          \"Colorful\",\n          \"Devastated\",\n          \"Touched\"\n        ],\n        \"semantic_type\": \"\",\n        \"description\": \"\"\n      }\n    },\n    {\n      \"column\": \"Tokenized Text\",\n      \"properties\": {\n        \"dtype\": \"object\",\n        \"semantic_type\": \"\",\n        \"description\": \"\"\n      }\n    }\n  ]\n}",
              "type": "dataframe",
              "variable_name": "sentiment_data"
            },
            "text/html": [
              "\n",
              "  <div id=\"df-d801f59a-0266-4582-978b-59ebbed5f4ad\" class=\"colab-df-container\">\n",
              "    <div>\n",
              "<style scoped>\n",
              "    .dataframe tbody tr th:only-of-type {\n",
              "        vertical-align: middle;\n",
              "    }\n",
              "\n",
              "    .dataframe tbody tr th {\n",
              "        vertical-align: top;\n",
              "    }\n",
              "\n",
              "    .dataframe thead th {\n",
              "        text-align: right;\n",
              "    }\n",
              "</style>\n",
              "<table border=\"1\" class=\"dataframe\">\n",
              "  <thead>\n",
              "    <tr style=\"text-align: right;\">\n",
              "      <th></th>\n",
              "      <th>Text</th>\n",
              "      <th>Sentiment</th>\n",
              "      <th>Tokenized Text</th>\n",
              "    </tr>\n",
              "  </thead>\n",
              "  <tbody>\n",
              "    <tr>\n",
              "      <th>0</th>\n",
              "      <td>Enjoying a beautiful day at the park!        ...</td>\n",
              "      <td>Positive</td>\n",
              "      <td>[enjoying, beautiful, day, park]</td>\n",
              "    </tr>\n",
              "    <tr>\n",
              "      <th>1</th>\n",
              "      <td>Traffic was terrible this morning.           ...</td>\n",
              "      <td>Negative</td>\n",
              "      <td>[traffic, terrible, morning]</td>\n",
              "    </tr>\n",
              "    <tr>\n",
              "      <th>2</th>\n",
              "      <td>Just finished an amazing workout! 💪          ...</td>\n",
              "      <td>Positive</td>\n",
              "      <td>[finished, amazing, workout]</td>\n",
              "    </tr>\n",
              "    <tr>\n",
              "      <th>3</th>\n",
              "      <td>Excited about the upcoming weekend getaway!  ...</td>\n",
              "      <td>Positive</td>\n",
              "      <td>[excited, upcoming, weekend, getaway]</td>\n",
              "    </tr>\n",
              "    <tr>\n",
              "      <th>4</th>\n",
              "      <td>Trying out a new recipe for dinner tonight.  ...</td>\n",
              "      <td>Neutral</td>\n",
              "      <td>[trying, new, recipe, dinner, tonight]</td>\n",
              "    </tr>\n",
              "    <tr>\n",
              "      <th>5</th>\n",
              "      <td>Feeling grateful for the little things in lif...</td>\n",
              "      <td>Positive</td>\n",
              "      <td>[feeling, grateful, little, thing, life]</td>\n",
              "    </tr>\n",
              "    <tr>\n",
              "      <th>6</th>\n",
              "      <td>Rainy days call for cozy blankets and hot coc...</td>\n",
              "      <td>Positive</td>\n",
              "      <td>[rainy, day, call, cozy, blanket, hot, cocoa]</td>\n",
              "    </tr>\n",
              "    <tr>\n",
              "      <th>7</th>\n",
              "      <td>The new movie release is a must-watch!       ...</td>\n",
              "      <td>Positive</td>\n",
              "      <td>[new, movie, release, mustwatch]</td>\n",
              "    </tr>\n",
              "    <tr>\n",
              "      <th>8</th>\n",
              "      <td>Political discussions heating up on the timel...</td>\n",
              "      <td>Negative</td>\n",
              "      <td>[political, discussion, heating, timeline]</td>\n",
              "    </tr>\n",
              "    <tr>\n",
              "      <th>9</th>\n",
              "      <td>Missing summer vibes and beach days.         ...</td>\n",
              "      <td>Neutral</td>\n",
              "      <td>[missing, summer, vibe, beach, day]</td>\n",
              "    </tr>\n",
              "  </tbody>\n",
              "</table>\n",
              "</div>\n",
              "    <div class=\"colab-df-buttons\">\n",
              "\n",
              "  <div class=\"colab-df-container\">\n",
              "    <button class=\"colab-df-convert\" onclick=\"convertToInteractive('df-d801f59a-0266-4582-978b-59ebbed5f4ad')\"\n",
              "            title=\"Convert this dataframe to an interactive table.\"\n",
              "            style=\"display:none;\">\n",
              "\n",
              "  <svg xmlns=\"http://www.w3.org/2000/svg\" height=\"24px\" viewBox=\"0 -960 960 960\">\n",
              "    <path d=\"M120-120v-720h720v720H120Zm60-500h600v-160H180v160Zm220 220h160v-160H400v160Zm0 220h160v-160H400v160ZM180-400h160v-160H180v160Zm440 0h160v-160H620v160ZM180-180h160v-160H180v160Zm440 0h160v-160H620v160Z\"/>\n",
              "  </svg>\n",
              "    </button>\n",
              "\n",
              "  <style>\n",
              "    .colab-df-container {\n",
              "      display:flex;\n",
              "      gap: 12px;\n",
              "    }\n",
              "\n",
              "    .colab-df-convert {\n",
              "      background-color: #E8F0FE;\n",
              "      border: none;\n",
              "      border-radius: 50%;\n",
              "      cursor: pointer;\n",
              "      display: none;\n",
              "      fill: #1967D2;\n",
              "      height: 32px;\n",
              "      padding: 0 0 0 0;\n",
              "      width: 32px;\n",
              "    }\n",
              "\n",
              "    .colab-df-convert:hover {\n",
              "      background-color: #E2EBFA;\n",
              "      box-shadow: 0px 1px 2px rgba(60, 64, 67, 0.3), 0px 1px 3px 1px rgba(60, 64, 67, 0.15);\n",
              "      fill: #174EA6;\n",
              "    }\n",
              "\n",
              "    .colab-df-buttons div {\n",
              "      margin-bottom: 4px;\n",
              "    }\n",
              "\n",
              "    [theme=dark] .colab-df-convert {\n",
              "      background-color: #3B4455;\n",
              "      fill: #D2E3FC;\n",
              "    }\n",
              "\n",
              "    [theme=dark] .colab-df-convert:hover {\n",
              "      background-color: #434B5C;\n",
              "      box-shadow: 0px 1px 3px 1px rgba(0, 0, 0, 0.15);\n",
              "      filter: drop-shadow(0px 1px 2px rgba(0, 0, 0, 0.3));\n",
              "      fill: #FFFFFF;\n",
              "    }\n",
              "  </style>\n",
              "\n",
              "    <script>\n",
              "      const buttonEl =\n",
              "        document.querySelector('#df-d801f59a-0266-4582-978b-59ebbed5f4ad button.colab-df-convert');\n",
              "      buttonEl.style.display =\n",
              "        google.colab.kernel.accessAllowed ? 'block' : 'none';\n",
              "\n",
              "      async function convertToInteractive(key) {\n",
              "        const element = document.querySelector('#df-d801f59a-0266-4582-978b-59ebbed5f4ad');\n",
              "        const dataTable =\n",
              "          await google.colab.kernel.invokeFunction('convertToInteractive',\n",
              "                                                    [key], {});\n",
              "        if (!dataTable) return;\n",
              "\n",
              "        const docLinkHtml = 'Like what you see? Visit the ' +\n",
              "          '<a target=\"_blank\" href=https://colab.research.google.com/notebooks/data_table.ipynb>data table notebook</a>'\n",
              "          + ' to learn more about interactive tables.';\n",
              "        element.innerHTML = '';\n",
              "        dataTable['output_type'] = 'display_data';\n",
              "        await google.colab.output.renderOutput(dataTable, element);\n",
              "        const docLink = document.createElement('div');\n",
              "        docLink.innerHTML = docLinkHtml;\n",
              "        element.appendChild(docLink);\n",
              "      }\n",
              "    </script>\n",
              "  </div>\n",
              "\n",
              "\n",
              "<div id=\"df-e57c92f6-dad2-4b64-a7eb-57c3fddf6f7b\">\n",
              "  <button class=\"colab-df-quickchart\" onclick=\"quickchart('df-e57c92f6-dad2-4b64-a7eb-57c3fddf6f7b')\"\n",
              "            title=\"Suggest charts\"\n",
              "            style=\"display:none;\">\n",
              "\n",
              "<svg xmlns=\"http://www.w3.org/2000/svg\" height=\"24px\"viewBox=\"0 0 24 24\"\n",
              "     width=\"24px\">\n",
              "    <g>\n",
              "        <path d=\"M19 3H5c-1.1 0-2 .9-2 2v14c0 1.1.9 2 2 2h14c1.1 0 2-.9 2-2V5c0-1.1-.9-2-2-2zM9 17H7v-7h2v7zm4 0h-2V7h2v10zm4 0h-2v-4h2v4z\"/>\n",
              "    </g>\n",
              "</svg>\n",
              "  </button>\n",
              "\n",
              "<style>\n",
              "  .colab-df-quickchart {\n",
              "      --bg-color: #E8F0FE;\n",
              "      --fill-color: #1967D2;\n",
              "      --hover-bg-color: #E2EBFA;\n",
              "      --hover-fill-color: #174EA6;\n",
              "      --disabled-fill-color: #AAA;\n",
              "      --disabled-bg-color: #DDD;\n",
              "  }\n",
              "\n",
              "  [theme=dark] .colab-df-quickchart {\n",
              "      --bg-color: #3B4455;\n",
              "      --fill-color: #D2E3FC;\n",
              "      --hover-bg-color: #434B5C;\n",
              "      --hover-fill-color: #FFFFFF;\n",
              "      --disabled-bg-color: #3B4455;\n",
              "      --disabled-fill-color: #666;\n",
              "  }\n",
              "\n",
              "  .colab-df-quickchart {\n",
              "    background-color: var(--bg-color);\n",
              "    border: none;\n",
              "    border-radius: 50%;\n",
              "    cursor: pointer;\n",
              "    display: none;\n",
              "    fill: var(--fill-color);\n",
              "    height: 32px;\n",
              "    padding: 0;\n",
              "    width: 32px;\n",
              "  }\n",
              "\n",
              "  .colab-df-quickchart:hover {\n",
              "    background-color: var(--hover-bg-color);\n",
              "    box-shadow: 0 1px 2px rgba(60, 64, 67, 0.3), 0 1px 3px 1px rgba(60, 64, 67, 0.15);\n",
              "    fill: var(--button-hover-fill-color);\n",
              "  }\n",
              "\n",
              "  .colab-df-quickchart-complete:disabled,\n",
              "  .colab-df-quickchart-complete:disabled:hover {\n",
              "    background-color: var(--disabled-bg-color);\n",
              "    fill: var(--disabled-fill-color);\n",
              "    box-shadow: none;\n",
              "  }\n",
              "\n",
              "  .colab-df-spinner {\n",
              "    border: 2px solid var(--fill-color);\n",
              "    border-color: transparent;\n",
              "    border-bottom-color: var(--fill-color);\n",
              "    animation:\n",
              "      spin 1s steps(1) infinite;\n",
              "  }\n",
              "\n",
              "  @keyframes spin {\n",
              "    0% {\n",
              "      border-color: transparent;\n",
              "      border-bottom-color: var(--fill-color);\n",
              "      border-left-color: var(--fill-color);\n",
              "    }\n",
              "    20% {\n",
              "      border-color: transparent;\n",
              "      border-left-color: var(--fill-color);\n",
              "      border-top-color: var(--fill-color);\n",
              "    }\n",
              "    30% {\n",
              "      border-color: transparent;\n",
              "      border-left-color: var(--fill-color);\n",
              "      border-top-color: var(--fill-color);\n",
              "      border-right-color: var(--fill-color);\n",
              "    }\n",
              "    40% {\n",
              "      border-color: transparent;\n",
              "      border-right-color: var(--fill-color);\n",
              "      border-top-color: var(--fill-color);\n",
              "    }\n",
              "    60% {\n",
              "      border-color: transparent;\n",
              "      border-right-color: var(--fill-color);\n",
              "    }\n",
              "    80% {\n",
              "      border-color: transparent;\n",
              "      border-right-color: var(--fill-color);\n",
              "      border-bottom-color: var(--fill-color);\n",
              "    }\n",
              "    90% {\n",
              "      border-color: transparent;\n",
              "      border-bottom-color: var(--fill-color);\n",
              "    }\n",
              "  }\n",
              "</style>\n",
              "\n",
              "  <script>\n",
              "    async function quickchart(key) {\n",
              "      const quickchartButtonEl =\n",
              "        document.querySelector('#' + key + ' button');\n",
              "      quickchartButtonEl.disabled = true;  // To prevent multiple clicks.\n",
              "      quickchartButtonEl.classList.add('colab-df-spinner');\n",
              "      try {\n",
              "        const charts = await google.colab.kernel.invokeFunction(\n",
              "            'suggestCharts', [key], {});\n",
              "      } catch (error) {\n",
              "        console.error('Error during call to suggestCharts:', error);\n",
              "      }\n",
              "      quickchartButtonEl.classList.remove('colab-df-spinner');\n",
              "      quickchartButtonEl.classList.add('colab-df-quickchart-complete');\n",
              "    }\n",
              "    (() => {\n",
              "      let quickchartButtonEl =\n",
              "        document.querySelector('#df-e57c92f6-dad2-4b64-a7eb-57c3fddf6f7b button');\n",
              "      quickchartButtonEl.style.display =\n",
              "        google.colab.kernel.accessAllowed ? 'block' : 'none';\n",
              "    })();\n",
              "  </script>\n",
              "</div>\n",
              "\n",
              "    </div>\n",
              "  </div>\n"
            ],
            "text/plain": [
              "                                                Text Sentiment  \\\n",
              "0   Enjoying a beautiful day at the park!        ...  Positive   \n",
              "1   Traffic was terrible this morning.           ...  Negative   \n",
              "2   Just finished an amazing workout! 💪          ...  Positive   \n",
              "3   Excited about the upcoming weekend getaway!  ...  Positive   \n",
              "4   Trying out a new recipe for dinner tonight.  ...   Neutral   \n",
              "5   Feeling grateful for the little things in lif...  Positive   \n",
              "6   Rainy days call for cozy blankets and hot coc...  Positive   \n",
              "7   The new movie release is a must-watch!       ...  Positive   \n",
              "8   Political discussions heating up on the timel...  Negative   \n",
              "9   Missing summer vibes and beach days.         ...   Neutral   \n",
              "\n",
              "                                  Tokenized Text  \n",
              "0               [enjoying, beautiful, day, park]  \n",
              "1                   [traffic, terrible, morning]  \n",
              "2                   [finished, amazing, workout]  \n",
              "3          [excited, upcoming, weekend, getaway]  \n",
              "4         [trying, new, recipe, dinner, tonight]  \n",
              "5       [feeling, grateful, little, thing, life]  \n",
              "6  [rainy, day, call, cozy, blanket, hot, cocoa]  \n",
              "7               [new, movie, release, mustwatch]  \n",
              "8     [political, discussion, heating, timeline]  \n",
              "9            [missing, summer, vibe, beach, day]  "
            ]
          },
          "execution_count": 66,
          "metadata": {},
          "output_type": "execute_result"
        }
      ],
      "source": [
        "sentiment_data.head(10)"
      ]
    },
    {
      "cell_type": "markdown",
      "metadata": {
        "id": "EohEHjrLugux"
      },
      "source": [
        "### Handling the High No. of Sentiments"
      ]
    },
    {
      "cell_type": "code",
      "execution_count": null,
      "metadata": {
        "id": "45dgkPokulwR"
      },
      "outputs": [],
      "source": [
        "positive = {\n",
        "    \"Acceptance\", \"Accomplishment\", \"Admiration\", \"Adoration\", \"Affection\", \"Amazement\",\n",
        "    \"Appreciation\", \"Blessed\", \"Breakthrough\", \"Calmness\", \"Celebration\", \"Charm\",\n",
        "    \"Compassion\", \"Confidence\", \"Contentment\", \"Creativity\", \"Curiosity\", \"Dazzle\",\n",
        "    \"Determination\", \"Ecstasy\", \"Elation\", \"Elegance\", \"Empowerment\", \"Enchantment\",\n",
        "    \"Engagement\", \"Enjoyment\", \"Enthusiasm\", \"Euphoria\", \"Excitement\", \"FestiveJoy\",\n",
        "    \"Freedom\", \"Friendship\", \"Fulfillment\", \"Grateful\", \"Gratitude\", \"Happiness\",\n",
        "    \"Happy\", \"Harmony\", \"Heartwarming\", \"Hope\", \"Hopeful\", \"Inspiration\", \"Inspired\",\n",
        "    \"Joy\", \"Kindness\", \"Love\", \"Marvel\", \"Motivation\", \"Optimism\", \"Overjoyed\",\n",
        "    \"Playful\", \"Positivity\", \"Pride\", \"Proud\", \"Radiance\", \"Rejuvenation\", \"Relief\",\n",
        "    \"Resilience\", \"Romance\", \"Satisfaction\", \"Serenity\", \"Success\", \"Thrill\",\n",
        "    \"Tranquility\", \"Triumph\", \"Vibrancy\", \"Wonder\", \"Wonderment\", \"Positive\", \"Amusement\",\n",
        "    \"Awe\", \"Compassionate\", \"JoyfulReunion\", \"Colorful\", \"PlayfulJoy\", \"Confident\",\n",
        "    \"Celestial Wonder\", \"Spark\",  \"Thrilling Journey\", \"Whimsy\", \"Touched\",\n",
        "    \"Adrenaline\", \"Exploration\", \"Hypnotic\", \"Energy\", \"Tenderness\",\n",
        "    \"Free-spirited\", \"Grandeur\", \"Zest\", \"Kind\",\n",
        "    \"Adventure\"\n",
        "}\n",
        "\n",
        "negative = {\n",
        "    \"Anger\", \"Anxiety\", \"Bad\", \"Betrayal\", \"Bitter\", \"Bitterness\", \"Bittersweet\",\n",
        "    \"Darkness\", \"Desolation\", \"Despair\", \"Desperation\", \"Devastated\", \"Disappointed\",\n",
        "    \"Disappointment\", \"Disgust\", \"Frustration\", \"Grief\", \"Hate\", \"Heartache\",\n",
        "    \"Heartbreak\", \"Helplessness\", \"Intimidation\", \"Isolation\", \"Jealous\", \"Jealousy\",\n",
        "    \"Loneliness\", \"Loss\", \"LostLove\", \"Melancholy\",  \"Numbness\",\n",
        "    \"Overwhelmed\", \"Regret\", \"Resentment\", \"Ruins\", \"Sad\", \"Sadness\", \"Shame\", \"Sorrow\",\n",
        "    \"Suffering\",  \"Sympathy\",  \"Fear\", \"Fearful\", \"Negative\",\n",
        "    \"Mischievous\", \"Embarrassed\", \"Envy\", \"Envious\", \"Dismissive\", \"Frustrated\",\n",
        "    \"Apprehensive\", \"Pensive\", \"Exhaustion\", \"Indifference\", \"Confusion\", \"Solace\", \"Suspense\",\"Yearning\"\n",
        "}\n",
        "\n",
        "neutral = {\n",
        "    \"Ambivalence\", \"Anticipation\", \"Arousal\", \"ArtisticBurst\", \"Boredom\",\"Miscalculation\",\n",
        "    \"Captivation\", \"Challenge\", \"Connection\", \"Contemplation\", \"Coziness\",\n",
        "    \"Creative Inspiration\", \"Culinary Adventure\", \"CulinaryOdyssey\", \"Emotion\",\n",
        "    \"EmotionalStorm\", \"Empathetic\", \"Envisioning History\", \"Iconic\", \"Immersion\",\n",
        "    \"InnerJourney\", \"Journey\", \"Melodic\", \"Mesmerizing\", \"Mindfulness\",\n",
        "    \"Nature's Beauty\", \"Neutral\", \"Nostalgia\", \"Obstacle\", \"Ocean's Freedom\",\n",
        "    \"Pressure\", \"Reflection\", \"Renewed Effort\", \"Reverence\", \"Runway Creativity\",\n",
        "    \"Serenity\", \"Solitude\", \"Surprise\", \"Whispers of the Past\", \"Winter Magic\",\n",
        "    \"Intrigue\", \"DreamChaser\", \"Joy in Baking\",\"Imagination\"\n",
        "}"
      ]
    },
    {
      "cell_type": "code",
      "execution_count": null,
      "metadata": {
        "colab": {
          "base_uri": "https://localhost:8080/"
        },
        "id": "YRzVZZbmutfY",
        "outputId": "018e26fd-9d42-4b2c-b98a-3be269bca7bd"
      },
      "outputs": [
        {
          "name": "stdout",
          "output_type": "stream",
          "text": [
            "Category\n",
            "Positive    412\n",
            "Negative    197\n",
            "Neutral      98\n",
            "Name: count, dtype: int64\n"
          ]
        }
      ],
      "source": [
        "def classify_sentiment(sentiment):\n",
        "    if sentiment in positive:\n",
        "        return 'Positive'\n",
        "    elif sentiment in neutral:\n",
        "        return 'Neutral'\n",
        "    elif sentiment in negative:\n",
        "        return 'Negative'\n",
        "    else:\n",
        "        return 'Neutral'\n",
        "\n",
        "sentiment_data['Category'] = sentiment_data['Sentiment'].apply(classify_sentiment)\n",
        "\n",
        "print(sentiment_data['Category'].value_counts())"
      ]
    },
    {
      "cell_type": "markdown",
      "metadata": {
        "id": "dIlJxmvSLKpR"
      },
      "source": [
        "### Encoding the sentiment labels"
      ]
    },
    {
      "cell_type": "code",
      "execution_count": null,
      "metadata": {
        "colab": {
          "base_uri": "https://localhost:8080/"
        },
        "id": "oe0OGIbFvvtA",
        "outputId": "887dda6b-4865-4f0b-d145-2688073da66e"
      },
      "outputs": [
        {
          "name": "stdout",
          "output_type": "stream",
          "text": [
            "\n",
            "Final Sentiment Labels: ['Negative' 'Neutral' 'Positive']\n"
          ]
        }
      ],
      "source": [
        "le = LabelEncoder()\n",
        "sentiment_data['Category'] = le.fit_transform(sentiment_data['Category'])\n",
        "\n",
        "print(\"\\nFinal Sentiment Labels:\", le.classes_)"
      ]
    },
    {
      "cell_type": "code",
      "execution_count": null,
      "metadata": {
        "colab": {
          "base_uri": "https://localhost:8080/",
          "height": 206
        },
        "id": "oLYmJV7KwiN5",
        "outputId": "284eb689-3a64-4349-f3d9-e4a9f382829a"
      },
      "outputs": [
        {
          "data": {
            "application/vnd.google.colaboratory.intrinsic+json": {
              "summary": "{\n  \"name\": \"sentiment_data\",\n  \"rows\": 707,\n  \"fields\": [\n    {\n      \"column\": \"Text\",\n      \"properties\": {\n        \"dtype\": \"string\",\n        \"num_unique_values\": 707,\n        \"samples\": [\n          \"Walking the Great Wall of China, each step a testament to ancient engineering marvels. \",\n          \" Laughter is the key to joy\\u2014attending a stand-up comedy show. \",\n          \" The fear of the unknown is keeping me up at night.    \"\n        ],\n        \"semantic_type\": \"\",\n        \"description\": \"\"\n      }\n    },\n    {\n      \"column\": \"Sentiment\",\n      \"properties\": {\n        \"dtype\": \"category\",\n        \"num_unique_values\": 191,\n        \"samples\": [\n          \"Colorful\",\n          \"Devastated\",\n          \"Touched\"\n        ],\n        \"semantic_type\": \"\",\n        \"description\": \"\"\n      }\n    },\n    {\n      \"column\": \"Tokenized Text\",\n      \"properties\": {\n        \"dtype\": \"object\",\n        \"semantic_type\": \"\",\n        \"description\": \"\"\n      }\n    },\n    {\n      \"column\": \"Category\",\n      \"properties\": {\n        \"dtype\": \"number\",\n        \"std\": 0,\n        \"min\": 0,\n        \"max\": 2,\n        \"num_unique_values\": 3,\n        \"samples\": [\n          2,\n          0,\n          1\n        ],\n        \"semantic_type\": \"\",\n        \"description\": \"\"\n      }\n    }\n  ]\n}",
              "type": "dataframe",
              "variable_name": "sentiment_data"
            },
            "text/html": [
              "\n",
              "  <div id=\"df-1993faae-cd5e-475f-8e7c-114dfe319ef6\" class=\"colab-df-container\">\n",
              "    <div>\n",
              "<style scoped>\n",
              "    .dataframe tbody tr th:only-of-type {\n",
              "        vertical-align: middle;\n",
              "    }\n",
              "\n",
              "    .dataframe tbody tr th {\n",
              "        vertical-align: top;\n",
              "    }\n",
              "\n",
              "    .dataframe thead th {\n",
              "        text-align: right;\n",
              "    }\n",
              "</style>\n",
              "<table border=\"1\" class=\"dataframe\">\n",
              "  <thead>\n",
              "    <tr style=\"text-align: right;\">\n",
              "      <th></th>\n",
              "      <th>Text</th>\n",
              "      <th>Sentiment</th>\n",
              "      <th>Tokenized Text</th>\n",
              "      <th>Category</th>\n",
              "    </tr>\n",
              "  </thead>\n",
              "  <tbody>\n",
              "    <tr>\n",
              "      <th>0</th>\n",
              "      <td>Enjoying a beautiful day at the park!        ...</td>\n",
              "      <td>Positive</td>\n",
              "      <td>[enjoying, beautiful, day, park]</td>\n",
              "      <td>2</td>\n",
              "    </tr>\n",
              "    <tr>\n",
              "      <th>1</th>\n",
              "      <td>Traffic was terrible this morning.           ...</td>\n",
              "      <td>Negative</td>\n",
              "      <td>[traffic, terrible, morning]</td>\n",
              "      <td>0</td>\n",
              "    </tr>\n",
              "    <tr>\n",
              "      <th>2</th>\n",
              "      <td>Just finished an amazing workout! 💪          ...</td>\n",
              "      <td>Positive</td>\n",
              "      <td>[finished, amazing, workout]</td>\n",
              "      <td>2</td>\n",
              "    </tr>\n",
              "    <tr>\n",
              "      <th>3</th>\n",
              "      <td>Excited about the upcoming weekend getaway!  ...</td>\n",
              "      <td>Positive</td>\n",
              "      <td>[excited, upcoming, weekend, getaway]</td>\n",
              "      <td>2</td>\n",
              "    </tr>\n",
              "    <tr>\n",
              "      <th>4</th>\n",
              "      <td>Trying out a new recipe for dinner tonight.  ...</td>\n",
              "      <td>Neutral</td>\n",
              "      <td>[trying, new, recipe, dinner, tonight]</td>\n",
              "      <td>1</td>\n",
              "    </tr>\n",
              "  </tbody>\n",
              "</table>\n",
              "</div>\n",
              "    <div class=\"colab-df-buttons\">\n",
              "\n",
              "  <div class=\"colab-df-container\">\n",
              "    <button class=\"colab-df-convert\" onclick=\"convertToInteractive('df-1993faae-cd5e-475f-8e7c-114dfe319ef6')\"\n",
              "            title=\"Convert this dataframe to an interactive table.\"\n",
              "            style=\"display:none;\">\n",
              "\n",
              "  <svg xmlns=\"http://www.w3.org/2000/svg\" height=\"24px\" viewBox=\"0 -960 960 960\">\n",
              "    <path d=\"M120-120v-720h720v720H120Zm60-500h600v-160H180v160Zm220 220h160v-160H400v160Zm0 220h160v-160H400v160ZM180-400h160v-160H180v160Zm440 0h160v-160H620v160ZM180-180h160v-160H180v160Zm440 0h160v-160H620v160Z\"/>\n",
              "  </svg>\n",
              "    </button>\n",
              "\n",
              "  <style>\n",
              "    .colab-df-container {\n",
              "      display:flex;\n",
              "      gap: 12px;\n",
              "    }\n",
              "\n",
              "    .colab-df-convert {\n",
              "      background-color: #E8F0FE;\n",
              "      border: none;\n",
              "      border-radius: 50%;\n",
              "      cursor: pointer;\n",
              "      display: none;\n",
              "      fill: #1967D2;\n",
              "      height: 32px;\n",
              "      padding: 0 0 0 0;\n",
              "      width: 32px;\n",
              "    }\n",
              "\n",
              "    .colab-df-convert:hover {\n",
              "      background-color: #E2EBFA;\n",
              "      box-shadow: 0px 1px 2px rgba(60, 64, 67, 0.3), 0px 1px 3px 1px rgba(60, 64, 67, 0.15);\n",
              "      fill: #174EA6;\n",
              "    }\n",
              "\n",
              "    .colab-df-buttons div {\n",
              "      margin-bottom: 4px;\n",
              "    }\n",
              "\n",
              "    [theme=dark] .colab-df-convert {\n",
              "      background-color: #3B4455;\n",
              "      fill: #D2E3FC;\n",
              "    }\n",
              "\n",
              "    [theme=dark] .colab-df-convert:hover {\n",
              "      background-color: #434B5C;\n",
              "      box-shadow: 0px 1px 3px 1px rgba(0, 0, 0, 0.15);\n",
              "      filter: drop-shadow(0px 1px 2px rgba(0, 0, 0, 0.3));\n",
              "      fill: #FFFFFF;\n",
              "    }\n",
              "  </style>\n",
              "\n",
              "    <script>\n",
              "      const buttonEl =\n",
              "        document.querySelector('#df-1993faae-cd5e-475f-8e7c-114dfe319ef6 button.colab-df-convert');\n",
              "      buttonEl.style.display =\n",
              "        google.colab.kernel.accessAllowed ? 'block' : 'none';\n",
              "\n",
              "      async function convertToInteractive(key) {\n",
              "        const element = document.querySelector('#df-1993faae-cd5e-475f-8e7c-114dfe319ef6');\n",
              "        const dataTable =\n",
              "          await google.colab.kernel.invokeFunction('convertToInteractive',\n",
              "                                                    [key], {});\n",
              "        if (!dataTable) return;\n",
              "\n",
              "        const docLinkHtml = 'Like what you see? Visit the ' +\n",
              "          '<a target=\"_blank\" href=https://colab.research.google.com/notebooks/data_table.ipynb>data table notebook</a>'\n",
              "          + ' to learn more about interactive tables.';\n",
              "        element.innerHTML = '';\n",
              "        dataTable['output_type'] = 'display_data';\n",
              "        await google.colab.output.renderOutput(dataTable, element);\n",
              "        const docLink = document.createElement('div');\n",
              "        docLink.innerHTML = docLinkHtml;\n",
              "        element.appendChild(docLink);\n",
              "      }\n",
              "    </script>\n",
              "  </div>\n",
              "\n",
              "\n",
              "<div id=\"df-af4d1e18-289e-4d9f-a1b2-1c939436a77a\">\n",
              "  <button class=\"colab-df-quickchart\" onclick=\"quickchart('df-af4d1e18-289e-4d9f-a1b2-1c939436a77a')\"\n",
              "            title=\"Suggest charts\"\n",
              "            style=\"display:none;\">\n",
              "\n",
              "<svg xmlns=\"http://www.w3.org/2000/svg\" height=\"24px\"viewBox=\"0 0 24 24\"\n",
              "     width=\"24px\">\n",
              "    <g>\n",
              "        <path d=\"M19 3H5c-1.1 0-2 .9-2 2v14c0 1.1.9 2 2 2h14c1.1 0 2-.9 2-2V5c0-1.1-.9-2-2-2zM9 17H7v-7h2v7zm4 0h-2V7h2v10zm4 0h-2v-4h2v4z\"/>\n",
              "    </g>\n",
              "</svg>\n",
              "  </button>\n",
              "\n",
              "<style>\n",
              "  .colab-df-quickchart {\n",
              "      --bg-color: #E8F0FE;\n",
              "      --fill-color: #1967D2;\n",
              "      --hover-bg-color: #E2EBFA;\n",
              "      --hover-fill-color: #174EA6;\n",
              "      --disabled-fill-color: #AAA;\n",
              "      --disabled-bg-color: #DDD;\n",
              "  }\n",
              "\n",
              "  [theme=dark] .colab-df-quickchart {\n",
              "      --bg-color: #3B4455;\n",
              "      --fill-color: #D2E3FC;\n",
              "      --hover-bg-color: #434B5C;\n",
              "      --hover-fill-color: #FFFFFF;\n",
              "      --disabled-bg-color: #3B4455;\n",
              "      --disabled-fill-color: #666;\n",
              "  }\n",
              "\n",
              "  .colab-df-quickchart {\n",
              "    background-color: var(--bg-color);\n",
              "    border: none;\n",
              "    border-radius: 50%;\n",
              "    cursor: pointer;\n",
              "    display: none;\n",
              "    fill: var(--fill-color);\n",
              "    height: 32px;\n",
              "    padding: 0;\n",
              "    width: 32px;\n",
              "  }\n",
              "\n",
              "  .colab-df-quickchart:hover {\n",
              "    background-color: var(--hover-bg-color);\n",
              "    box-shadow: 0 1px 2px rgba(60, 64, 67, 0.3), 0 1px 3px 1px rgba(60, 64, 67, 0.15);\n",
              "    fill: var(--button-hover-fill-color);\n",
              "  }\n",
              "\n",
              "  .colab-df-quickchart-complete:disabled,\n",
              "  .colab-df-quickchart-complete:disabled:hover {\n",
              "    background-color: var(--disabled-bg-color);\n",
              "    fill: var(--disabled-fill-color);\n",
              "    box-shadow: none;\n",
              "  }\n",
              "\n",
              "  .colab-df-spinner {\n",
              "    border: 2px solid var(--fill-color);\n",
              "    border-color: transparent;\n",
              "    border-bottom-color: var(--fill-color);\n",
              "    animation:\n",
              "      spin 1s steps(1) infinite;\n",
              "  }\n",
              "\n",
              "  @keyframes spin {\n",
              "    0% {\n",
              "      border-color: transparent;\n",
              "      border-bottom-color: var(--fill-color);\n",
              "      border-left-color: var(--fill-color);\n",
              "    }\n",
              "    20% {\n",
              "      border-color: transparent;\n",
              "      border-left-color: var(--fill-color);\n",
              "      border-top-color: var(--fill-color);\n",
              "    }\n",
              "    30% {\n",
              "      border-color: transparent;\n",
              "      border-left-color: var(--fill-color);\n",
              "      border-top-color: var(--fill-color);\n",
              "      border-right-color: var(--fill-color);\n",
              "    }\n",
              "    40% {\n",
              "      border-color: transparent;\n",
              "      border-right-color: var(--fill-color);\n",
              "      border-top-color: var(--fill-color);\n",
              "    }\n",
              "    60% {\n",
              "      border-color: transparent;\n",
              "      border-right-color: var(--fill-color);\n",
              "    }\n",
              "    80% {\n",
              "      border-color: transparent;\n",
              "      border-right-color: var(--fill-color);\n",
              "      border-bottom-color: var(--fill-color);\n",
              "    }\n",
              "    90% {\n",
              "      border-color: transparent;\n",
              "      border-bottom-color: var(--fill-color);\n",
              "    }\n",
              "  }\n",
              "</style>\n",
              "\n",
              "  <script>\n",
              "    async function quickchart(key) {\n",
              "      const quickchartButtonEl =\n",
              "        document.querySelector('#' + key + ' button');\n",
              "      quickchartButtonEl.disabled = true;  // To prevent multiple clicks.\n",
              "      quickchartButtonEl.classList.add('colab-df-spinner');\n",
              "      try {\n",
              "        const charts = await google.colab.kernel.invokeFunction(\n",
              "            'suggestCharts', [key], {});\n",
              "      } catch (error) {\n",
              "        console.error('Error during call to suggestCharts:', error);\n",
              "      }\n",
              "      quickchartButtonEl.classList.remove('colab-df-spinner');\n",
              "      quickchartButtonEl.classList.add('colab-df-quickchart-complete');\n",
              "    }\n",
              "    (() => {\n",
              "      let quickchartButtonEl =\n",
              "        document.querySelector('#df-af4d1e18-289e-4d9f-a1b2-1c939436a77a button');\n",
              "      quickchartButtonEl.style.display =\n",
              "        google.colab.kernel.accessAllowed ? 'block' : 'none';\n",
              "    })();\n",
              "  </script>\n",
              "</div>\n",
              "\n",
              "    </div>\n",
              "  </div>\n"
            ],
            "text/plain": [
              "                                                Text Sentiment  \\\n",
              "0   Enjoying a beautiful day at the park!        ...  Positive   \n",
              "1   Traffic was terrible this morning.           ...  Negative   \n",
              "2   Just finished an amazing workout! 💪          ...  Positive   \n",
              "3   Excited about the upcoming weekend getaway!  ...  Positive   \n",
              "4   Trying out a new recipe for dinner tonight.  ...   Neutral   \n",
              "\n",
              "                           Tokenized Text  Category  \n",
              "0        [enjoying, beautiful, day, park]         2  \n",
              "1            [traffic, terrible, morning]         0  \n",
              "2            [finished, amazing, workout]         2  \n",
              "3   [excited, upcoming, weekend, getaway]         2  \n",
              "4  [trying, new, recipe, dinner, tonight]         1  "
            ]
          },
          "execution_count": 70,
          "metadata": {},
          "output_type": "execute_result"
        }
      ],
      "source": [
        "sentiment_data.head()"
      ]
    },
    {
      "cell_type": "markdown",
      "metadata": {
        "id": "M6gOG7ioaQC6"
      },
      "source": [
        "### Extracting the Relevant Columns"
      ]
    },
    {
      "cell_type": "code",
      "execution_count": null,
      "metadata": {
        "id": "97EzNH4raTvn"
      },
      "outputs": [],
      "source": [
        "tokenized_texts = sentiment_data['Tokenized Text'].values\n",
        "labels = sentiment_data['Category'].values"
      ]
    },
    {
      "cell_type": "markdown",
      "metadata": {
        "id": "3W-KUBFoOO6I"
      },
      "source": [
        "### Text Vectorization Using GloVe Model"
      ]
    },
    {
      "cell_type": "code",
      "execution_count": null,
      "metadata": {
        "id": "s8o_34LSEtZr"
      },
      "outputs": [],
      "source": [
        "def load_glove_embeddings(glove_path):\n",
        "    embeddings = {}\n",
        "    with open(glove_path, 'r', encoding='utf-8') as f:\n",
        "        for line in f:\n",
        "            values = line.split()\n",
        "            word = values[0]\n",
        "            vector = np.array(values[1:], dtype='float32')\n",
        "            embeddings[word] = vector\n",
        "    return embeddings\n",
        "\n",
        "# Load GloVe embeddings\n",
        "glove_path = 'glove.6B.300d.txt'\n",
        "glove_embeddings = load_glove_embeddings(glove_path)"
      ]
    },
    {
      "cell_type": "code",
      "execution_count": null,
      "metadata": {
        "colab": {
          "base_uri": "https://localhost:8080/"
        },
        "id": "So-aelSoOePa",
        "outputId": "43aed98b-855f-4513-a47f-d042986f763a"
      },
      "outputs": [
        {
          "data": {
            "text/plain": [
              "array([ 0.0030412,  0.45059  , -0.013381 ,  0.30563  ,  0.30148  ,\n",
              "        0.11267  , -0.077003 ,  0.010461 ,  0.13649  , -0.21676  ,\n",
              "        0.36484  , -0.40437  ,  0.032525 , -0.10075  , -0.19172  ,\n",
              "       -0.32998  ,  0.56334  , -0.4174   , -0.19091  ,  0.60844  ,\n",
              "        0.17271  ,  0.84758  , -0.029364 ,  0.77872  ,  0.12008  ,\n",
              "        0.12991  ,  0.007814 , -0.099057 ,  0.11568  , -0.27244  ,\n",
              "        0.026542 , -0.10197  , -0.48885  , -0.034344 , -1.158    ,\n",
              "        0.47427  , -0.60191  ,  0.18971  ,  0.17906  ,  0.41396  ,\n",
              "        0.012056 , -0.46989  ,  0.22853  ,  0.040757 ,  0.015289 ,\n",
              "       -0.088703 ,  0.13041  ,  0.61631  ,  0.015202 , -0.41673  ,\n",
              "        0.32114  ,  0.26846  ,  0.29011  ,  0.42869  , -0.23034  ,\n",
              "        0.41543  ,  0.1959   , -0.012711 ,  0.38308  ,  0.41969  ,\n",
              "       -0.28761  , -0.098217 ,  0.016179 ,  0.25311  ,  0.25486  ,\n",
              "        0.33475  , -0.26802  ,  0.16306  ,  0.23669  , -0.063513 ,\n",
              "        0.10962  , -0.17884  , -0.28927  ,  0.34737  , -0.047887 ,\n",
              "        0.24603  ,  0.14457  ,  0.085409 , -0.23241  ,  0.2031   ,\n",
              "        0.090419 ,  0.75013  ,  0.33329  , -0.054071 ,  0.11974  ,\n",
              "        0.38441  , -0.096447 ,  0.18584  ,  0.019973 ,  0.22618  ,\n",
              "        0.079152 , -0.628    , -0.029145 ,  0.047347 ,  0.13366  ,\n",
              "       -0.18834  ,  0.17872  , -0.22547  ,  0.15573  , -0.8753   ,\n",
              "        0.053054 ,  0.26824  ,  0.36437  ,  0.39545  ,  0.061073 ,\n",
              "        0.18996  ,  0.66751  , -0.56031  , -0.59299  ,  0.21977  ,\n",
              "       -0.036162 ,  0.1953   ,  0.61311  ,  0.095858 ,  0.35058  ,\n",
              "       -0.022803 ,  0.3339   ,  0.23464  , -0.0070425, -0.046073 ,\n",
              "        0.20338  , -0.073923 , -0.14271  ,  0.3199   ,  0.26802  ,\n",
              "       -0.75927  , -0.24208  ,  0.28147  , -0.036616 ,  0.15761  ,\n",
              "        0.08618  ,  0.48135  ,  0.21692  , -0.072214 , -0.22022  ,\n",
              "        0.018689 , -0.089054 , -0.3778   , -0.29629  , -0.37686  ,\n",
              "        0.24237  , -0.10231  ,  0.20498  ,  0.39642  , -0.08309  ,\n",
              "       -0.035299 , -0.4001   ,  0.37166  , -0.40746  , -0.055007 ,\n",
              "        0.13481  ,  0.20903  ,  0.094932 ,  0.056085 ,  0.16366  ,\n",
              "       -0.076022 , -0.51833  ,  0.6038   , -0.06649  ,  0.19745  ,\n",
              "        0.2083   , -0.32251  , -0.051467 ,  0.039739 ,  0.52071  ,\n",
              "       -0.11252  , -0.3305   , -0.04911  ,  0.06566  ,  0.055547 ,\n",
              "        0.17909  , -0.66376  , -0.32457  ,  0.28328  ,  0.073124 ,\n",
              "       -0.22266  , -0.57806  ,  0.10399  ,  0.011549 ,  0.21221  ,\n",
              "       -0.16831  , -0.18241  ,  0.4003   ,  0.1371   ,  0.1473   ,\n",
              "       -0.023367 , -0.23284  ,  0.12952  ,  0.0086635, -0.19258  ,\n",
              "        0.030071 , -0.28472  ,  0.055341 , -0.054704 , -0.51726  ,\n",
              "       -0.020258 , -0.26745  ,  0.098786 ,  0.16456  , -0.017563 ,\n",
              "        1.9549   ,  0.31917  ,  0.1912   , -0.05886  ,  0.080322 ,\n",
              "       -0.25719  , -0.016753 , -0.074385 ,  0.041932 ,  0.30798  ,\n",
              "       -0.97837  , -0.054158 ,  0.096208 ,  0.26348  ,  0.22121  ,\n",
              "        0.16267  , -0.093407 ,  0.2758   ,  0.18328  ,  0.17312  ,\n",
              "        0.33183  , -0.28772  , -0.49667  ,  0.11463  , -0.22683  ,\n",
              "       -0.19763  ,  0.58495  , -0.005878 , -0.29917  , -0.22161  ,\n",
              "       -0.36794  ,  0.16711  ,  0.094785 , -0.56761  , -0.23012  ,\n",
              "        0.092196 , -0.38991  , -0.1079   , -0.18349  , -0.75235  ,\n",
              "        0.32934  , -0.022238 , -0.55862  ,  0.046363 , -0.28483  ,\n",
              "       -0.032443 , -0.1607   ,  0.084729 , -0.093551 ,  0.14616  ,\n",
              "       -0.32024  ,  0.35765  , -0.32838  ,  0.57517  ,  0.0042756,\n",
              "       -0.19551  ,  0.291    ,  0.24912  ,  0.59513  ,  0.20229  ,\n",
              "        0.087178 , -0.38016  ,  0.40696  , -0.40034  ,  0.0053109,\n",
              "        0.32199  , -0.41608  ,  0.0024468,  0.1913   ,  0.49001  ,\n",
              "       -0.14565  , -0.067846 ,  0.81602  , -0.21082  ,  0.15706  ,\n",
              "       -0.014326 , -1.4344   , -0.38624  ,  0.24406  , -0.68581  ,\n",
              "        0.48944  , -0.3599   , -0.52127  ,  0.52453  ,  0.034913 ,\n",
              "        0.085295 ,  0.14671  ,  0.27968  , -0.54018  , -0.33675  ,\n",
              "       -0.49569  , -0.48427  , -0.1718   ,  0.065731 ,  0.26818  ,\n",
              "       -0.10336  ,  0.3465   , -0.13038  , -0.4271   ,  0.62686  ],\n",
              "      dtype=float32)"
            ]
          },
          "execution_count": 73,
          "metadata": {},
          "output_type": "execute_result"
        }
      ],
      "source": [
        "# sample word vector\n",
        "glove_embeddings['dream']"
      ]
    },
    {
      "cell_type": "markdown",
      "metadata": {
        "id": "SmWrx5PUbnr0"
      },
      "source": [
        "#### Converting the Tokenized texts into Sentence vectors"
      ]
    },
    {
      "cell_type": "code",
      "execution_count": null,
      "metadata": {
        "id": "MFwIRJPWOrw7"
      },
      "outputs": [],
      "source": [
        "# using average of word vectors to represent sentences.\n",
        "def text_to_vectors(text, model, vector_size=300):\n",
        "    vectors = [model[word] for word in text if word in model]\n",
        "    if len(vectors) > 0:\n",
        "        return np.mean(vectors, axis=0)  # Average word vectors\n",
        "    else:\n",
        "        return np.zeros(vector_size)  # Return zero vector if no words are in vocabulary"
      ]
    },
    {
      "cell_type": "code",
      "execution_count": null,
      "metadata": {
        "id": "ZlC0xgCuOxEn"
      },
      "outputs": [],
      "source": [
        "vectorized_texts_glove = np.array([text_to_vectors(text,glove_embeddings) for text in tokenized_texts])"
      ]
    },
    {
      "cell_type": "code",
      "execution_count": null,
      "metadata": {
        "colab": {
          "base_uri": "https://localhost:8080/"
        },
        "id": "4f8dHegqPB2s",
        "outputId": "85a2ce0b-1628-4f54-e0ef-8a0f460e415c"
      },
      "outputs": [
        {
          "name": "stdout",
          "output_type": "stream",
          "text": [
            "First Sentence in Tokenized form:\n",
            " ['enjoying', 'beautiful', 'day', 'park']\n",
            "\n",
            "First Sentence in Vectorized form:\n",
            " [-4.77327518e-02 -1.02187499e-01 -1.40727490e-01 -4.17125132e-03\n",
            " -1.61682501e-01  1.66402251e-01  4.93877530e-02  1.64960008e-02\n",
            " -4.81030010e-02 -8.16160023e-01  2.90454239e-01 -1.20724000e-01\n",
            " -1.10280000e-01  3.21789980e-01 -2.21948251e-01 -1.26615494e-01\n",
            "  2.89582498e-02 -1.28355790e-02  1.64037496e-01  1.60964996e-01\n",
            " -1.90183252e-01  3.56448919e-01 -8.13696533e-02  3.10008258e-01\n",
            "  4.46002483e-02 -1.74820274e-02 -1.22214243e-01 -1.66362762e-01\n",
            " -1.01076499e-01  1.27534986e-01  3.78870010e-01  2.06534997e-01\n",
            " -3.20087492e-01  8.27795044e-02 -9.02437449e-01  3.23907256e-01\n",
            " -1.51585996e-01 -4.74044979e-02 -2.92210758e-01 -1.53154746e-01\n",
            "  8.08372498e-02  2.63773650e-02  9.04249959e-03  3.06530982e-01\n",
            "  6.43942505e-02 -8.02260041e-02  7.19457507e-01  3.34172517e-01\n",
            "  3.72397512e-01 -5.65100014e-02 -3.46577764e-01 -2.46124998e-01\n",
            "  1.45464987e-01  6.31750375e-03 -5.60250059e-02  2.86270738e-01\n",
            "  2.56398499e-01  5.68287522e-02  2.78807491e-01 -3.65232490e-02\n",
            "  3.66339982e-02 -1.88449502e-01  2.98962474e-01  1.78232491e-01\n",
            "  2.85644978e-02 -2.39587009e-01 -6.94264993e-02 -3.79129276e-02\n",
            " -1.68712497e-01 -4.34787497e-02 -3.99947524e-01 -5.98257482e-02\n",
            " -1.42342493e-01  1.76689982e-01 -5.84240034e-02  1.20000020e-02\n",
            "  6.52769953e-02  3.37324962e-02  2.76460052e-02 -2.24322498e-01\n",
            " -2.70260215e-01  5.52264974e-02  5.59227504e-02  7.00690076e-02\n",
            "  2.58484751e-01  1.28418237e-01 -1.66366994e-01  1.33882508e-01\n",
            "  1.74303010e-01  2.43999988e-01  7.15282485e-02 -2.86890000e-01\n",
            "  1.42722756e-01 -3.14350016e-02 -3.11673760e-01  1.62193999e-01\n",
            "  4.11117524e-01 -2.80914992e-01 -2.31442511e-01 -3.97458747e-02\n",
            " -2.29267508e-01  1.09827504e-01 -1.01604253e-01 -1.04952538e-02\n",
            " -2.44237497e-01  1.66249245e-01  2.34213993e-01  4.76520024e-02\n",
            " -2.01401994e-01 -2.49034002e-01 -1.02620006e-01  2.76624858e-02\n",
            "  7.44249821e-02  1.05829984e-02  3.47037494e-01 -1.81857497e-02\n",
            "  1.05247498e-01  2.14071244e-01  3.85954976e-02 -2.15820037e-02\n",
            " -2.98680007e-01 -1.06462494e-01 -2.27861255e-01  2.00459987e-01\n",
            " -1.24307498e-02 -7.13899881e-02  1.17673740e-01  9.59775075e-02\n",
            " -1.40015006e-01  2.99049988e-02  3.14063989e-02  3.32270503e-01\n",
            "  1.60029978e-02 -6.28774911e-02 -2.21655011e-01  1.15464754e-01\n",
            "  1.01835750e-01 -1.72738731e-01  1.39042750e-01  2.17642248e-01\n",
            " -5.78877479e-02 -1.40394941e-02  1.00222506e-01  3.20655033e-02\n",
            " -1.32313505e-01 -2.20720261e-01  1.01948999e-01  1.46914005e-01\n",
            " -1.61368996e-01  6.23325109e-02  1.01669982e-01 -5.81400096e-02\n",
            " -2.29606569e-01  6.53147474e-02  4.60022509e-01 -2.52160013e-01\n",
            " -4.55100000e-01  1.87840492e-01  9.03150067e-02  7.85692483e-02\n",
            "  7.23449960e-02 -3.98389995e-01  1.10971749e-01 -4.71085012e-02\n",
            " -1.47392496e-01 -6.80719987e-02  1.17478862e-01  1.28814995e-01\n",
            "  1.81271240e-01  6.45440072e-02 -1.86161503e-01 -5.20250089e-02\n",
            " -4.86152500e-01  2.19987750e-01  8.81154984e-02  1.57617733e-01\n",
            " -7.82345086e-02 -1.19540021e-02 -1.11789994e-01  2.95720249e-01\n",
            "  4.30382490e-02  1.24125034e-02  1.69261992e-01 -2.77505487e-01\n",
            "  2.06622988e-01  3.02892476e-01  8.86102542e-02 -1.69793993e-01\n",
            " -1.36888683e-01  2.49698669e-01  4.68025021e-02  9.32210013e-02\n",
            " -8.67202505e-02 -3.56935978e-01 -5.28232515e-01  1.55340493e-01\n",
            "  1.23899952e-02 -2.66657501e-01 -1.66141510e-01  1.05333991e-01\n",
            "  1.16925001e+00 -1.23669997e-01 -9.57149267e-02 -1.45290762e-01\n",
            "  1.83386743e-01 -2.82049924e-02  7.30064958e-02  2.09719241e-01\n",
            " -5.89884967e-02 -2.87497520e-01 -1.94559947e-01  3.73474956e-02\n",
            " -1.69856608e-01 -3.02183986e-01  7.51500130e-02 -3.09425080e-03\n",
            " -1.29183993e-01 -4.41749990e-02  1.54292509e-01  1.47594988e-01\n",
            "  5.55790007e-01 -5.83780035e-02 -2.58277506e-01  5.20857498e-02\n",
            " -1.07558250e-01 -1.21026248e-01  2.20221758e-01 -1.72782749e-01\n",
            " -1.80673987e-01  1.65756747e-01  6.97497278e-04 -2.01159999e-01\n",
            "  5.82759902e-02 -2.89903760e-01  2.81813741e-01  1.54482499e-01\n",
            " -1.30182505e-01 -1.43399984e-02 -1.09669998e-01 -3.90532464e-02\n",
            "  1.05670258e-01  5.23615032e-02 -4.89452481e-02  3.37401241e-01\n",
            " -3.80939990e-01 -5.84817529e-02  9.74500030e-02  1.59449995e-01\n",
            "  1.58820003e-01 -9.14725065e-02  1.71649992e-01 -3.21210235e-01\n",
            "  2.35812500e-01 -7.19477534e-02  1.59175485e-01 -4.39855009e-02\n",
            "  7.53180757e-02 -3.71608734e-01 -1.13269992e-01 -1.89412251e-01\n",
            " -1.36259258e-01 -9.65524986e-02  1.49536252e-01 -1.26780003e-01\n",
            " -1.20847002e-01 -6.23409972e-02  3.81201245e-02 -8.59874934e-02\n",
            "  4.89764988e-01  4.02150042e-02  3.73207480e-02 -1.82128727e-01\n",
            "  1.30275488e-01 -2.12446749e-01  4.64358985e-01  6.96970001e-02\n",
            " -1.65582514e+00  2.30197489e-01  3.38050053e-02  8.77750665e-03\n",
            " -2.95170009e-01 -5.95054962e-02  1.01769008e-01 -2.59007514e-01\n",
            " -5.27470469e-01 -3.78285013e-02  2.72787511e-02  1.35375246e-01\n",
            " -1.10337511e-01 -2.12130994e-01  4.01162542e-02  2.71780044e-02\n",
            " -4.96529996e-01  2.07837045e-01  1.47074014e-01 -9.28050056e-02\n",
            "  8.56907517e-02  1.02684990e-01  1.45172477e-02  1.33468673e-01]\n"
          ]
        }
      ],
      "source": [
        "print(\"First Sentence in Tokenized form:\\n\", tokenized_texts[0])\n",
        "print(\"\\nFirst Sentence in Vectorized form:\\n\", vectorized_texts_glove[0])  # Printing the first 5 word vectors from the first sentence"
      ]
    },
    {
      "cell_type": "markdown",
      "metadata": {
        "id": "n8t511hhP1t-"
      },
      "source": [
        "### Text Vectorization using Word2Vec"
      ]
    },
    {
      "cell_type": "code",
      "execution_count": null,
      "metadata": {
        "id": "gw-W4O71PsIu"
      },
      "outputs": [],
      "source": [
        "word2vec_model = Word2Vec(\n",
        "    sentences=tokenized_texts,  # List of tokenized sentences\n",
        "    vector_size=100,            # Size of the word vectors\n",
        "    window=5,                   # Maximum distance between the current and predicted word\n",
        "    min_count=1,                # Ignores words with frequency lower than this\n",
        "    workers=4,                  # Number of CPU cores\n",
        "    sg = 1\n",
        ")"
      ]
    },
    {
      "cell_type": "code",
      "execution_count": null,
      "metadata": {
        "colab": {
          "base_uri": "https://localhost:8080/"
        },
        "id": "5QVPM49uQAXp",
        "outputId": "af352131-aeab-48a2-9543-12c1871dc76d"
      },
      "outputs": [
        {
          "name": "stdout",
          "output_type": "stream",
          "text": [
            "Word2Vec vocabulary size: 2296\n",
            "Sample words in vocabulary: ['new', 'life', 'day', 'feeling', 'joy', 'moment', 'friend', 'like', 'heart', 'dream']\n"
          ]
        }
      ],
      "source": [
        "print(\"Word2Vec vocabulary size:\", len(word2vec_model.wv))\n",
        "print(\"Sample words in vocabulary:\", list(word2vec_model.wv.index_to_key)[:10])"
      ]
    },
    {
      "cell_type": "code",
      "execution_count": null,
      "metadata": {
        "colab": {
          "base_uri": "https://localhost:8080/"
        },
        "id": "DAcoS7QIQDKz",
        "outputId": "0c761564-5553-4512-b866-68f979b6d3e9"
      },
      "outputs": [
        {
          "data": {
            "text/plain": [
              "array([-7.0734266e-03, -2.2885578e-03, -5.3111413e-03,  1.0679701e-02,\n",
              "       -1.8000894e-03, -1.6021170e-02, -3.3109302e-03,  1.6872071e-02,\n",
              "       -9.6639339e-03, -9.0236468e-03, -4.5088474e-03, -1.0740936e-02,\n",
              "       -1.7288229e-03,  3.6520564e-03,  9.3612738e-04,  6.0658362e-03,\n",
              "        4.8832549e-03, -1.4938378e-02,  6.0670204e-03, -1.6223272e-02,\n",
              "        5.6299013e-03,  5.7475879e-03, -2.0495299e-03, -4.7217389e-03,\n",
              "        7.1936059e-03, -2.9787470e-03, -1.3580124e-02,  5.5092922e-03,\n",
              "       -8.8701025e-03, -2.4771709e-03,  1.5426848e-02,  3.6359092e-03,\n",
              "        5.1239720e-03,  2.2011695e-03, -1.0192295e-02,  1.3619668e-02,\n",
              "        3.6253538e-03,  4.1485106e-04, -2.2858446e-03, -5.1345304e-03,\n",
              "        4.4006896e-03,  2.7151956e-04, -5.2353470e-03, -6.5668216e-03,\n",
              "        6.0793129e-03,  1.7423093e-03, -7.8852884e-03,  3.7031879e-03,\n",
              "        7.4637351e-03,  1.3536450e-02,  7.3412070e-03,  4.0931976e-03,\n",
              "       -5.2279145e-03,  8.5928002e-03, -1.8978678e-03, -4.3309424e-03,\n",
              "       -2.6723135e-03, -2.8275750e-03, -1.1881856e-03,  4.1706863e-04,\n",
              "       -8.6224359e-04,  1.1687749e-02,  6.9414694e-03,  1.1117724e-04,\n",
              "       -1.3411225e-02,  1.4614384e-03, -5.1860437e-03, -7.7645900e-03,\n",
              "       -4.6427189e-03,  5.2688606e-03, -2.5861422e-03,  7.8090369e-03,\n",
              "        3.8182812e-03, -1.2437114e-02,  7.5474805e-03, -2.9731609e-03,\n",
              "        2.6877064e-03, -7.5426674e-03,  1.7007221e-03,  2.7482768e-03,\n",
              "        1.1983847e-03, -5.5546113e-03, -7.2184228e-03,  1.7234908e-02,\n",
              "        1.8572292e-03, -7.2454382e-03, -8.7458417e-03,  7.4100946e-03,\n",
              "        1.3598127e-02,  6.7956983e-03, -2.6963362e-03,  1.1377557e-02,\n",
              "        4.5584524e-03,  9.1980677e-03,  1.8129591e-02, -2.4950197e-03,\n",
              "       -7.1601444e-03, -6.6685272e-05,  1.0476332e-02,  4.4307378e-03],\n",
              "      dtype=float32)"
            ]
          },
          "execution_count": 79,
          "metadata": {},
          "output_type": "execute_result"
        }
      ],
      "source": [
        "# sample word vector\n",
        "word2vec_model.wv['dream']"
      ]
    },
    {
      "cell_type": "markdown",
      "metadata": {
        "id": "Kjb_4TIQRcpn"
      },
      "source": [
        "#### Converting the Tokenized texts into Sentence vectors"
      ]
    },
    {
      "cell_type": "code",
      "execution_count": null,
      "metadata": {
        "id": "9eiSe7dwQFhM"
      },
      "outputs": [],
      "source": [
        "# using average of word vectors to represent sentences.\n",
        "def text_to_vectors(text, model, vector_size=100):\n",
        "    vectors = [model.wv[word] for word in text if word in model.wv]\n",
        "    if len(vectors) > 0:\n",
        "        return np.mean(vectors, axis=0)  # Average word vectors\n",
        "    else:\n",
        "        return np.zeros(vector_size)  # Return zero vector if no words are in vocabulary"
      ]
    },
    {
      "cell_type": "code",
      "execution_count": null,
      "metadata": {
        "id": "eNjvBM5hQH13"
      },
      "outputs": [],
      "source": [
        "vectorized_texts = np.array([text_to_vectors(text,word2vec_model) for text in tokenized_texts])"
      ]
    },
    {
      "cell_type": "code",
      "execution_count": null,
      "metadata": {
        "colab": {
          "base_uri": "https://localhost:8080/"
        },
        "id": "0HRL7JqXQLMP",
        "outputId": "770778eb-25bf-4f06-8d77-aab117c67596"
      },
      "outputs": [
        {
          "data": {
            "text/plain": [
              "(707, 100)"
            ]
          },
          "execution_count": 82,
          "metadata": {},
          "output_type": "execute_result"
        }
      ],
      "source": [
        "vectorized_texts.shape"
      ]
    },
    {
      "cell_type": "code",
      "execution_count": null,
      "metadata": {
        "colab": {
          "base_uri": "https://localhost:8080/"
        },
        "id": "IOe5ODfBQNIr",
        "outputId": "9342a865-5fe9-4fa6-8dad-50b54379e6df"
      },
      "outputs": [
        {
          "name": "stdout",
          "output_type": "stream",
          "text": [
            "First Sentence in Tokenized form:\n",
            " ['enjoying', 'beautiful', 'day', 'park']\n",
            "\n",
            "First Sentence in Vectorized form:\n",
            " [-2.0142123e-03 -4.5503723e-04 -5.9547778e-03  7.7346287e-04\n",
            " -1.5632857e-03 -1.4645461e-03 -1.6580168e-03  5.2658636e-03\n",
            " -5.3815632e-03  1.4318936e-03 -2.2960021e-03  2.1417348e-03\n",
            " -6.2458660e-04  8.6477277e-04  6.0766586e-03 -4.5771925e-03\n",
            " -7.5276243e-05 -4.4707013e-03 -1.9549332e-03 -6.4935437e-03\n",
            "  3.6955348e-03 -2.5322165e-03  2.0366840e-03 -2.2818972e-03\n",
            "  3.1742840e-03 -6.1558321e-04  5.0870422e-04 -1.1528448e-03\n",
            " -3.0463063e-03 -6.9705764e-04  2.0899351e-03 -2.0056565e-03\n",
            " -6.7339223e-03 -5.4960919e-04 -1.6622962e-03  6.7137838e-03\n",
            "  2.7764288e-03 -2.1908167e-03 -1.6478060e-03 -5.9407046e-03\n",
            " -1.6512210e-03 -5.4249377e-04  1.5696813e-04  1.6322881e-03\n",
            "  2.0183299e-03  3.6298909e-04 -3.0240202e-03  5.2047794e-04\n",
            "  5.2576819e-03  6.9635017e-03  4.4657397e-03 -6.7176875e-03\n",
            " -1.0872061e-03 -8.9913083e-04 -5.6818179e-03  2.1632812e-03\n",
            "  1.0694000e-03 -3.4902981e-03 -5.9496746e-03  2.4836601e-03\n",
            "  4.6324027e-03 -1.0804434e-03 -2.4292257e-04  4.0758373e-03\n",
            " -6.3877902e-03  3.4049093e-03  3.5497968e-03  2.5437793e-04\n",
            " -4.6759956e-03  7.7531487e-03 -2.9420317e-04  3.5044835e-03\n",
            "  4.1221147e-03 -3.9358381e-03 -1.8162166e-03  8.1668729e-03\n",
            "  6.2283301e-03  6.5351138e-04 -7.1811322e-03 -1.6832281e-03\n",
            "  7.8691851e-04 -2.0688297e-03 -3.7280321e-03  2.0943242e-03\n",
            "  9.2909567e-04 -1.6663698e-03 -1.8885618e-03  2.7793115e-03\n",
            "  7.8092483e-03 -2.5558518e-04 -1.8969178e-03  2.7864927e-03\n",
            "  5.0625540e-03 -3.5656831e-04  8.7812897e-03  5.0804084e-03\n",
            " -8.3717442e-04 -5.4897000e-03  1.9566377e-03 -3.4366730e-03]\n"
          ]
        }
      ],
      "source": [
        "print(\"First Sentence in Tokenized form:\\n\", tokenized_texts[0])\n",
        "print(\"\\nFirst Sentence in Vectorized form:\\n\", vectorized_texts[0])  # Printing the first 5 word vectors from the first sentence"
      ]
    },
    {
      "cell_type": "markdown",
      "metadata": {
        "id": "GWHA_Tdge5FB"
      },
      "source": [
        "### Preparing Data for Training"
      ]
    },
    {
      "cell_type": "code",
      "execution_count": null,
      "metadata": {
        "id": "sL1X6ZTUi6Ie"
      },
      "outputs": [],
      "source": [
        "X = vectorized_texts\n",
        "X_glove = vectorized_texts_glove\n",
        "y = labels"
      ]
    },
    {
      "cell_type": "code",
      "execution_count": null,
      "metadata": {
        "id": "K-tVGmc8OPAD"
      },
      "outputs": [],
      "source": [
        "X = torch.tensor(X, dtype=torch.float32)\n",
        "X_glove = torch.tensor(X_glove, dtype=torch.float32)\n",
        "y = torch.tensor(y, dtype=torch.long)"
      ]
    },
    {
      "cell_type": "code",
      "execution_count": null,
      "metadata": {
        "id": "F7C5QFDQVW7r"
      },
      "outputs": [],
      "source": [
        "class SentimentDataset(Dataset):\n",
        "    def __init__(self, X, y):\n",
        "        self.X = X\n",
        "        self.y = y\n",
        "\n",
        "    def __len__(self):\n",
        "        return len(self.X)\n",
        "\n",
        "    def __getitem__(self, idx):\n",
        "        return self.X[idx], self.y[idx]"
      ]
    },
    {
      "cell_type": "markdown",
      "metadata": {
        "id": "IFkXnVwWx8-_"
      },
      "source": [
        "## Model Training and Evaluation"
      ]
    },
    {
      "cell_type": "code",
      "execution_count": null,
      "metadata": {
        "id": "H7iX-U-v2s0f"
      },
      "outputs": [],
      "source": [
        "\n",
        "\n",
        "class NeuralNet(nn.Module):\n",
        "    def __init__(self, in_features=100, h1=128, h2=256, h3=128, h4=256, out_features=3):\n",
        "        super().__init__()\n",
        "        self.fc1 = nn.Linear(in_features, h1)\n",
        "        self.bn1 = nn.BatchNorm1d(h1)  # Batch Normalization\n",
        "\n",
        "        self.fc2 = nn.Linear(h1, h2)\n",
        "        self.bn2 = nn.BatchNorm1d(h2)  # Batch Normalization\n",
        "\n",
        "\n",
        "        self.fc3 = nn.Linear(h2, h3)\n",
        "        self.bn3 = nn.BatchNorm1d(h3)  # Batch Normalization\n",
        "\n",
        "        self.fc4 = nn.Linear(h3, h4)\n",
        "        self.bn4 = nn.BatchNorm1d(h4)  # Batch Normalization\n",
        "\n",
        "        self.out = nn.Linear(h4, out_features)\n",
        "\n",
        "        # Dropout (0.2 probability)\n",
        "        self.dropout = nn.Dropout(0.3)\n",
        "\n",
        "    def forward(self, x):\n",
        "        x = F.relu(self.bn1(self.fc1(x)))\n",
        "        # x = self.dropout(x)\n",
        "\n",
        "        x = F.relu(self.bn2(self.fc2(x)))\n",
        "        x = self.dropout(x)\n",
        "\n",
        "        x = F.relu(self.bn3(self.fc3(x)))\n",
        "        x = self.dropout(x)\n",
        "\n",
        "        x = F.relu(self.bn4(self.fc4(x)))\n",
        "        x = self.out(x)\n",
        "\n",
        "        return x\n",
        "\n"
      ]
    },
    {
      "cell_type": "code",
      "execution_count": null,
      "metadata": {
        "id": "pvUANpry2s3N"
      },
      "outputs": [],
      "source": [
        "def train_model(model, train_loader, criterion, optimizer, epochs) :\n",
        "    losses = []\n",
        "\n",
        "    for epoch in range(epochs):\n",
        "        for batch_X, batch_y in train_loader:  # iterate over mini-batches\n",
        "\n",
        "            # forward pass\n",
        "            y_pred = model(batch_X)\n",
        "\n",
        "            # compute loss\n",
        "            loss = criterion(y_pred, batch_y)\n",
        "\n",
        "            # track losses\n",
        "            losses.append(loss.detach().numpy())\n",
        "\n",
        "            # Backpropagation\n",
        "            optimizer.zero_grad()\n",
        "            loss.backward()\n",
        "            optimizer.step()\n",
        "\n",
        "        if epoch % 10 == 0:\n",
        "            print(f'Epoch {epoch}, Loss: {loss.item()}')\n",
        "\n",
        "    return losses"
      ]
    },
    {
      "cell_type": "code",
      "execution_count": null,
      "metadata": {
        "id": "RvG_s_Rc2s5q"
      },
      "outputs": [],
      "source": [
        "def predict(model, test_loader):\n",
        "    model.eval()  # Set to evaluation mode\n",
        "\n",
        "    y_true_list = []\n",
        "    y_pred_list = []\n",
        "\n",
        "    with torch.no_grad():\n",
        "        for batch_X, batch_y in test_loader:\n",
        "            y_pred = model(batch_X)  # predict\n",
        "            y_pred_classes = torch.argmax(y_pred, dim=1)  # Get class with highest probability\n",
        "\n",
        "            # Store predictions\n",
        "            y_true_list.extend(batch_y.numpy())\n",
        "            y_pred_list.extend(y_pred_classes.numpy())\n",
        "\n",
        "    return np.array(y_true_list), np.array(y_pred_list)"
      ]
    },
    {
      "cell_type": "markdown",
      "metadata": {
        "id": "543nRnaaSKfd"
      },
      "source": [
        "### Using Word2Vec Sentence Vectors"
      ]
    },
    {
      "cell_type": "markdown",
      "metadata": {
        "id": "mtpBFDjGq2eu"
      },
      "source": [
        "#### Training with Simple Train-Test Split"
      ]
    },
    {
      "cell_type": "code",
      "execution_count": null,
      "metadata": {
        "id": "Ra2npwtz2sxz"
      },
      "outputs": [],
      "source": [
        "# DataLoader for training\n",
        "batch_size = 32\n",
        "dataset = SentimentDataset(X, y)\n",
        "\n",
        "# split sizes\n",
        "train_size = int(0.8 * len(dataset))\n",
        "test_size = len(dataset) - train_size\n",
        "\n",
        "generator = torch.Generator().manual_seed(42)\n",
        "\n",
        "train_dataset, test_dataset = random_split(dataset, [train_size, test_size], generator=generator)\n",
        "\n",
        "# Create DataLoaders\n",
        "train_loader = DataLoader(train_dataset, batch_size=batch_size, shuffle=True)\n",
        "test_loader = DataLoader(test_dataset, batch_size=batch_size, shuffle=True)"
      ]
    },
    {
      "cell_type": "code",
      "execution_count": null,
      "metadata": {
        "id": "I6bw2u_A2s8T"
      },
      "outputs": [],
      "source": [
        "torch.manual_seed(42)\n",
        "\n",
        "model = NeuralNet(X.shape[1]) # creating model\n",
        "criterion = nn.CrossEntropyLoss() # defining loss\n",
        "\n",
        "optimizer = torch.optim.Adam(model.parameters(), lr = 0.002)\n",
        "\n",
        "epochs = 100"
      ]
    },
    {
      "cell_type": "code",
      "execution_count": null,
      "metadata": {
        "colab": {
          "base_uri": "https://localhost:8080/"
        },
        "id": "Ul6ynyIb2s_W",
        "outputId": "dbd70d05-1d36-4ab9-ef9e-dcb05363ad38"
      },
      "outputs": [
        {
          "name": "stdout",
          "output_type": "stream",
          "text": [
            "Epoch 0, Loss: 0.6638852953910828\n",
            "Epoch 10, Loss: 0.4912284314632416\n",
            "Epoch 20, Loss: 0.17158424854278564\n",
            "Epoch 30, Loss: 0.24314989149570465\n",
            "Epoch 40, Loss: 0.0040765488520264626\n",
            "Epoch 50, Loss: 0.26080024242401123\n",
            "Epoch 60, Loss: 0.13422791659832\n",
            "Epoch 70, Loss: 0.003217950463294983\n",
            "Epoch 80, Loss: 0.015098517760634422\n",
            "Epoch 90, Loss: 0.001310586929321289\n",
            "Epoch 100, Loss: 0.0401427298784256\n",
            "Epoch 110, Loss: 0.00022914886358194053\n",
            "Epoch 120, Loss: 0.011648370884358883\n",
            "Epoch 130, Loss: 0.0010347622446715832\n",
            "Epoch 140, Loss: 0.010065463371574879\n",
            "Epoch 150, Loss: 0.002215724438428879\n",
            "Epoch 160, Loss: 0.0003722573455888778\n",
            "Epoch 170, Loss: 0.23074470460414886\n",
            "Epoch 180, Loss: 0.007380722556263208\n",
            "Epoch 190, Loss: 0.008926771581172943\n",
            "Epoch 200, Loss: 0.004891128279268742\n",
            "Epoch 210, Loss: 0.00534603837877512\n",
            "Epoch 220, Loss: 0.34491729736328125\n",
            "Epoch 230, Loss: 0.0010563284158706665\n",
            "Epoch 240, Loss: 0.0003860155993606895\n",
            "Epoch 250, Loss: 0.03245480731129646\n",
            "Epoch 260, Loss: 0.0014725947985425591\n",
            "Epoch 270, Loss: 0.015671109780669212\n",
            "Epoch 280, Loss: 0.0012525228084996343\n",
            "Epoch 290, Loss: 0.00014893549086991698\n"
          ]
        }
      ],
      "source": [
        "train_loss = train_model(model, train_loader, criterion, optimizer, epochs=300)"
      ]
    },
    {
      "cell_type": "code",
      "execution_count": null,
      "metadata": {
        "colab": {
          "base_uri": "https://localhost:8080/",
          "height": 449
        },
        "id": "BkBfAKX0316z",
        "outputId": "49519d86-8901-4ce2-9f76-a0eb7301df22"
      },
      "outputs": [
        {
          "data": {
            "image/png": "[encoded data removed]",
            "text/plain": [
              "<Figure size 640x480 with 1 Axes>"
            ]
          },
          "metadata": {},
          "output_type": "display_data"
        }
      ],
      "source": [
        "plt.plot(range(len(train_loss)), train_loss)\n",
        "plt.ylabel(\"loss\")\n",
        "plt.xlabel(\"Epochs\")\n",
        "plt.show()"
      ]
    },
    {
      "cell_type": "code",
      "execution_count": null,
      "metadata": {
        "colab": {
          "base_uri": "https://localhost:8080/",
          "height": 695
        },
        "id": "oBlcbMGu39kT",
        "outputId": "b220287f-7020-4413-a922-92e8234c0d7c"
      },
      "outputs": [
        {
          "name": "stdout",
          "output_type": "stream",
          "text": [
            "Accuracy: 0.6479\n",
            "Classification Report:\n",
            "              precision    recall  f1-score   support\n",
            "\n",
            "    Negative       0.53      0.30      0.38        30\n",
            "     Neutral       0.50      0.08      0.13        26\n",
            "    Positive       0.67      0.94      0.78        86\n",
            "\n",
            "    accuracy                           0.65       142\n",
            "   macro avg       0.57      0.44      0.43       142\n",
            "weighted avg       0.61      0.65      0.58       142\n",
            "\n"
          ]
        },
        {
          "data": {
            "image/png": "[encoded data removed]",
            "text/plain": [
              "<Figure size 600x500 with 2 Axes>"
            ]
          },
          "metadata": {},
          "output_type": "display_data"
        }
      ],
      "source": [
        "y_test_true, y_test_pred = predict(model, test_loader)\n",
        "\n",
        "# Compute accuracy\n",
        "accuracy = accuracy_score(y_test_true, y_test_pred)\n",
        "print(f'Accuracy: {accuracy:.4f}')\n",
        "\n",
        "# Print classification report\n",
        "print(\"Classification Report:\")\n",
        "print(classification_report(y_test_true, y_test_pred, target_names=['Negative', 'Neutral', 'Positive']))\n",
        "\n",
        "# Compute confusion matrix\n",
        "cm = confusion_matrix(y_test_true, y_test_pred)\n",
        "\n",
        "# Plot confusion matrix\n",
        "plt.figure(figsize=(6,5))\n",
        "sns.heatmap(cm, annot=True, fmt='d', cmap='Blues', xticklabels=['Negative', 'Neutral', 'Positive'], yticklabels=['Negative', 'Neutral', 'Positive'])\n",
        "plt.xlabel('Predicted Label')\n",
        "plt.ylabel('True Label')\n",
        "plt.title('Confusion Matrix')\n",
        "plt.show()\n"
      ]
    },
    {
      "cell_type": "markdown",
      "metadata": {
        "id": "_LtXmsNPq2ex"
      },
      "source": [
        "#### Training with K-Fold Cross Validation"
      ]
    },
    {
      "cell_type": "code",
      "execution_count": null,
      "metadata": {
        "colab": {
          "base_uri": "https://localhost:8080/"
        },
        "id": "xQd5lyNI4Oq-",
        "outputId": "f288ac84-29d0-43ce-8c24-e88944df58bf"
      },
      "outputs": [
        {
          "name": "stdout",
          "output_type": "stream",
          "text": [
            "\n",
            "🔹 Fold 1/7 🔹\n",
            "Epoch 0, Loss: 0.803118884563446\n",
            "Epoch 10, Loss: 0.12552469968795776\n",
            "Epoch 20, Loss: 0.023218339309096336\n",
            "Epoch 30, Loss: 0.23579971492290497\n",
            "Epoch 40, Loss: 0.001690771896392107\n",
            "Epoch 50, Loss: 0.19226931035518646\n",
            "Epoch 60, Loss: 0.009946380741894245\n",
            "Epoch 70, Loss: 0.008844987489283085\n",
            "Epoch 80, Loss: 0.0026956673245877028\n",
            "Epoch 90, Loss: 0.0008588497876189649\n",
            "Epoch 100, Loss: 0.0008276564767584205\n",
            "Epoch 110, Loss: 0.12941552698612213\n",
            "Epoch 120, Loss: 0.0026349881663918495\n",
            "Epoch 130, Loss: 0.008448313921689987\n",
            "Epoch 140, Loss: 0.0009023150196298957\n",
            "Epoch 150, Loss: 0.004395393189042807\n",
            "Epoch 160, Loss: 0.002724915277212858\n",
            "Epoch 170, Loss: 0.014135641977190971\n",
            "Epoch 180, Loss: 0.0007049433188512921\n",
            "Epoch 190, Loss: 0.00058885378530249\n",
            "Epoch 200, Loss: 0.000139114199555479\n",
            "Epoch 210, Loss: 0.0002726541133597493\n",
            "Epoch 220, Loss: 0.0012835520319640636\n",
            "Epoch 230, Loss: 0.0007605577702634037\n",
            "Epoch 240, Loss: 0.0014811705332249403\n",
            "Epoch 250, Loss: 0.0003885719343088567\n",
            "Epoch 260, Loss: 0.0021850340999662876\n",
            "Epoch 270, Loss: 0.001056585111655295\n",
            "Epoch 280, Loss: 0.00392587436363101\n",
            "Epoch 290, Loss: 0.0003330899926368147\n",
            "  Fold 1 Accuracy: 0.5446\n",
            "\n",
            "🔹 Fold 2/7 🔹\n",
            "Epoch 0, Loss: 0.8146355152130127\n",
            "Epoch 10, Loss: 0.056918781250715256\n",
            "Epoch 20, Loss: 0.047660861164331436\n",
            "Epoch 30, Loss: 0.005171953234821558\n",
            "Epoch 40, Loss: 0.045501768589019775\n",
            "Epoch 50, Loss: 0.034271109849214554\n",
            "Epoch 60, Loss: 0.0016453474527224898\n",
            "Epoch 70, Loss: 0.07410796731710434\n",
            "Epoch 80, Loss: 0.0003965854994021356\n",
            "Epoch 90, Loss: 0.003329767379909754\n",
            "Epoch 100, Loss: 0.00014004642434883863\n",
            "Epoch 110, Loss: 0.006411475595086813\n",
            "Epoch 120, Loss: 0.06386484205722809\n",
            "Epoch 130, Loss: 0.026565270498394966\n",
            "Epoch 140, Loss: 0.013410886749625206\n",
            "Epoch 150, Loss: 0.017808260396122932\n",
            "Epoch 160, Loss: 0.0002755630121100694\n",
            "Epoch 170, Loss: 0.000947104359511286\n",
            "Epoch 180, Loss: 0.03193710744380951\n",
            "Epoch 190, Loss: 0.015605664812028408\n",
            "Epoch 200, Loss: 0.0011917767114937305\n",
            "Epoch 210, Loss: 0.013462677597999573\n",
            "Epoch 220, Loss: 0.001946128555573523\n",
            "Epoch 230, Loss: 2.7705691536539234e-05\n",
            "Epoch 240, Loss: 0.0002979680139105767\n",
            "Epoch 250, Loss: 0.008692849427461624\n",
            "Epoch 260, Loss: 0.0010129600996151567\n",
            "Epoch 270, Loss: 4.066477049491368e-05\n",
            "Epoch 280, Loss: 0.00014954325160942972\n",
            "Epoch 290, Loss: 0.04208690673112869\n",
            "  Fold 2 Accuracy: 0.5347\n",
            "\n",
            "🔹 Fold 3/7 🔹\n",
            "Epoch 0, Loss: 0.9352728128433228\n",
            "Epoch 10, Loss: 0.03716007620096207\n",
            "Epoch 20, Loss: 0.022471167147159576\n",
            "Epoch 30, Loss: 0.010179703123867512\n",
            "Epoch 40, Loss: 0.006926193367689848\n",
            "Epoch 50, Loss: 0.15950265526771545\n",
            "Epoch 60, Loss: 0.015376020222902298\n",
            "Epoch 70, Loss: 0.0011562838917598128\n",
            "Epoch 80, Loss: 0.00041723050526343286\n",
            "Epoch 90, Loss: 0.033873550593853\n",
            "Epoch 100, Loss: 0.01005160715430975\n",
            "Epoch 110, Loss: 0.0037289222236722708\n",
            "Epoch 120, Loss: 0.007591896690428257\n",
            "Epoch 130, Loss: 0.03588137775659561\n",
            "Epoch 140, Loss: 0.009235749952495098\n",
            "Epoch 150, Loss: 0.009152413345873356\n",
            "Epoch 160, Loss: 0.0008907529409043491\n",
            "Epoch 170, Loss: 0.0007429348770529032\n",
            "Epoch 180, Loss: 0.001171612530015409\n",
            "Epoch 190, Loss: 0.0007534042233601213\n",
            "Epoch 200, Loss: 0.006104101426899433\n",
            "Epoch 210, Loss: 0.00013289698108565062\n",
            "Epoch 220, Loss: 0.0015249585267156363\n",
            "Epoch 230, Loss: 0.0004569902375806123\n",
            "Epoch 240, Loss: 0.009124213829636574\n",
            "Epoch 250, Loss: 0.00010723111336119473\n",
            "Epoch 260, Loss: 0.007480441592633724\n",
            "Epoch 270, Loss: 0.00013360616867430508\n",
            "Epoch 280, Loss: 0.0004174635687377304\n",
            "Epoch 290, Loss: 0.00013633012713398784\n",
            "  Fold 3 Accuracy: 0.5446\n",
            "\n",
            "🔹 Fold 4/7 🔹\n",
            "Epoch 0, Loss: 0.8405742645263672\n",
            "Epoch 10, Loss: 0.04634411260485649\n",
            "Epoch 20, Loss: 0.013232185505330563\n",
            "Epoch 30, Loss: 0.06371231377124786\n",
            "Epoch 40, Loss: 0.016875095665454865\n",
            "Epoch 50, Loss: 0.003431307850405574\n",
            "Epoch 60, Loss: 0.04831386357545853\n",
            "Epoch 70, Loss: 0.0003440620203036815\n",
            "Epoch 80, Loss: 0.09579351544380188\n",
            "Epoch 90, Loss: 0.005153002217411995\n",
            "Epoch 100, Loss: 0.006098436191678047\n",
            "Epoch 110, Loss: 0.0038338485173881054\n",
            "Epoch 120, Loss: 0.02175263687968254\n",
            "Epoch 130, Loss: 0.04933834448456764\n",
            "Epoch 140, Loss: 0.002262185560539365\n",
            "Epoch 150, Loss: 0.0092646274715662\n",
            "Epoch 160, Loss: 0.0009163953945972025\n",
            "Epoch 170, Loss: 0.0009781469125300646\n",
            "Epoch 180, Loss: 0.004289202857762575\n",
            "Epoch 190, Loss: 0.008191498927772045\n",
            "Epoch 200, Loss: 0.0008201974560506642\n",
            "Epoch 210, Loss: 0.0012735339114442468\n",
            "Epoch 220, Loss: 0.0021853186190128326\n",
            "Epoch 230, Loss: 0.00199547759257257\n",
            "Epoch 240, Loss: 0.0017959766555577517\n",
            "Epoch 250, Loss: 8.361009531654418e-05\n",
            "Epoch 260, Loss: 0.013238432817161083\n",
            "Epoch 270, Loss: 0.0015359061071649194\n",
            "Epoch 280, Loss: 0.004447553772479296\n",
            "Epoch 290, Loss: 0.18574336171150208\n",
            "  Fold 4 Accuracy: 0.4851\n",
            "\n",
            "🔹 Fold 5/7 🔹\n",
            "Epoch 0, Loss: 0.9934459924697876\n",
            "Epoch 10, Loss: 0.11180390417575836\n",
            "Epoch 20, Loss: 0.029162291437387466\n",
            "Epoch 30, Loss: 0.005650199484080076\n",
            "Epoch 40, Loss: 0.024110058322548866\n",
            "Epoch 50, Loss: 0.0033666230738162994\n",
            "Epoch 60, Loss: 0.03116646409034729\n",
            "Epoch 70, Loss: 0.014080609194934368\n",
            "Epoch 80, Loss: 0.02209928072988987\n",
            "Epoch 90, Loss: 0.0012885606847703457\n",
            "Epoch 100, Loss: 0.009538629092276096\n",
            "Epoch 110, Loss: 0.000841069791931659\n",
            "Epoch 120, Loss: 0.13104619085788727\n",
            "Epoch 130, Loss: 0.061184465885162354\n",
            "Epoch 140, Loss: 0.0016453415155410767\n",
            "Epoch 150, Loss: 0.0008702883496880531\n",
            "Epoch 160, Loss: 0.05149862915277481\n",
            "Epoch 170, Loss: 0.0008858253713697195\n",
            "Epoch 180, Loss: 0.02548908442258835\n",
            "Epoch 190, Loss: 0.00010303839371772483\n",
            "Epoch 200, Loss: 9.211432916345075e-05\n",
            "Epoch 210, Loss: 0.02108943648636341\n",
            "Epoch 220, Loss: 0.00469060055911541\n",
            "Epoch 230, Loss: 0.03235626220703125\n",
            "Epoch 240, Loss: 0.00382616207934916\n",
            "Epoch 250, Loss: 0.0006528872181661427\n",
            "Epoch 260, Loss: 0.00018796393123921007\n",
            "Epoch 270, Loss: 0.0017713209381327033\n",
            "Epoch 280, Loss: 0.00012785577564500272\n",
            "Epoch 290, Loss: 0.0006140003097243607\n",
            "  Fold 5 Accuracy: 0.4455\n",
            "\n",
            "🔹 Fold 6/7 🔹\n",
            "Epoch 0, Loss: 0.7968960404396057\n",
            "Epoch 10, Loss: 0.07160595059394836\n",
            "Epoch 20, Loss: 0.02476814016699791\n",
            "Epoch 30, Loss: 0.005934435408562422\n",
            "Epoch 40, Loss: 0.0033433036878705025\n",
            "Epoch 50, Loss: 0.05413994565606117\n",
            "Epoch 60, Loss: 0.0007059639319777489\n",
            "Epoch 70, Loss: 0.0005903589189983904\n",
            "Epoch 80, Loss: 0.03236464783549309\n",
            "Epoch 90, Loss: 0.0006977110751904547\n",
            "Epoch 100, Loss: 0.00030772306490689516\n",
            "Epoch 110, Loss: 0.002437657443806529\n",
            "Epoch 120, Loss: 0.09507925808429718\n",
            "Epoch 130, Loss: 0.014726170338690281\n",
            "Epoch 140, Loss: 0.000726338301319629\n",
            "Epoch 150, Loss: 0.0003441116423346102\n",
            "Epoch 160, Loss: 0.01711757853627205\n",
            "Epoch 170, Loss: 0.004084350075572729\n",
            "Epoch 180, Loss: 0.0022716138046234846\n",
            "Epoch 190, Loss: 0.0007298815762624145\n",
            "Epoch 200, Loss: 0.06441985070705414\n",
            "Epoch 210, Loss: 0.008820812217891216\n",
            "Epoch 220, Loss: 0.001786743407137692\n",
            "Epoch 230, Loss: 0.0003093198174610734\n",
            "Epoch 240, Loss: 0.0012179322075098753\n",
            "Epoch 250, Loss: 7.675855158595368e-05\n",
            "Epoch 260, Loss: 1.8888929844251834e-05\n",
            "Epoch 270, Loss: 0.0053033470176160336\n",
            "Epoch 280, Loss: 0.0031453080009669065\n",
            "Epoch 290, Loss: 0.00040464531048201025\n",
            "  Fold 6 Accuracy: 0.6040\n",
            "\n",
            "🔹 Fold 7/7 🔹\n",
            "Epoch 0, Loss: 1.1294529438018799\n",
            "Epoch 10, Loss: 0.06100679188966751\n",
            "Epoch 20, Loss: 0.22883455455303192\n",
            "Epoch 30, Loss: 0.002202290343120694\n",
            "Epoch 40, Loss: 0.0011290354887023568\n",
            "Epoch 50, Loss: 0.06609658896923065\n",
            "Epoch 60, Loss: 0.07569297403097153\n",
            "Epoch 70, Loss: 0.0019278492545709014\n",
            "Epoch 80, Loss: 0.0027512959204614162\n",
            "Epoch 90, Loss: 0.11488392949104309\n",
            "Epoch 100, Loss: 0.01067306287586689\n",
            "Epoch 110, Loss: 0.0019354787655174732\n",
            "Epoch 120, Loss: 0.00012003150914097205\n",
            "Epoch 130, Loss: 0.0026700233574956656\n",
            "Epoch 140, Loss: 0.0037443076726049185\n",
            "Epoch 150, Loss: 0.007071757689118385\n",
            "Epoch 160, Loss: 0.05788620933890343\n",
            "Epoch 170, Loss: 0.13154040277004242\n",
            "Epoch 180, Loss: 0.1508646309375763\n",
            "Epoch 190, Loss: 0.00044710509246215224\n",
            "Epoch 200, Loss: 9.82992714853026e-05\n",
            "Epoch 210, Loss: 7.421943882945925e-05\n",
            "Epoch 220, Loss: 0.0001713700039545074\n",
            "Epoch 230, Loss: 0.0012259319191798568\n",
            "Epoch 240, Loss: 3.945990829379298e-05\n",
            "Epoch 250, Loss: 0.0008196031558327377\n",
            "Epoch 260, Loss: 0.0002545861934777349\n",
            "Epoch 270, Loss: 0.003942438866943121\n",
            "Epoch 280, Loss: 0.002206038450822234\n",
            "Epoch 290, Loss: 9.223468077834696e-05\n",
            "  Fold 7 Accuracy: 0.6040\n"
          ]
        }
      ],
      "source": [
        "# Set parameters\n",
        "batch_size = 32\n",
        "k_folds = 7\n",
        "epochs = 300\n",
        "\n",
        "full_dataset = SentimentDataset(X, y)\n",
        "\n",
        "# Stratified K-Fold\n",
        "skf = StratifiedKFold(n_splits=k_folds, shuffle=True, random_state=42)\n",
        "\n",
        "# Store results\n",
        "all_y_true = []\n",
        "all_y_pred = []\n",
        "accuracies = []\n",
        "conf_matrices = []\n",
        "\n",
        "# K-Fold Cross-Validation Loop\n",
        "for fold, (train_idx, test_idx) in enumerate(skf.split(X, y)):\n",
        "    print(f\"\\n🔹 Fold {fold + 1}/{k_folds} 🔹\")\n",
        "\n",
        "    train_dataset = Subset(dataset, train_idx)\n",
        "    test_dataset = Subset(dataset, test_idx)\n",
        "\n",
        "    # Create DataLoaders\n",
        "    train_loader = DataLoader(train_dataset, batch_size=batch_size, shuffle=True)\n",
        "    test_loader = DataLoader(test_dataset, batch_size=batch_size, shuffle=False)\n",
        "\n",
        "    modelkfold = NeuralNet(X.shape[1])\n",
        "    criterion = torch.nn.CrossEntropyLoss()\n",
        "    optimizer = torch.optim.Adam(modelkfold.parameters(), lr=0.002)\n",
        "\n",
        "    # Train model\n",
        "    train_model(modelkfold, train_loader, criterion, optimizer, epochs)\n",
        "\n",
        "    # Get predictions\n",
        "    y_test_true, y_test_pred = predict(modelkfold, test_loader)\n",
        "\n",
        "    # Store predictions for final classification report\n",
        "    all_y_true.extend(y_test_true)\n",
        "    all_y_pred.extend(y_test_pred)\n",
        "\n",
        "    # Compute accuracy for this fold\n",
        "    fold_accuracy = accuracy_score(y_test_true, y_test_pred)\n",
        "    accuracies.append(fold_accuracy)\n",
        "\n",
        "    cm = confusion_matrix(y_test_true, y_test_pred)\n",
        "    conf_matrices.append(cm)\n",
        "\n",
        "    print(f\"  Fold {fold + 1} Accuracy: {fold_accuracy:.4f}\")\n"
      ]
    },
    {
      "cell_type": "code",
      "execution_count": null,
      "metadata": {
        "colab": {
          "base_uri": "https://localhost:8080/",
          "height": 713
        },
        "id": "e1KCI7o54eKb",
        "outputId": "d230f6d4-e597-4832-ecb8-b3e11412e591"
      },
      "outputs": [
        {
          "name": "stdout",
          "output_type": "stream",
          "text": [
            "\n",
            "✅ Average Accuracy Across 7 Folds: 0.5375\n",
            "Classification Report:\n",
            "              precision    recall  f1-score   support\n",
            "\n",
            "    Negative       0.43      0.66      0.52       197\n",
            "     Neutral       0.24      0.21      0.23        98\n",
            "    Positive       0.72      0.55      0.63       412\n",
            "\n",
            "    accuracy                           0.54       707\n",
            "   macro avg       0.46      0.48      0.46       707\n",
            "weighted avg       0.57      0.54      0.54       707\n",
            "\n"
          ]
        },
        {
          "data": {
            "image/png": "[encoded data removed]",
            "text/plain": [
              "<Figure size 600x500 with 2 Axes>"
            ]
          },
          "metadata": {},
          "output_type": "display_data"
        }
      ],
      "source": [
        "# Compute average accuracy\n",
        "avg_accuracy = np.mean(accuracies)\n",
        "print(f\"\\nAverage Accuracy Across {k_folds} Folds: {avg_accuracy:.4f}\")\n",
        "\n",
        "print(\"Classification Report:\")\n",
        "print(classification_report(\n",
        "    all_y_true, all_y_pred, target_names=['Negative', 'Neutral', 'Positive']\n",
        "))\n",
        "\n",
        "avg_cm = np.mean(conf_matrices, axis=0)\n",
        "\n",
        "# Plot confusion matrix\n",
        "plt.figure(figsize=(6,5))\n",
        "sns.heatmap(avg_cm, annot=True, fmt=\".2f\", cmap=\"Blues\", xticklabels=np.unique(y), yticklabels=np.unique(y))\n",
        "plt.xlabel(\"Predicted Label\")\n",
        "plt.ylabel(\"True Label\")\n",
        "plt.title(f\"Average Confusion Matrix Over {k_folds} Folds\")\n",
        "plt.show()"
      ]
    },
    {
      "cell_type": "markdown",
      "metadata": {
        "id": "Oh0MJ2vHUdXj"
      },
      "source": [
        "### Using GloVe Embeddings"
      ]
    },
    {
      "cell_type": "markdown",
      "metadata": {
        "id": "ce9OFulGq2ey"
      },
      "source": [
        "#### Training with Simple Train-Test Split"
      ]
    },
    {
      "cell_type": "code",
      "execution_count": null,
      "metadata": {
        "id": "CKeX4TGUUhQM"
      },
      "outputs": [],
      "source": [
        "# DataLoader for training\n",
        "batch_size = 32\n",
        "dataset = SentimentDataset(X_glove, y)\n",
        "\n",
        "# split sizes\n",
        "train_size = int(0.8 * len(dataset))\n",
        "test_size = len(dataset) - train_size\n",
        "\n",
        "generator = torch.Generator().manual_seed(42)\n",
        "\n",
        "train_dataset, test_dataset = random_split(dataset, [train_size, test_size], generator=generator)\n",
        "\n",
        "# Create DataLoaders\n",
        "train_loader = DataLoader(train_dataset, batch_size=batch_size, shuffle=True)\n",
        "test_loader = DataLoader(test_dataset, batch_size=batch_size, shuffle=True)"
      ]
    },
    {
      "cell_type": "code",
      "execution_count": null,
      "metadata": {
        "id": "Mhy1lp-eUtbX"
      },
      "outputs": [],
      "source": [
        "torch.manual_seed(42)\n",
        "\n",
        "model = NeuralNet(X_glove.shape[1]) # creating model\n",
        "criterion = nn.CrossEntropyLoss() # defining loss\n",
        "\n",
        "optimizer = torch.optim.Adam(model.parameters(), lr = 0.002)\n",
        "\n",
        "epochs = 100"
      ]
    },
    {
      "cell_type": "code",
      "execution_count": null,
      "metadata": {
        "colab": {
          "base_uri": "https://localhost:8080/"
        },
        "id": "aSlvrsqCU0Nl",
        "outputId": "78984012-d8d7-4a7a-9b4e-c85dfac2a2d3"
      },
      "outputs": [
        {
          "name": "stdout",
          "output_type": "stream",
          "text": [
            "Epoch 0, Loss: 0.8119693994522095\n",
            "Epoch 10, Loss: 0.03225217014551163\n",
            "Epoch 20, Loss: 0.03826829046010971\n",
            "Epoch 30, Loss: 0.003399598877876997\n",
            "Epoch 40, Loss: 0.0009642812656238675\n",
            "Epoch 50, Loss: 0.4800069034099579\n",
            "Epoch 60, Loss: 0.0027335279155522585\n",
            "Epoch 70, Loss: 0.4702954590320587\n",
            "Epoch 80, Loss: 0.0003865037579089403\n",
            "Epoch 90, Loss: 0.000399043841753155\n",
            "Epoch 100, Loss: 0.002558990614488721\n",
            "Epoch 110, Loss: 0.004514101892709732\n",
            "Epoch 120, Loss: 0.12547428905963898\n",
            "Epoch 130, Loss: 0.4194166660308838\n",
            "Epoch 140, Loss: 0.0035829029511660337\n",
            "Epoch 150, Loss: 0.0014927488518878818\n",
            "Epoch 160, Loss: 0.014358959160745144\n",
            "Epoch 170, Loss: 0.0007997661014087498\n",
            "Epoch 180, Loss: 3.4856358979595825e-05\n",
            "Epoch 190, Loss: 0.0003377778921276331\n",
            "Epoch 200, Loss: 0.0010931345168501139\n",
            "Epoch 210, Loss: 0.0025250751059502363\n",
            "Epoch 220, Loss: 0.02735280990600586\n",
            "Epoch 230, Loss: 0.00014733168063685298\n",
            "Epoch 240, Loss: 0.0011001302627846599\n",
            "Epoch 250, Loss: 0.0004596303915604949\n",
            "Epoch 260, Loss: 9.312245674664155e-05\n",
            "Epoch 270, Loss: 0.0011537708342075348\n",
            "Epoch 280, Loss: 0.0001752663083607331\n",
            "Epoch 290, Loss: 0.00019384513143450022\n"
          ]
        }
      ],
      "source": [
        "train_loss = train_model(model, train_loader, criterion, optimizer, epochs=300)"
      ]
    },
    {
      "cell_type": "code",
      "execution_count": null,
      "metadata": {
        "colab": {
          "base_uri": "https://localhost:8080/",
          "height": 449
        },
        "id": "aYVoRp1fU4IS",
        "outputId": "6d7b771a-e3cc-446e-b957-9f64fe347fa1"
      },
      "outputs": [
        {
          "data": {
            "image/png": "[encoded data removed]",
            "text/plain": [
              "<Figure size 640x480 with 1 Axes>"
            ]
          },
          "metadata": {},
          "output_type": "display_data"
        }
      ],
      "source": [
        "plt.plot(range(len(train_loss)), train_loss)\n",
        "plt.ylabel(\"loss\")\n",
        "plt.xlabel(\"Epochs\")\n",
        "plt.show()"
      ]
    },
    {
      "cell_type": "code",
      "execution_count": null,
      "metadata": {
        "colab": {
          "base_uri": "https://localhost:8080/",
          "height": 695
        },
        "id": "9LWNY1x3U7TS",
        "outputId": "91da3af9-fdc4-4ce6-91bb-8b63c10e7f1d"
      },
      "outputs": [
        {
          "name": "stdout",
          "output_type": "stream",
          "text": [
            "Accuracy: 0.7676\n",
            "Classification Report:\n",
            "              precision    recall  f1-score   support\n",
            "\n",
            "    Negative       0.75      1.00      0.86        30\n",
            "     Neutral       0.42      0.19      0.26        26\n",
            "    Positive       0.82      0.86      0.84        86\n",
            "\n",
            "    accuracy                           0.77       142\n",
            "   macro avg       0.66      0.68      0.65       142\n",
            "weighted avg       0.73      0.77      0.74       142\n",
            "\n"
          ]
        },
        {
          "data": {
            "image/png": "[encoded data removed]",
            "text/plain": [
              "<Figure size 600x500 with 2 Axes>"
            ]
          },
          "metadata": {},
          "output_type": "display_data"
        }
      ],
      "source": [
        "y_test_true, y_test_pred = predict(model, test_loader)\n",
        "\n",
        "# Compute accuracy\n",
        "accuracy = accuracy_score(y_test_true, y_test_pred)\n",
        "print(f'Accuracy: {accuracy:.4f}')\n",
        "\n",
        "# Print classification report\n",
        "print(\"Classification Report:\")\n",
        "print(classification_report(y_test_true, y_test_pred, target_names=['Negative', 'Neutral', 'Positive']))\n",
        "\n",
        "# Compute confusion matrix\n",
        "cm = confusion_matrix(y_test_true, y_test_pred)\n",
        "\n",
        "# Plot confusion matrix\n",
        "plt.figure(figsize=(6,5))\n",
        "sns.heatmap(cm, annot=True, fmt='d', cmap='Blues', xticklabels=['Negative', 'Neutral', 'Positive'], yticklabels=['Negative', 'Neutral', 'Positive'])\n",
        "plt.xlabel('Predicted Label')\n",
        "plt.ylabel('True Label')\n",
        "plt.title('Confusion Matrix')\n",
        "plt.show()\n"
      ]
    },
    {
      "cell_type": "markdown",
      "metadata": {
        "id": "iJtpN5umq2e0"
      },
      "source": [
        "#### Training with K-Fold Cross Validation"
      ]
    },
    {
      "cell_type": "code",
      "execution_count": null,
      "metadata": {
        "colab": {
          "base_uri": "https://localhost:8080/"
        },
        "id": "SH8n3W4fU_P0",
        "outputId": "f5a9a75c-4638-4d8a-b0bf-e70d76d75418"
      },
      "outputs": [
        {
          "name": "stdout",
          "output_type": "stream",
          "text": [
            "\n",
            "🔹 Fold 1/7 🔹\n",
            "Epoch 0, Loss: 0.598138153553009\n",
            "Epoch 10, Loss: 0.14149154722690582\n",
            "Epoch 20, Loss: 0.01867399737238884\n",
            "Epoch 30, Loss: 0.07007158547639847\n",
            "Epoch 40, Loss: 0.0029064191039651632\n",
            "Epoch 50, Loss: 0.0022189305163919926\n",
            "Epoch 60, Loss: 0.00036590435774996877\n",
            "Epoch 70, Loss: 0.003247337182983756\n",
            "Epoch 80, Loss: 0.013560694642364979\n",
            "Epoch 90, Loss: 0.0012314808554947376\n",
            "Epoch 100, Loss: 0.1324913203716278\n",
            "Epoch 110, Loss: 0.0028069771360605955\n",
            "Epoch 120, Loss: 0.1472652703523636\n",
            "Epoch 130, Loss: 0.07553049176931381\n",
            "Epoch 140, Loss: 0.0013097497867420316\n",
            "Epoch 150, Loss: 0.002154387068003416\n",
            "Epoch 160, Loss: 0.0005197335849516094\n",
            "Epoch 170, Loss: 7.932521111797541e-05\n",
            "Epoch 180, Loss: 0.0027768744621425867\n",
            "Epoch 190, Loss: 0.07179954648017883\n",
            "Epoch 200, Loss: 0.0007218064274638891\n",
            "Epoch 210, Loss: 0.0003002774901688099\n",
            "Epoch 220, Loss: 9.985496035369579e-06\n",
            "Epoch 230, Loss: 0.0004901898792013526\n",
            "Epoch 240, Loss: 0.0005641672178171575\n",
            "Epoch 250, Loss: 5.2163137297611684e-05\n",
            "Epoch 260, Loss: 0.0022000232711434364\n",
            "Epoch 270, Loss: 0.0005781746003776789\n",
            "Epoch 280, Loss: 0.00015022323350422084\n",
            "Epoch 290, Loss: 0.0009751155157573521\n",
            "  Fold 1 Accuracy: 0.8020\n",
            "\n",
            "🔹 Fold 2/7 🔹\n",
            "Epoch 0, Loss: 0.6727470755577087\n",
            "Epoch 10, Loss: 0.047725509852170944\n",
            "Epoch 20, Loss: 0.03605397418141365\n",
            "Epoch 30, Loss: 0.07776766270399094\n",
            "Epoch 40, Loss: 0.002024398883804679\n",
            "Epoch 50, Loss: 0.0017739272443577647\n",
            "Epoch 60, Loss: 0.0032218662090599537\n",
            "Epoch 70, Loss: 0.01792427897453308\n",
            "Epoch 80, Loss: 0.34502723813056946\n",
            "Epoch 90, Loss: 0.0006063191685825586\n",
            "Epoch 100, Loss: 0.003770540002733469\n",
            "Epoch 110, Loss: 0.0016214654315263033\n",
            "Epoch 120, Loss: 0.01046023890376091\n",
            "Epoch 130, Loss: 0.00047169948811642826\n",
            "Epoch 140, Loss: 0.0007821877370588481\n",
            "Epoch 150, Loss: 0.000367700238712132\n",
            "Epoch 160, Loss: 0.0007319249561987817\n",
            "Epoch 170, Loss: 0.004143687430769205\n",
            "Epoch 180, Loss: 0.00011898027150891721\n",
            "Epoch 190, Loss: 7.842965715099126e-05\n",
            "Epoch 200, Loss: 0.0008215736597776413\n",
            "Epoch 210, Loss: 0.04298650845885277\n",
            "Epoch 220, Loss: 8.925945439841598e-05\n",
            "Epoch 230, Loss: 0.0015395465306937695\n",
            "Epoch 240, Loss: 0.1696215718984604\n",
            "Epoch 250, Loss: 8.114396769087762e-05\n",
            "Epoch 260, Loss: 0.001811533933505416\n",
            "Epoch 270, Loss: 0.00017521884001325816\n",
            "Epoch 280, Loss: 4.069426722708158e-05\n",
            "Epoch 290, Loss: 4.806248762179166e-05\n",
            "  Fold 2 Accuracy: 0.8317\n",
            "\n",
            "🔹 Fold 3/7 🔹\n",
            "Epoch 0, Loss: 0.8488295078277588\n",
            "Epoch 10, Loss: 0.036283206194639206\n",
            "Epoch 20, Loss: 0.24418653547763824\n",
            "Epoch 30, Loss: 0.15796472132205963\n",
            "Epoch 40, Loss: 0.019667385146021843\n",
            "Epoch 50, Loss: 0.17943041026592255\n",
            "Epoch 60, Loss: 0.007978198118507862\n",
            "Epoch 70, Loss: 0.002856826176866889\n",
            "Epoch 80, Loss: 0.0011059768730774522\n",
            "Epoch 90, Loss: 0.0007056109025143087\n",
            "Epoch 100, Loss: 0.005770878400653601\n",
            "Epoch 110, Loss: 0.0014537923270836473\n",
            "Epoch 120, Loss: 0.027448225766420364\n",
            "Epoch 130, Loss: 0.0039735957980155945\n",
            "Epoch 140, Loss: 0.004588345531374216\n",
            "Epoch 150, Loss: 0.0025103443767875433\n",
            "Epoch 160, Loss: 0.002927847672253847\n",
            "Epoch 170, Loss: 0.0014713394921272993\n",
            "Epoch 180, Loss: 0.000892161566298455\n",
            "Epoch 190, Loss: 0.03019167296588421\n",
            "Epoch 200, Loss: 0.00029582809656858444\n",
            "Epoch 210, Loss: 0.00032308243680745363\n",
            "Epoch 220, Loss: 0.0002586883492767811\n",
            "Epoch 230, Loss: 5.1740767958108336e-05\n",
            "Epoch 240, Loss: 0.0009684812393970788\n",
            "Epoch 250, Loss: 5.4485033615492284e-05\n",
            "Epoch 260, Loss: 0.00024154855054803193\n",
            "Epoch 270, Loss: 0.03593713417649269\n",
            "Epoch 280, Loss: 0.00013994240725878626\n",
            "Epoch 290, Loss: 0.0015472390223294497\n",
            "  Fold 3 Accuracy: 0.7822\n",
            "\n",
            "🔹 Fold 4/7 🔹\n",
            "Epoch 0, Loss: 0.46107134222984314\n",
            "Epoch 10, Loss: 0.05751083418726921\n",
            "Epoch 20, Loss: 0.03431124612689018\n",
            "Epoch 30, Loss: 0.007735700346529484\n",
            "Epoch 40, Loss: 0.005149339325726032\n",
            "Epoch 50, Loss: 0.0025832364335656166\n",
            "Epoch 60, Loss: 0.010131643153727055\n",
            "Epoch 70, Loss: 0.0007238666294142604\n",
            "Epoch 80, Loss: 0.0006964445929042995\n",
            "Epoch 90, Loss: 9.79248434305191e-05\n",
            "Epoch 100, Loss: 0.0016028686659410596\n",
            "Epoch 110, Loss: 0.0020775473676621914\n",
            "Epoch 120, Loss: 0.002189463935792446\n",
            "Epoch 130, Loss: 0.0002645536733325571\n",
            "Epoch 140, Loss: 0.0021014821249991655\n",
            "Epoch 150, Loss: 0.001093963859602809\n",
            "Epoch 160, Loss: 0.09280272573232651\n",
            "Epoch 170, Loss: 0.00036132484092377126\n",
            "Epoch 180, Loss: 2.9739489036728628e-05\n",
            "Epoch 190, Loss: 0.0010514147579669952\n",
            "Epoch 200, Loss: 0.0488358810544014\n",
            "Epoch 210, Loss: 3.382399518159218e-05\n",
            "Epoch 220, Loss: 7.008458487689495e-05\n",
            "Epoch 230, Loss: 9.104303171625361e-05\n",
            "Epoch 240, Loss: 0.0006502264877781272\n",
            "Epoch 250, Loss: 0.000807885779067874\n",
            "Epoch 260, Loss: 8.261828770628199e-05\n",
            "Epoch 270, Loss: 9.899653377942741e-05\n",
            "Epoch 280, Loss: 0.001741947140544653\n",
            "Epoch 290, Loss: 0.041025858372449875\n",
            "  Fold 4 Accuracy: 0.7723\n",
            "\n",
            "🔹 Fold 5/7 🔹\n",
            "Epoch 0, Loss: 1.1571053266525269\n",
            "Epoch 10, Loss: 0.023891005665063858\n",
            "Epoch 20, Loss: 0.0051740980707108974\n",
            "Epoch 30, Loss: 0.19937129318714142\n",
            "Epoch 40, Loss: 0.002829310717061162\n",
            "Epoch 50, Loss: 0.06567023694515228\n",
            "Epoch 60, Loss: 0.002233116654679179\n",
            "Epoch 70, Loss: 0.17418231070041656\n",
            "Epoch 80, Loss: 0.0004892885917797685\n",
            "Epoch 90, Loss: 0.00015719092334620655\n",
            "Epoch 100, Loss: 0.001370154321193695\n",
            "Epoch 110, Loss: 0.050262030214071274\n",
            "Epoch 120, Loss: 0.00593445124104619\n",
            "Epoch 130, Loss: 0.0005610816297121346\n",
            "Epoch 140, Loss: 0.0006397735560312867\n",
            "Epoch 150, Loss: 0.0013561694649979472\n",
            "Epoch 160, Loss: 0.0009047476924024522\n",
            "Epoch 170, Loss: 0.0003723260888364166\n",
            "Epoch 180, Loss: 0.0011980277486145496\n",
            "Epoch 190, Loss: 0.0006236963672563434\n",
            "Epoch 200, Loss: 0.0009347947197966278\n",
            "Epoch 210, Loss: 0.012976001016795635\n",
            "Epoch 220, Loss: 3.008925705216825e-05\n",
            "Epoch 230, Loss: 0.016793737187981606\n",
            "Epoch 240, Loss: 0.005733829457312822\n",
            "Epoch 250, Loss: 0.021877259016036987\n",
            "Epoch 260, Loss: 0.1522967517375946\n",
            "Epoch 270, Loss: 0.0036813467741012573\n",
            "Epoch 280, Loss: 0.001180925639346242\n",
            "Epoch 290, Loss: 9.643830708228052e-06\n",
            "  Fold 5 Accuracy: 0.7822\n",
            "\n",
            "🔹 Fold 6/7 🔹\n",
            "Epoch 0, Loss: 0.7588750123977661\n",
            "Epoch 10, Loss: 0.07270404696464539\n",
            "Epoch 20, Loss: 0.0034660263918340206\n",
            "Epoch 30, Loss: 0.0014460181118920445\n",
            "Epoch 40, Loss: 0.006157355383038521\n",
            "Epoch 50, Loss: 0.04479144513607025\n",
            "Epoch 60, Loss: 0.06223849207162857\n",
            "Epoch 70, Loss: 0.0029909827280789614\n",
            "Epoch 80, Loss: 0.0006344796856865287\n",
            "Epoch 90, Loss: 0.07273968309164047\n",
            "Epoch 100, Loss: 0.0008976341923698783\n",
            "Epoch 110, Loss: 0.007535441778600216\n",
            "Epoch 120, Loss: 0.0032738407608121634\n",
            "Epoch 130, Loss: 0.00045326098916120827\n",
            "Epoch 140, Loss: 0.03493732586503029\n",
            "Epoch 150, Loss: 0.0003531334805302322\n",
            "Epoch 160, Loss: 0.1763790249824524\n",
            "Epoch 170, Loss: 0.0003023541357833892\n",
            "Epoch 180, Loss: 0.00044486825936473906\n",
            "Epoch 190, Loss: 0.0002158988791052252\n",
            "Epoch 200, Loss: 0.00019467952370177954\n",
            "Epoch 210, Loss: 0.001402644207701087\n",
            "Epoch 220, Loss: 0.00021584975183941424\n",
            "Epoch 230, Loss: 0.00021657285105902702\n",
            "Epoch 240, Loss: 0.0016974791651591659\n",
            "Epoch 250, Loss: 0.013145684264600277\n",
            "Epoch 260, Loss: 0.0005696909502148628\n",
            "Epoch 270, Loss: 0.00012700316437985748\n",
            "Epoch 280, Loss: 0.00030174662242643535\n",
            "Epoch 290, Loss: 0.00010812937398441136\n",
            "  Fold 6 Accuracy: 0.8218\n",
            "\n",
            "🔹 Fold 7/7 🔹\n",
            "Epoch 0, Loss: 0.6758363246917725\n",
            "Epoch 10, Loss: 0.1884106546640396\n",
            "Epoch 20, Loss: 0.011076894588768482\n",
            "Epoch 30, Loss: 0.22892935574054718\n",
            "Epoch 40, Loss: 0.0470736101269722\n",
            "Epoch 50, Loss: 0.005098967347294092\n",
            "Epoch 60, Loss: 0.0014631279045715928\n",
            "Epoch 70, Loss: 0.002030523493885994\n",
            "Epoch 80, Loss: 0.019161725416779518\n",
            "Epoch 90, Loss: 0.004245599266141653\n",
            "Epoch 100, Loss: 0.001267746789380908\n",
            "Epoch 110, Loss: 0.0022566562984138727\n",
            "Epoch 120, Loss: 0.043806325644254684\n",
            "Epoch 130, Loss: 0.00032488859142176807\n",
            "Epoch 140, Loss: 0.0005210446543060243\n",
            "Epoch 150, Loss: 7.636927330167964e-05\n",
            "Epoch 160, Loss: 0.0005461311084218323\n",
            "Epoch 170, Loss: 0.003946150187402964\n",
            "Epoch 180, Loss: 0.045136094093322754\n",
            "Epoch 190, Loss: 0.08479876816272736\n",
            "Epoch 200, Loss: 0.00017996723181568086\n",
            "Epoch 210, Loss: 3.843925878754817e-05\n",
            "Epoch 220, Loss: 0.04161691293120384\n",
            "Epoch 230, Loss: 0.0026317043229937553\n",
            "Epoch 240, Loss: 0.000124004393001087\n",
            "Epoch 250, Loss: 0.004949304740875959\n",
            "Epoch 260, Loss: 4.305738548282534e-05\n",
            "Epoch 270, Loss: 2.6358768081991002e-05\n",
            "Epoch 280, Loss: 0.0004841946647502482\n",
            "Epoch 290, Loss: 0.011753787286579609\n",
            "  Fold 7 Accuracy: 0.7426\n"
          ]
        }
      ],
      "source": [
        "# Set parameters\n",
        "batch_size = 32\n",
        "k_folds = 7\n",
        "epochs = 300\n",
        "\n",
        "full_dataset = SentimentDataset(X_glove, y)\n",
        "\n",
        "# Stratified K-Fold\n",
        "skf = StratifiedKFold(n_splits=k_folds, shuffle=True, random_state=42)\n",
        "\n",
        "# Store results\n",
        "all_y_true = []\n",
        "all_y_pred = []\n",
        "accuracies = []\n",
        "conf_matrices = []\n",
        "\n",
        "# K-Fold Cross-Validation Loop\n",
        "for fold, (train_idx, test_idx) in enumerate(skf.split(X, y)):\n",
        "    print(f\"\\n🔹 Fold {fold + 1}/{k_folds} 🔹\")\n",
        "\n",
        "    train_dataset = Subset(dataset, train_idx)\n",
        "    test_dataset = Subset(dataset, test_idx)\n",
        "\n",
        "    # Create DataLoaders\n",
        "    train_loader = DataLoader(train_dataset, batch_size=batch_size, shuffle=True)\n",
        "    test_loader = DataLoader(test_dataset, batch_size=batch_size, shuffle=False)\n",
        "\n",
        "    modelkfold = NeuralNet(X_glove.shape[1])\n",
        "    criterion = torch.nn.CrossEntropyLoss()\n",
        "    optimizer = torch.optim.Adam(modelkfold.parameters(), lr=0.002)\n",
        "\n",
        "    # Train model\n",
        "    train_model(modelkfold, train_loader, criterion, optimizer, epochs)\n",
        "\n",
        "    # Get predictions\n",
        "    y_test_true, y_test_pred = predict(modelkfold, test_loader)\n",
        "\n",
        "    # Store predictions for final classification report\n",
        "    all_y_true.extend(y_test_true)\n",
        "    all_y_pred.extend(y_test_pred)\n",
        "\n",
        "    # Compute accuracy for this fold\n",
        "    fold_accuracy = accuracy_score(y_test_true, y_test_pred)\n",
        "    accuracies.append(fold_accuracy)\n",
        "\n",
        "    cm = confusion_matrix(y_test_true, y_test_pred)\n",
        "    conf_matrices.append(cm)\n",
        "\n",
        "    print(f\"  Fold {fold + 1} Accuracy: {fold_accuracy:.4f}\")\n"
      ]
    },
    {
      "cell_type": "code",
      "execution_count": null,
      "metadata": {
        "colab": {
          "base_uri": "https://localhost:8080/",
          "height": 713
        },
        "id": "ttfTP0yRVDmg",
        "outputId": "6626a956-2286-45a9-8681-b712ed9450ca"
      },
      "outputs": [
        {
          "name": "stdout",
          "output_type": "stream",
          "text": [
            "\n",
            "Average Accuracy Across 7 Folds: 0.7907\n",
            "Classification Report:\n",
            "              precision    recall  f1-score   support\n",
            "\n",
            "    Negative       0.81      0.89      0.85       197\n",
            "     Neutral       0.41      0.28      0.33        98\n",
            "    Positive       0.84      0.86      0.85       412\n",
            "\n",
            "    accuracy                           0.79       707\n",
            "   macro avg       0.69      0.68      0.68       707\n",
            "weighted avg       0.77      0.79      0.78       707\n",
            "\n"
          ]
        },
        {
          "data": {
            "image/png": "[encoded data removed]",
            "text/plain": [
              "<Figure size 600x500 with 2 Axes>"
            ]
          },
          "metadata": {},
          "output_type": "display_data"
        }
      ],
      "source": [
        "# Compute average accuracy\n",
        "avg_accuracy = np.mean(accuracies)\n",
        "print(f\"\\nAverage Accuracy Across {k_folds} Folds: {avg_accuracy:.4f}\")\n",
        "\n",
        "print(\"Classification Report:\")\n",
        "print(classification_report(\n",
        "    all_y_true, all_y_pred, target_names=['Negative', 'Neutral', 'Positive']\n",
        "))\n",
        "\n",
        "avg_cm = np.mean(conf_matrices, axis=0)\n",
        "\n",
        "# Plot confusion matrix\n",
        "plt.figure(figsize=(6,5))\n",
        "sns.heatmap(avg_cm, annot=True, fmt=\".2f\", cmap=\"Blues\", xticklabels=np.unique(y), yticklabels=np.unique(y))\n",
        "plt.xlabel(\"Predicted Label\")\n",
        "plt.ylabel(\"True Label\")\n",
        "plt.title(f\"Average Confusion Matrix Over {k_folds} Folds\")\n",
        "plt.show()"
      ]
    }
  ],
  "metadata": {
    "colab": {
      "provenance": [],
      "include_colab_link": true
    },
    "kernelspec": {
      "display_name": "Python 3",
      "name": "python3"
    },
    "language_info": {
      "name": "python",
      "version": "3.12.8"
    }
  },
  "nbformat": 4,
  "nbformat_minor": 0
}