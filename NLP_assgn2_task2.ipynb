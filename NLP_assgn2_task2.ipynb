{
  "nbformat": 4,
  "nbformat_minor": 0,
  "metadata": {
    "colab": {
      "provenance": [],
      "authorship_tag": "ABX9TyPZxGnagT2ExgIuIpsCl2br",
      "include_colab_link": true
    },
    "kernelspec": {
      "name": "python3",
      "display_name": "Python 3"
    },
    "language_info": {
      "name": "python"
    }
  },
  "cells": [
    {
      "cell_type": "markdown",
      "metadata": {
        "id": "view-in-github",
        "colab_type": "text"
      },
      "source": [
        "<a href=\"https://colab.research.google.com/github/Ankur7470/nlp-assignment2/blob/main/NLP_assgn2_task2.ipynb\" target=\"_parent\"><img src=\"https://colab.research.google.com/assets/colab-badge.svg\" alt=\"Open In Colab\"/></a>"
      ]
    },
    {
      "cell_type": "code",
      "source": [
        "!pip install gensim"
      ],
      "metadata": {
        "colab": {
          "base_uri": "https://localhost:8080/"
        },
        "id": "8_J5SC7fKwWh",
        "outputId": "5acaa82f-6fec-46a9-d97d-173166bec684"
      },
      "execution_count": 2,
      "outputs": [
        {
          "output_type": "stream",
          "name": "stdout",
          "text": [
            "Collecting gensim\n",
            "  Downloading gensim-4.3.3-cp311-cp311-manylinux_2_17_x86_64.manylinux2014_x86_64.whl.metadata (8.1 kB)\n",
            "Requirement already satisfied: numpy<2.0,>=1.18.5 in /usr/local/lib/python3.11/dist-packages (from gensim) (1.26.4)\n",
            "Collecting scipy<1.14.0,>=1.7.0 (from gensim)\n",
            "  Downloading scipy-1.13.1-cp311-cp311-manylinux_2_17_x86_64.manylinux2014_x86_64.whl.metadata (60 kB)\n",
            "\u001b[2K     \u001b[90m━━━━━━━━━━━━━━━━━━━━━━━━━━━━━━━━━━━━━━━━\u001b[0m \u001b[32m60.6/60.6 kB\u001b[0m \u001b[31m3.2 MB/s\u001b[0m eta \u001b[36m0:00:00\u001b[0m\n",
            "\u001b[?25hRequirement already satisfied: smart-open>=1.8.1 in /usr/local/lib/python3.11/dist-packages (from gensim) (7.1.0)\n",
            "Requirement already satisfied: wrapt in /usr/local/lib/python3.11/dist-packages (from smart-open>=1.8.1->gensim) (1.17.2)\n",
            "Downloading gensim-4.3.3-cp311-cp311-manylinux_2_17_x86_64.manylinux2014_x86_64.whl (26.7 MB)\n",
            "\u001b[2K   \u001b[90m━━━━━━━━━━━━━━━━━━━━━━━━━━━━━━━━━━━━━━━━\u001b[0m \u001b[32m26.7/26.7 MB\u001b[0m \u001b[31m65.8 MB/s\u001b[0m eta \u001b[36m0:00:00\u001b[0m\n",
            "\u001b[?25hDownloading scipy-1.13.1-cp311-cp311-manylinux_2_17_x86_64.manylinux2014_x86_64.whl (38.6 MB)\n",
            "\u001b[2K   \u001b[90m━━━━━━━━━━━━━━━━━━━━━━━━━━━━━━━━━━━━━━━━\u001b[0m \u001b[32m38.6/38.6 MB\u001b[0m \u001b[31m17.2 MB/s\u001b[0m eta \u001b[36m0:00:00\u001b[0m\n",
            "\u001b[?25hInstalling collected packages: scipy, gensim\n",
            "  Attempting uninstall: scipy\n",
            "    Found existing installation: scipy 1.14.1\n",
            "    Uninstalling scipy-1.14.1:\n",
            "      Successfully uninstalled scipy-1.14.1\n",
            "Successfully installed gensim-4.3.3 scipy-1.13.1\n"
          ]
        }
      ]
    },
    {
      "cell_type": "markdown",
      "source": [
        "## Importing the necessary libraries"
      ],
      "metadata": {
        "id": "hU1piVqgJr6I"
      }
    },
    {
      "cell_type": "code",
      "execution_count": 3,
      "metadata": {
        "id": "rc_p9n86CkgZ"
      },
      "outputs": [],
      "source": [
        "import pandas as pd\n",
        "import numpy as np\n",
        "import re\n",
        "import nltk\n",
        "from nltk.tokenize import word_tokenize\n",
        "from nltk.corpus import stopwords\n",
        "from nltk.stem import WordNetLemmatizer\n",
        "from sklearn.preprocessing import LabelEncoder\n",
        "from gensim.models import Word2Vec\n",
        "import torch\n",
        "from torch.utils.data import Dataset, DataLoader"
      ]
    },
    {
      "cell_type": "markdown",
      "source": [
        "## EDA"
      ],
      "metadata": {
        "id": "fwONm8NXJxty"
      }
    },
    {
      "cell_type": "markdown",
      "source": [
        "### Loading the Sentiment Analysis Dataset"
      ],
      "metadata": {
        "id": "5SnqkZjRJ9ZF"
      }
    },
    {
      "cell_type": "code",
      "source": [
        "sentiment_data = pd.read_csv(\"sentimentdataset.csv\")"
      ],
      "metadata": {
        "id": "8-lPy3OvKl02"
      },
      "execution_count": 4,
      "outputs": []
    },
    {
      "cell_type": "markdown",
      "source": [
        "### Information about the Dataset"
      ],
      "metadata": {
        "id": "2E04nAZMKB6u"
      }
    },
    {
      "cell_type": "code",
      "source": [
        "sentiment_data.head()"
      ],
      "metadata": {
        "colab": {
          "base_uri": "https://localhost:8080/",
          "height": 695
        },
        "id": "4dzs3faoLbhc",
        "outputId": "73a77d3a-6762-4f06-ae11-f158216708ad"
      },
      "execution_count": 5,
      "outputs": [
        {
          "output_type": "execute_result",
          "data": {
            "text/plain": [
              "   Unnamed: 0.1  Unnamed: 0  \\\n",
              "0             0           0   \n",
              "1             1           1   \n",
              "2             2           2   \n",
              "3             3           3   \n",
              "4             4           4   \n",
              "\n",
              "                                                Text    Sentiment  \\\n",
              "0   Enjoying a beautiful day at the park!        ...   Positive     \n",
              "1   Traffic was terrible this morning.           ...   Negative     \n",
              "2   Just finished an amazing workout! 💪          ...   Positive     \n",
              "3   Excited about the upcoming weekend getaway!  ...   Positive     \n",
              "4   Trying out a new recipe for dinner tonight.  ...   Neutral      \n",
              "\n",
              "             Timestamp            User     Platform  \\\n",
              "0  2023-01-15 12:30:00   User123          Twitter     \n",
              "1  2023-01-15 08:45:00   CommuterX        Twitter     \n",
              "2  2023-01-15 15:45:00   FitnessFan      Instagram    \n",
              "3  2023-01-15 18:20:00   AdventureX       Facebook    \n",
              "4  2023-01-15 19:55:00   ChefCook        Instagram    \n",
              "\n",
              "                                     Hashtags  Retweets  Likes       Country  \\\n",
              "0   #Nature #Park                                  15.0   30.0     USA         \n",
              "1   #Traffic #Morning                               5.0   10.0     Canada      \n",
              "2   #Fitness #Workout                              20.0   40.0   USA           \n",
              "3   #Travel #Adventure                              8.0   15.0     UK          \n",
              "4   #Cooking #Food                                 12.0   25.0    Australia    \n",
              "\n",
              "   Year  Month  Day  Hour  \n",
              "0  2023      1   15    12  \n",
              "1  2023      1   15     8  \n",
              "2  2023      1   15    15  \n",
              "3  2023      1   15    18  \n",
              "4  2023      1   15    19  "
            ],
            "text/html": [
              "\n",
              "  <div id=\"df-691be9bc-d959-42a9-825f-d8d5421134ae\" class=\"colab-df-container\">\n",
              "    <div>\n",
              "<style scoped>\n",
              "    .dataframe tbody tr th:only-of-type {\n",
              "        vertical-align: middle;\n",
              "    }\n",
              "\n",
              "    .dataframe tbody tr th {\n",
              "        vertical-align: top;\n",
              "    }\n",
              "\n",
              "    .dataframe thead th {\n",
              "        text-align: right;\n",
              "    }\n",
              "</style>\n",
              "<table border=\"1\" class=\"dataframe\">\n",
              "  <thead>\n",
              "    <tr style=\"text-align: right;\">\n",
              "      <th></th>\n",
              "      <th>Unnamed: 0.1</th>\n",
              "      <th>Unnamed: 0</th>\n",
              "      <th>Text</th>\n",
              "      <th>Sentiment</th>\n",
              "      <th>Timestamp</th>\n",
              "      <th>User</th>\n",
              "      <th>Platform</th>\n",
              "      <th>Hashtags</th>\n",
              "      <th>Retweets</th>\n",
              "      <th>Likes</th>\n",
              "      <th>Country</th>\n",
              "      <th>Year</th>\n",
              "      <th>Month</th>\n",
              "      <th>Day</th>\n",
              "      <th>Hour</th>\n",
              "    </tr>\n",
              "  </thead>\n",
              "  <tbody>\n",
              "    <tr>\n",
              "      <th>0</th>\n",
              "      <td>0</td>\n",
              "      <td>0</td>\n",
              "      <td>Enjoying a beautiful day at the park!        ...</td>\n",
              "      <td>Positive</td>\n",
              "      <td>2023-01-15 12:30:00</td>\n",
              "      <td>User123</td>\n",
              "      <td>Twitter</td>\n",
              "      <td>#Nature #Park</td>\n",
              "      <td>15.0</td>\n",
              "      <td>30.0</td>\n",
              "      <td>USA</td>\n",
              "      <td>2023</td>\n",
              "      <td>1</td>\n",
              "      <td>15</td>\n",
              "      <td>12</td>\n",
              "    </tr>\n",
              "    <tr>\n",
              "      <th>1</th>\n",
              "      <td>1</td>\n",
              "      <td>1</td>\n",
              "      <td>Traffic was terrible this morning.           ...</td>\n",
              "      <td>Negative</td>\n",
              "      <td>2023-01-15 08:45:00</td>\n",
              "      <td>CommuterX</td>\n",
              "      <td>Twitter</td>\n",
              "      <td>#Traffic #Morning</td>\n",
              "      <td>5.0</td>\n",
              "      <td>10.0</td>\n",
              "      <td>Canada</td>\n",
              "      <td>2023</td>\n",
              "      <td>1</td>\n",
              "      <td>15</td>\n",
              "      <td>8</td>\n",
              "    </tr>\n",
              "    <tr>\n",
              "      <th>2</th>\n",
              "      <td>2</td>\n",
              "      <td>2</td>\n",
              "      <td>Just finished an amazing workout! 💪          ...</td>\n",
              "      <td>Positive</td>\n",
              "      <td>2023-01-15 15:45:00</td>\n",
              "      <td>FitnessFan</td>\n",
              "      <td>Instagram</td>\n",
              "      <td>#Fitness #Workout</td>\n",
              "      <td>20.0</td>\n",
              "      <td>40.0</td>\n",
              "      <td>USA</td>\n",
              "      <td>2023</td>\n",
              "      <td>1</td>\n",
              "      <td>15</td>\n",
              "      <td>15</td>\n",
              "    </tr>\n",
              "    <tr>\n",
              "      <th>3</th>\n",
              "      <td>3</td>\n",
              "      <td>3</td>\n",
              "      <td>Excited about the upcoming weekend getaway!  ...</td>\n",
              "      <td>Positive</td>\n",
              "      <td>2023-01-15 18:20:00</td>\n",
              "      <td>AdventureX</td>\n",
              "      <td>Facebook</td>\n",
              "      <td>#Travel #Adventure</td>\n",
              "      <td>8.0</td>\n",
              "      <td>15.0</td>\n",
              "      <td>UK</td>\n",
              "      <td>2023</td>\n",
              "      <td>1</td>\n",
              "      <td>15</td>\n",
              "      <td>18</td>\n",
              "    </tr>\n",
              "    <tr>\n",
              "      <th>4</th>\n",
              "      <td>4</td>\n",
              "      <td>4</td>\n",
              "      <td>Trying out a new recipe for dinner tonight.  ...</td>\n",
              "      <td>Neutral</td>\n",
              "      <td>2023-01-15 19:55:00</td>\n",
              "      <td>ChefCook</td>\n",
              "      <td>Instagram</td>\n",
              "      <td>#Cooking #Food</td>\n",
              "      <td>12.0</td>\n",
              "      <td>25.0</td>\n",
              "      <td>Australia</td>\n",
              "      <td>2023</td>\n",
              "      <td>1</td>\n",
              "      <td>15</td>\n",
              "      <td>19</td>\n",
              "    </tr>\n",
              "  </tbody>\n",
              "</table>\n",
              "</div>\n",
              "    <div class=\"colab-df-buttons\">\n",
              "\n",
              "  <div class=\"colab-df-container\">\n",
              "    <button class=\"colab-df-convert\" onclick=\"convertToInteractive('df-691be9bc-d959-42a9-825f-d8d5421134ae')\"\n",
              "            title=\"Convert this dataframe to an interactive table.\"\n",
              "            style=\"display:none;\">\n",
              "\n",
              "  <svg xmlns=\"http://www.w3.org/2000/svg\" height=\"24px\" viewBox=\"0 -960 960 960\">\n",
              "    <path d=\"M120-120v-720h720v720H120Zm60-500h600v-160H180v160Zm220 220h160v-160H400v160Zm0 220h160v-160H400v160ZM180-400h160v-160H180v160Zm440 0h160v-160H620v160ZM180-180h160v-160H180v160Zm440 0h160v-160H620v160Z\"/>\n",
              "  </svg>\n",
              "    </button>\n",
              "\n",
              "  <style>\n",
              "    .colab-df-container {\n",
              "      display:flex;\n",
              "      gap: 12px;\n",
              "    }\n",
              "\n",
              "    .colab-df-convert {\n",
              "      background-color: #E8F0FE;\n",
              "      border: none;\n",
              "      border-radius: 50%;\n",
              "      cursor: pointer;\n",
              "      display: none;\n",
              "      fill: #1967D2;\n",
              "      height: 32px;\n",
              "      padding: 0 0 0 0;\n",
              "      width: 32px;\n",
              "    }\n",
              "\n",
              "    .colab-df-convert:hover {\n",
              "      background-color: #E2EBFA;\n",
              "      box-shadow: 0px 1px 2px rgba(60, 64, 67, 0.3), 0px 1px 3px 1px rgba(60, 64, 67, 0.15);\n",
              "      fill: #174EA6;\n",
              "    }\n",
              "\n",
              "    .colab-df-buttons div {\n",
              "      margin-bottom: 4px;\n",
              "    }\n",
              "\n",
              "    [theme=dark] .colab-df-convert {\n",
              "      background-color: #3B4455;\n",
              "      fill: #D2E3FC;\n",
              "    }\n",
              "\n",
              "    [theme=dark] .colab-df-convert:hover {\n",
              "      background-color: #434B5C;\n",
              "      box-shadow: 0px 1px 3px 1px rgba(0, 0, 0, 0.15);\n",
              "      filter: drop-shadow(0px 1px 2px rgba(0, 0, 0, 0.3));\n",
              "      fill: #FFFFFF;\n",
              "    }\n",
              "  </style>\n",
              "\n",
              "    <script>\n",
              "      const buttonEl =\n",
              "        document.querySelector('#df-691be9bc-d959-42a9-825f-d8d5421134ae button.colab-df-convert');\n",
              "      buttonEl.style.display =\n",
              "        google.colab.kernel.accessAllowed ? 'block' : 'none';\n",
              "\n",
              "      async function convertToInteractive(key) {\n",
              "        const element = document.querySelector('#df-691be9bc-d959-42a9-825f-d8d5421134ae');\n",
              "        const dataTable =\n",
              "          await google.colab.kernel.invokeFunction('convertToInteractive',\n",
              "                                                    [key], {});\n",
              "        if (!dataTable) return;\n",
              "\n",
              "        const docLinkHtml = 'Like what you see? Visit the ' +\n",
              "          '<a target=\"_blank\" href=https://colab.research.google.com/notebooks/data_table.ipynb>data table notebook</a>'\n",
              "          + ' to learn more about interactive tables.';\n",
              "        element.innerHTML = '';\n",
              "        dataTable['output_type'] = 'display_data';\n",
              "        await google.colab.output.renderOutput(dataTable, element);\n",
              "        const docLink = document.createElement('div');\n",
              "        docLink.innerHTML = docLinkHtml;\n",
              "        element.appendChild(docLink);\n",
              "      }\n",
              "    </script>\n",
              "  </div>\n",
              "\n",
              "\n",
              "<div id=\"df-c67473b1-c5c2-4441-a971-9e1193f2e9b0\">\n",
              "  <button class=\"colab-df-quickchart\" onclick=\"quickchart('df-c67473b1-c5c2-4441-a971-9e1193f2e9b0')\"\n",
              "            title=\"Suggest charts\"\n",
              "            style=\"display:none;\">\n",
              "\n",
              "<svg xmlns=\"http://www.w3.org/2000/svg\" height=\"24px\"viewBox=\"0 0 24 24\"\n",
              "     width=\"24px\">\n",
              "    <g>\n",
              "        <path d=\"M19 3H5c-1.1 0-2 .9-2 2v14c0 1.1.9 2 2 2h14c1.1 0 2-.9 2-2V5c0-1.1-.9-2-2-2zM9 17H7v-7h2v7zm4 0h-2V7h2v10zm4 0h-2v-4h2v4z\"/>\n",
              "    </g>\n",
              "</svg>\n",
              "  </button>\n",
              "\n",
              "<style>\n",
              "  .colab-df-quickchart {\n",
              "      --bg-color: #E8F0FE;\n",
              "      --fill-color: #1967D2;\n",
              "      --hover-bg-color: #E2EBFA;\n",
              "      --hover-fill-color: #174EA6;\n",
              "      --disabled-fill-color: #AAA;\n",
              "      --disabled-bg-color: #DDD;\n",
              "  }\n",
              "\n",
              "  [theme=dark] .colab-df-quickchart {\n",
              "      --bg-color: #3B4455;\n",
              "      --fill-color: #D2E3FC;\n",
              "      --hover-bg-color: #434B5C;\n",
              "      --hover-fill-color: #FFFFFF;\n",
              "      --disabled-bg-color: #3B4455;\n",
              "      --disabled-fill-color: #666;\n",
              "  }\n",
              "\n",
              "  .colab-df-quickchart {\n",
              "    background-color: var(--bg-color);\n",
              "    border: none;\n",
              "    border-radius: 50%;\n",
              "    cursor: pointer;\n",
              "    display: none;\n",
              "    fill: var(--fill-color);\n",
              "    height: 32px;\n",
              "    padding: 0;\n",
              "    width: 32px;\n",
              "  }\n",
              "\n",
              "  .colab-df-quickchart:hover {\n",
              "    background-color: var(--hover-bg-color);\n",
              "    box-shadow: 0 1px 2px rgba(60, 64, 67, 0.3), 0 1px 3px 1px rgba(60, 64, 67, 0.15);\n",
              "    fill: var(--button-hover-fill-color);\n",
              "  }\n",
              "\n",
              "  .colab-df-quickchart-complete:disabled,\n",
              "  .colab-df-quickchart-complete:disabled:hover {\n",
              "    background-color: var(--disabled-bg-color);\n",
              "    fill: var(--disabled-fill-color);\n",
              "    box-shadow: none;\n",
              "  }\n",
              "\n",
              "  .colab-df-spinner {\n",
              "    border: 2px solid var(--fill-color);\n",
              "    border-color: transparent;\n",
              "    border-bottom-color: var(--fill-color);\n",
              "    animation:\n",
              "      spin 1s steps(1) infinite;\n",
              "  }\n",
              "\n",
              "  @keyframes spin {\n",
              "    0% {\n",
              "      border-color: transparent;\n",
              "      border-bottom-color: var(--fill-color);\n",
              "      border-left-color: var(--fill-color);\n",
              "    }\n",
              "    20% {\n",
              "      border-color: transparent;\n",
              "      border-left-color: var(--fill-color);\n",
              "      border-top-color: var(--fill-color);\n",
              "    }\n",
              "    30% {\n",
              "      border-color: transparent;\n",
              "      border-left-color: var(--fill-color);\n",
              "      border-top-color: var(--fill-color);\n",
              "      border-right-color: var(--fill-color);\n",
              "    }\n",
              "    40% {\n",
              "      border-color: transparent;\n",
              "      border-right-color: var(--fill-color);\n",
              "      border-top-color: var(--fill-color);\n",
              "    }\n",
              "    60% {\n",
              "      border-color: transparent;\n",
              "      border-right-color: var(--fill-color);\n",
              "    }\n",
              "    80% {\n",
              "      border-color: transparent;\n",
              "      border-right-color: var(--fill-color);\n",
              "      border-bottom-color: var(--fill-color);\n",
              "    }\n",
              "    90% {\n",
              "      border-color: transparent;\n",
              "      border-bottom-color: var(--fill-color);\n",
              "    }\n",
              "  }\n",
              "</style>\n",
              "\n",
              "  <script>\n",
              "    async function quickchart(key) {\n",
              "      const quickchartButtonEl =\n",
              "        document.querySelector('#' + key + ' button');\n",
              "      quickchartButtonEl.disabled = true;  // To prevent multiple clicks.\n",
              "      quickchartButtonEl.classList.add('colab-df-spinner');\n",
              "      try {\n",
              "        const charts = await google.colab.kernel.invokeFunction(\n",
              "            'suggestCharts', [key], {});\n",
              "      } catch (error) {\n",
              "        console.error('Error during call to suggestCharts:', error);\n",
              "      }\n",
              "      quickchartButtonEl.classList.remove('colab-df-spinner');\n",
              "      quickchartButtonEl.classList.add('colab-df-quickchart-complete');\n",
              "    }\n",
              "    (() => {\n",
              "      let quickchartButtonEl =\n",
              "        document.querySelector('#df-c67473b1-c5c2-4441-a971-9e1193f2e9b0 button');\n",
              "      quickchartButtonEl.style.display =\n",
              "        google.colab.kernel.accessAllowed ? 'block' : 'none';\n",
              "    })();\n",
              "  </script>\n",
              "</div>\n",
              "\n",
              "    </div>\n",
              "  </div>\n"
            ],
            "application/vnd.google.colaboratory.intrinsic+json": {
              "type": "dataframe",
              "variable_name": "sentiment_data",
              "summary": "{\n  \"name\": \"sentiment_data\",\n  \"rows\": 732,\n  \"fields\": [\n    {\n      \"column\": \"Unnamed: 0.1\",\n      \"properties\": {\n        \"dtype\": \"number\",\n        \"std\": 211,\n        \"min\": 0,\n        \"max\": 732,\n        \"num_unique_values\": 732,\n        \"samples\": [\n          605,\n          34,\n          301\n        ],\n        \"semantic_type\": \"\",\n        \"description\": \"\"\n      }\n    },\n    {\n      \"column\": \"Unnamed: 0\",\n      \"properties\": {\n        \"dtype\": \"number\",\n        \"std\": 212,\n        \"min\": 0,\n        \"max\": 736,\n        \"num_unique_values\": 732,\n        \"samples\": [\n          609,\n          35,\n          305\n        ],\n        \"semantic_type\": \"\",\n        \"description\": \"\"\n      }\n    },\n    {\n      \"column\": \"Text\",\n      \"properties\": {\n        \"dtype\": \"string\",\n        \"num_unique_values\": 707,\n        \"samples\": [\n          \"Walking the Great Wall of China, each step a testament to ancient engineering marvels. \",\n          \" Laughter is the key to joy\\u2014attending a stand-up comedy show. \",\n          \" The fear of the unknown is keeping me up at night.    \"\n        ],\n        \"semantic_type\": \"\",\n        \"description\": \"\"\n      }\n    },\n    {\n      \"column\": \"Sentiment\",\n      \"properties\": {\n        \"dtype\": \"category\",\n        \"num_unique_values\": 279,\n        \"samples\": [\n          \" Elation       \",\n          \" Confidence    \",\n          \" Loss \"\n        ],\n        \"semantic_type\": \"\",\n        \"description\": \"\"\n      }\n    },\n    {\n      \"column\": \"Timestamp\",\n      \"properties\": {\n        \"dtype\": \"object\",\n        \"num_unique_values\": 683,\n        \"samples\": [\n          \"2019-12-12 17:00:00\",\n          \"2018-03-10 09:45:00\",\n          \"2022-01-05 10:30:00\"\n        ],\n        \"semantic_type\": \"\",\n        \"description\": \"\"\n      }\n    },\n    {\n      \"column\": \"User\",\n      \"properties\": {\n        \"dtype\": \"string\",\n        \"num_unique_values\": 685,\n        \"samples\": [\n          \" VenomousHeart \",\n          \" GamingEnthusiast \",\n          \" DreamChaser       \"\n        ],\n        \"semantic_type\": \"\",\n        \"description\": \"\"\n      }\n    },\n    {\n      \"column\": \"Platform\",\n      \"properties\": {\n        \"dtype\": \"category\",\n        \"num_unique_values\": 4,\n        \"samples\": [\n          \" Instagram \",\n          \" Twitter \",\n          \" Twitter  \"\n        ],\n        \"semantic_type\": \"\",\n        \"description\": \"\"\n      }\n    },\n    {\n      \"column\": \"Hashtags\",\n      \"properties\": {\n        \"dtype\": \"string\",\n        \"num_unique_values\": 697,\n        \"samples\": [\n          \" #Fulfillment #PuzzleChallenge                \",\n          \" #Nostalgia #ClassicFilmMoments \",\n          \" #Isolation #EmotionalWinter            \"\n        ],\n        \"semantic_type\": \"\",\n        \"description\": \"\"\n      }\n    },\n    {\n      \"column\": \"Retweets\",\n      \"properties\": {\n        \"dtype\": \"number\",\n        \"std\": 7.061286414470437,\n        \"min\": 5.0,\n        \"max\": 40.0,\n        \"num_unique_values\": 26,\n        \"samples\": [\n          18.0,\n          17.0,\n          15.0\n        ],\n        \"semantic_type\": \"\",\n        \"description\": \"\"\n      }\n    },\n    {\n      \"column\": \"Likes\",\n      \"properties\": {\n        \"dtype\": \"number\",\n        \"std\": 14.089848390888744,\n        \"min\": 10.0,\n        \"max\": 80.0,\n        \"num_unique_values\": 38,\n        \"samples\": [\n          31.0,\n          51.0,\n          25.0\n        ],\n        \"semantic_type\": \"\",\n        \"description\": \"\"\n      }\n    },\n    {\n      \"column\": \"Country\",\n      \"properties\": {\n        \"dtype\": \"category\",\n        \"num_unique_values\": 115,\n        \"samples\": [\n          \" France         \",\n          \" Australia \",\n          \" India         \"\n        ],\n        \"semantic_type\": \"\",\n        \"description\": \"\"\n      }\n    },\n    {\n      \"column\": \"Year\",\n      \"properties\": {\n        \"dtype\": \"number\",\n        \"std\": 2,\n        \"min\": 2010,\n        \"max\": 2023,\n        \"num_unique_values\": 14,\n        \"samples\": [\n          2016,\n          2018,\n          2023\n        ],\n        \"semantic_type\": \"\",\n        \"description\": \"\"\n      }\n    },\n    {\n      \"column\": \"Month\",\n      \"properties\": {\n        \"dtype\": \"number\",\n        \"std\": 3,\n        \"min\": 1,\n        \"max\": 12,\n        \"num_unique_values\": 12,\n        \"samples\": [\n          10,\n          7,\n          1\n        ],\n        \"semantic_type\": \"\",\n        \"description\": \"\"\n      }\n    },\n    {\n      \"column\": \"Day\",\n      \"properties\": {\n        \"dtype\": \"number\",\n        \"std\": 8,\n        \"min\": 1,\n        \"max\": 31,\n        \"num_unique_values\": 31,\n        \"samples\": [\n          7,\n          30,\n          3\n        ],\n        \"semantic_type\": \"\",\n        \"description\": \"\"\n      }\n    },\n    {\n      \"column\": \"Hour\",\n      \"properties\": {\n        \"dtype\": \"number\",\n        \"std\": 4,\n        \"min\": 0,\n        \"max\": 23,\n        \"num_unique_values\": 22,\n        \"samples\": [\n          12,\n          20,\n          13\n        ],\n        \"semantic_type\": \"\",\n        \"description\": \"\"\n      }\n    }\n  ]\n}"
            }
          },
          "metadata": {},
          "execution_count": 5
        }
      ]
    },
    {
      "cell_type": "code",
      "source": [
        "sentiment_data.info()"
      ],
      "metadata": {
        "colab": {
          "base_uri": "https://localhost:8080/"
        },
        "id": "gmc-2FsmLhDO",
        "outputId": "cb39b475-ba0e-4cdb-f2b8-52ce5cd184c5"
      },
      "execution_count": 6,
      "outputs": [
        {
          "output_type": "stream",
          "name": "stdout",
          "text": [
            "<class 'pandas.core.frame.DataFrame'>\n",
            "RangeIndex: 732 entries, 0 to 731\n",
            "Data columns (total 15 columns):\n",
            " #   Column        Non-Null Count  Dtype  \n",
            "---  ------        --------------  -----  \n",
            " 0   Unnamed: 0.1  732 non-null    int64  \n",
            " 1   Unnamed: 0    732 non-null    int64  \n",
            " 2   Text          732 non-null    object \n",
            " 3   Sentiment     732 non-null    object \n",
            " 4   Timestamp     732 non-null    object \n",
            " 5   User          732 non-null    object \n",
            " 6   Platform      732 non-null    object \n",
            " 7   Hashtags      732 non-null    object \n",
            " 8   Retweets      732 non-null    float64\n",
            " 9   Likes         732 non-null    float64\n",
            " 10  Country       732 non-null    object \n",
            " 11  Year          732 non-null    int64  \n",
            " 12  Month         732 non-null    int64  \n",
            " 13  Day           732 non-null    int64  \n",
            " 14  Hour          732 non-null    int64  \n",
            "dtypes: float64(2), int64(6), object(7)\n",
            "memory usage: 85.9+ KB\n"
          ]
        }
      ]
    },
    {
      "cell_type": "code",
      "source": [
        "sentiment_data = sentiment_data.drop(columns=['Unnamed: 0.1', 'Unnamed: 0', 'Timestamp', 'User', 'Platform', 'Hashtags', 'Retweets', 'Likes', 'Country', 'Year', 'Month', 'Day', 'Hour'])"
      ],
      "metadata": {
        "id": "yGPPxJzLLsXu"
      },
      "execution_count": 7,
      "outputs": []
    },
    {
      "cell_type": "markdown",
      "source": [
        "### Working with Sentiment Labels"
      ],
      "metadata": {
        "id": "gqRmwS9P6uHW"
      }
    },
    {
      "cell_type": "code",
      "source": [
        "print(\"\\nNo. of Unique Sentiments:\", sentiment_data['Sentiment'].nunique())"
      ],
      "metadata": {
        "colab": {
          "base_uri": "https://localhost:8080/"
        },
        "id": "MdBfnOaoKQJL",
        "outputId": "72ce703b-7d1c-4503-bca0-bb790157e11e"
      },
      "execution_count": 8,
      "outputs": [
        {
          "output_type": "stream",
          "name": "stdout",
          "text": [
            "\n",
            "No. of Unique Sentiments: 279\n"
          ]
        }
      ]
    },
    {
      "cell_type": "code",
      "source": [
        "sentiment_data['Sentiment'].unique()"
      ],
      "metadata": {
        "colab": {
          "base_uri": "https://localhost:8080/"
        },
        "id": "JtHv9fQJvToQ",
        "outputId": "f17c6513-478e-4596-8c22-21bb2780cc38"
      },
      "execution_count": 9,
      "outputs": [
        {
          "output_type": "execute_result",
          "data": {
            "text/plain": [
              "array([' Positive  ', ' Negative  ', ' Neutral   ', ' Anger        ',\n",
              "       ' Fear         ', ' Sadness      ', ' Disgust      ',\n",
              "       ' Happiness    ', ' Joy          ', ' Love         ',\n",
              "       ' Amusement    ', ' Enjoyment    ', ' Admiration   ',\n",
              "       ' Affection    ', ' Awe          ', ' Disappointed ',\n",
              "       ' Surprise     ', ' Acceptance   ', ' Adoration    ',\n",
              "       ' Anticipation ', ' Bitter       ', ' Calmness     ',\n",
              "       ' Confusion    ', ' Excitement   ', ' Kind         ',\n",
              "       ' Pride        ', ' Shame        ', ' Confusion ', ' Excitement ',\n",
              "       ' Shame ', ' Elation       ', ' Euphoria      ', ' Contentment   ',\n",
              "       ' Serenity      ', ' Gratitude     ', ' Hope          ',\n",
              "       ' Empowerment   ', ' Compassion    ', ' Tenderness    ',\n",
              "       ' Arousal       ', ' Enthusiasm    ', ' Fulfillment  ',\n",
              "       ' Reverence     ', ' Compassion', ' Fulfillment   ', ' Reverence ',\n",
              "       ' Elation   ', ' Despair         ', ' Grief           ',\n",
              "       ' Loneliness      ', ' Jealousy        ', ' Resentment      ',\n",
              "       ' Frustration     ', ' Boredom         ', ' Anxiety         ',\n",
              "       ' Intimidation    ', ' Helplessness    ', ' Envy            ',\n",
              "       ' Regret         ', ' Disgust         ', ' Despair      ',\n",
              "       ' Loneliness ', ' Frustration ', ' Anxiety   ', ' Intimidation ',\n",
              "       ' Helplessness ', ' Jealousy    ', ' Curiosity       ',\n",
              "       ' Indifference    ', ' Confusion       ', ' Numbness        ',\n",
              "       ' Melancholy      ', ' Nostalgia       ', ' Ambivalence     ',\n",
              "       ' Acceptance      ', ' Determination   ', ' Serenity        ',\n",
              "       ' Numbness ', ' Zest ', ' Contentment ', ' Hopeful ', ' Proud ',\n",
              "       ' Grateful ', ' Empathetic ', ' Compassionate ', ' Playful ',\n",
              "       ' Free-spirited ', ' Inspired ', ' Confident ', ' Serenity ',\n",
              "       ' Curiosity ', ' Ambivalence ', ' Despair ', ' Bitterness ',\n",
              "       ' Yearning ', ' Fearful ', ' Apprehensive ', ' Overwhelmed ',\n",
              "       ' Jealous ', ' Devastated ', ' Frustrated ', ' Envious ',\n",
              "       ' Dismissive ', ' Awe           ', ' Determination ',\n",
              "       ' Nostalgia      ', ' Thrill        ', ' Calmness      ',\n",
              "       ' Overwhelmed   ', ' Gratitude   ', ' Bittersweet ',\n",
              "       ' Curiosity     ', ' Admiration    ', ' Overjoyed     ',\n",
              "       ' Inspiration   ', ' Motivation    ', ' Amusement     ',\n",
              "       ' Contemplation ', ' JoyfulReunion ', ' Excitement    ',\n",
              "       ' Satisfaction  ', ' Blessed       ', ' Anticipation  ',\n",
              "       ' Reflection    ', ' Nostalgia     ', ' Appreciation  ',\n",
              "       ' Confidence    ', ' Surprise      ', ' Accomplishment ',\n",
              "       ' Wonderment    ', ' Optimism      ', ' Pride         ',\n",
              "       ' Happiness     ', ' Curiosity   ', ' Enchantment   ',\n",
              "       ' Intrigue      ', ' PlayfulJoy    ', ' Mindfulness   ',\n",
              "       ' DreamChaser   ', ' Elegance ', ' Whimsy        ', ' Pensive ',\n",
              "       ' Thrill      ', ' Harmony    ', ' Creativity   ', ' Radiance    ',\n",
              "       ' Wonder     ', ' Rejuvenation ', ' Inspiration ',\n",
              "       ' Coziness     ', ' Gratitude  ', ' Adventure ', ' Euphoria   ',\n",
              "       ' Awe    ', ' Melodic       ', ' FestiveJoy    ',\n",
              "       ' InnerJourney  ', ' Freedom       ', ' Dazzle        ',\n",
              "       ' Adrenaline     ', ' Harmony       ', ' ArtisticBurst ',\n",
              "       ' Radiance      ', ' Wonder       ', ' Inspiration  ',\n",
              "       ' CulinaryOdyssey ', ' Euphoria     ', ' Curiosity  ',\n",
              "       ' Resilience   ', ' Immersion ', ' Nostalgia ', ' Spark        ',\n",
              "       ' Gratitude    ', ' Marvel       ', ' Serenity   ',\n",
              "       ' Heartbreak    ', ' Loneliness    ', ' Grief      ',\n",
              "       ' Despair   ', ' Betrayal      ', ' Suffering ',\n",
              "       ' EmotionalStorm ', ' Regret        ', ' Isolation ',\n",
              "       ' Disappointment ', ' LostLove ', ' Melancholy ', ' Exhaustion ',\n",
              "       ' Sorrow      ', ' Darkness     ', ' Desperation ', ' Ruins      ',\n",
              "       ' Desolation ', ' Regret ', ' Grief ', ' Heartbreak ',\n",
              "       ' Betrayal ', ' Resilience ', ' Sorrow ', ' Loss ', ' Heartache ',\n",
              "       ' Solitude ', ' Joy ', ' Happiness ', ' Enthusiasm ',\n",
              "       ' Gratitude ', ' Positivity ', ' Kindness ', ' Friendship ',\n",
              "       ' Love ', ' Surprise ', ' Success ', ' Thrill ', ' Reflection ',\n",
              "       ' Enchantment ', ' Exploration ', ' Awe ', ' Amazement ',\n",
              "       ' Romance ', ' Captivation ', ' Wonder ', ' Tranquility ',\n",
              "       ' Grandeur ', ' Emotion ', ' Energy ', ' Celebration ', ' Charm ',\n",
              "       ' Ecstasy ', ' Hope ', ' Creativity ', ' Colorful ', ' Pride ',\n",
              "       ' Hypnotic ', ' Connection ', ' Iconic ', ' Euphoria ',\n",
              "       ' Journey ', ' Engagement ', ' Touched ', ' Suspense ',\n",
              "       ' Satisfaction ', ' Admiration ', ' Triumph ', ' Heartwarming ',\n",
              "       ' Obstacle ', ' Sympathy ', ' Pressure ', ' Renewed Effort ',\n",
              "       ' Miscalculation ', ' Challenge ', ' Solace ', ' Breakthrough ',\n",
              "       ' Harmony ', ' Joy in Baking ', ' Envisioning History ',\n",
              "       ' Imagination ', ' Vibrancy ', ' Mesmerizing ',\n",
              "       ' Culinary Adventure ', ' Winter Magic ', ' Thrilling Journey ',\n",
              "       \" Nature's Beauty \", ' Celestial Wonder ',\n",
              "       ' Creative Inspiration ', ' Runway Creativity ',\n",
              "       \" Ocean's Freedom \", ' Whispers of the Past ', ' Boredom ',\n",
              "       ' Indifference ', ' Disgust ', ' Relief ', ' Positive ',\n",
              "       ' Embarrassed ', ' Mischievous ', ' Sad ', ' Hate ', ' Bad ',\n",
              "       ' Neutral ', ' Happy '], dtype=object)"
            ]
          },
          "metadata": {},
          "execution_count": 9
        }
      ]
    },
    {
      "cell_type": "code",
      "source": [
        "# Stripping the leading and trailing spaces from each sentiment\n",
        "sentiment_data['Sentiment'] = [sentiment.strip() for sentiment in sentiment_data['Sentiment']]"
      ],
      "metadata": {
        "id": "0JhFqwwtvXyZ"
      },
      "execution_count": 10,
      "outputs": []
    },
    {
      "cell_type": "code",
      "source": [
        "print(\"\\nNo. of Unique Sentiments after stripping the unwanted spaces from sentiment labels :\", sentiment_data['Sentiment'].nunique())"
      ],
      "metadata": {
        "colab": {
          "base_uri": "https://localhost:8080/"
        },
        "id": "tvnCb_gWvbRt",
        "outputId": "5acbd313-2a9c-42f0-b93c-9de94b8afedc"
      },
      "execution_count": 11,
      "outputs": [
        {
          "output_type": "stream",
          "name": "stdout",
          "text": [
            "\n",
            "No. of Unique Sentiments after stripping the unwanted spaces from sentiment labels : 191\n"
          ]
        }
      ]
    },
    {
      "cell_type": "code",
      "source": [
        "sentiment_counts = sentiment_data['Sentiment'].value_counts()\n",
        "print(\"Sentiment Counts:\\n\")\n",
        "sentiment_counts[:10]"
      ],
      "metadata": {
        "colab": {
          "base_uri": "https://localhost:8080/",
          "height": 464
        },
        "id": "xoCixY4s9_fJ",
        "outputId": "f6af3c8f-64b6-4f52-c5d7-57d5f10fa174"
      },
      "execution_count": 12,
      "outputs": [
        {
          "output_type": "stream",
          "name": "stdout",
          "text": [
            "Sentiment Counts:\n",
            "\n"
          ]
        },
        {
          "output_type": "execute_result",
          "data": {
            "text/plain": [
              "Sentiment\n",
              "Positive       45\n",
              "Joy            44\n",
              "Excitement     37\n",
              "Contentment    19\n",
              "Neutral        18\n",
              "Gratitude      18\n",
              "Curiosity      16\n",
              "Serenity       15\n",
              "Happy          14\n",
              "Nostalgia      11\n",
              "Name: count, dtype: int64"
            ],
            "text/html": [
              "<div>\n",
              "<style scoped>\n",
              "    .dataframe tbody tr th:only-of-type {\n",
              "        vertical-align: middle;\n",
              "    }\n",
              "\n",
              "    .dataframe tbody tr th {\n",
              "        vertical-align: top;\n",
              "    }\n",
              "\n",
              "    .dataframe thead th {\n",
              "        text-align: right;\n",
              "    }\n",
              "</style>\n",
              "<table border=\"1\" class=\"dataframe\">\n",
              "  <thead>\n",
              "    <tr style=\"text-align: right;\">\n",
              "      <th></th>\n",
              "      <th>count</th>\n",
              "    </tr>\n",
              "    <tr>\n",
              "      <th>Sentiment</th>\n",
              "      <th></th>\n",
              "    </tr>\n",
              "  </thead>\n",
              "  <tbody>\n",
              "    <tr>\n",
              "      <th>Positive</th>\n",
              "      <td>45</td>\n",
              "    </tr>\n",
              "    <tr>\n",
              "      <th>Joy</th>\n",
              "      <td>44</td>\n",
              "    </tr>\n",
              "    <tr>\n",
              "      <th>Excitement</th>\n",
              "      <td>37</td>\n",
              "    </tr>\n",
              "    <tr>\n",
              "      <th>Contentment</th>\n",
              "      <td>19</td>\n",
              "    </tr>\n",
              "    <tr>\n",
              "      <th>Neutral</th>\n",
              "      <td>18</td>\n",
              "    </tr>\n",
              "    <tr>\n",
              "      <th>Gratitude</th>\n",
              "      <td>18</td>\n",
              "    </tr>\n",
              "    <tr>\n",
              "      <th>Curiosity</th>\n",
              "      <td>16</td>\n",
              "    </tr>\n",
              "    <tr>\n",
              "      <th>Serenity</th>\n",
              "      <td>15</td>\n",
              "    </tr>\n",
              "    <tr>\n",
              "      <th>Happy</th>\n",
              "      <td>14</td>\n",
              "    </tr>\n",
              "    <tr>\n",
              "      <th>Nostalgia</th>\n",
              "      <td>11</td>\n",
              "    </tr>\n",
              "  </tbody>\n",
              "</table>\n",
              "</div><br><label><b>dtype:</b> int64</label>"
            ]
          },
          "metadata": {},
          "execution_count": 12
        }
      ]
    },
    {
      "cell_type": "markdown",
      "source": [
        "### Checking for Duplicate Text Entries"
      ],
      "metadata": {
        "id": "Eufw6NIZ66-9"
      }
    },
    {
      "cell_type": "code",
      "source": [
        "print(\"No. of Duplicate Text Entries\", sentiment_data['Text'].duplicated().sum())"
      ],
      "metadata": {
        "colab": {
          "base_uri": "https://localhost:8080/"
        },
        "id": "jzt14IT96-Fh",
        "outputId": "40316e65-afdd-4192-ac87-fa37de3f4813"
      },
      "execution_count": 13,
      "outputs": [
        {
          "output_type": "stream",
          "name": "stdout",
          "text": [
            "No. of Duplicate Text Entries 25\n"
          ]
        }
      ]
    },
    {
      "cell_type": "code",
      "source": [
        "# Filtering texts that appear more than once\n",
        "duplicate_texts = sentiment_data.groupby('Text').size().reset_index(name='count')\n",
        "duplicate_texts[duplicate_texts['count'] > 1]"
      ],
      "metadata": {
        "colab": {
          "base_uri": "https://localhost:8080/",
          "height": 708
        },
        "id": "58P7_yK87B1d",
        "outputId": "fbc4b73f-0e75-4b94-f1dd-8c67872d31f9"
      },
      "execution_count": 14,
      "outputs": [
        {
          "output_type": "execute_result",
          "data": {
            "text/plain": [
              "                                                  Text  count\n",
              "1     A compassionate rain, tears of empathy fallin...      3\n",
              "4     A free spirit soaring on the wings of dreams,...      2\n",
              "12    A playful escapade in the carnival of life, c...      3\n",
              "40    Bathed in the golden hues of gratefulness, a ...      2\n",
              "52    Charting a course through the waves of hopefu...      2\n",
              "59    Confident strides in the dance of life, a bal...      2\n",
              "81    Dismissive gestures, a curtain drawn to shiel...      2\n",
              "93    Embraced by the hopeful dawn, a gardener sowi...      3\n",
              "148   Floating on clouds of inspiration, an artist ...      2\n",
              "176   Hopeful whispers of wind, carrying the promis...      2\n",
              "203   Loneliness, a silent companion in the night, ...      2\n",
              "213   Navigating the river of contentment, a serene...      2\n",
              "230   Playfully juggling responsibilities, a circus...      2\n",
              "237   Proudly scaling the peaks of achievement, a m...      3\n",
              "267   Shattered dreams lie on the floor like fragme...      2\n",
              "300   Whispering tales of inspiration to the stars,...      2\n",
              "304   With empathy as a lantern, wandering through ...      2\n",
              "501  Heartfelt gratitude for the laughter shared du...      2\n",
              "617  Rejuvenated by the salty breeze and the sound ...      2\n",
              "625  Savoring the warmth of a cup of cocoa on a chi...      2\n",
              "699  Whispers of inspiration from the rustling leav...      2"
            ],
            "text/html": [
              "\n",
              "  <div id=\"df-eea24c0f-3232-40bc-ac43-b06977b22541\" class=\"colab-df-container\">\n",
              "    <div>\n",
              "<style scoped>\n",
              "    .dataframe tbody tr th:only-of-type {\n",
              "        vertical-align: middle;\n",
              "    }\n",
              "\n",
              "    .dataframe tbody tr th {\n",
              "        vertical-align: top;\n",
              "    }\n",
              "\n",
              "    .dataframe thead th {\n",
              "        text-align: right;\n",
              "    }\n",
              "</style>\n",
              "<table border=\"1\" class=\"dataframe\">\n",
              "  <thead>\n",
              "    <tr style=\"text-align: right;\">\n",
              "      <th></th>\n",
              "      <th>Text</th>\n",
              "      <th>count</th>\n",
              "    </tr>\n",
              "  </thead>\n",
              "  <tbody>\n",
              "    <tr>\n",
              "      <th>1</th>\n",
              "      <td>A compassionate rain, tears of empathy fallin...</td>\n",
              "      <td>3</td>\n",
              "    </tr>\n",
              "    <tr>\n",
              "      <th>4</th>\n",
              "      <td>A free spirit soaring on the wings of dreams,...</td>\n",
              "      <td>2</td>\n",
              "    </tr>\n",
              "    <tr>\n",
              "      <th>12</th>\n",
              "      <td>A playful escapade in the carnival of life, c...</td>\n",
              "      <td>3</td>\n",
              "    </tr>\n",
              "    <tr>\n",
              "      <th>40</th>\n",
              "      <td>Bathed in the golden hues of gratefulness, a ...</td>\n",
              "      <td>2</td>\n",
              "    </tr>\n",
              "    <tr>\n",
              "      <th>52</th>\n",
              "      <td>Charting a course through the waves of hopefu...</td>\n",
              "      <td>2</td>\n",
              "    </tr>\n",
              "    <tr>\n",
              "      <th>59</th>\n",
              "      <td>Confident strides in the dance of life, a bal...</td>\n",
              "      <td>2</td>\n",
              "    </tr>\n",
              "    <tr>\n",
              "      <th>81</th>\n",
              "      <td>Dismissive gestures, a curtain drawn to shiel...</td>\n",
              "      <td>2</td>\n",
              "    </tr>\n",
              "    <tr>\n",
              "      <th>93</th>\n",
              "      <td>Embraced by the hopeful dawn, a gardener sowi...</td>\n",
              "      <td>3</td>\n",
              "    </tr>\n",
              "    <tr>\n",
              "      <th>148</th>\n",
              "      <td>Floating on clouds of inspiration, an artist ...</td>\n",
              "      <td>2</td>\n",
              "    </tr>\n",
              "    <tr>\n",
              "      <th>176</th>\n",
              "      <td>Hopeful whispers of wind, carrying the promis...</td>\n",
              "      <td>2</td>\n",
              "    </tr>\n",
              "    <tr>\n",
              "      <th>203</th>\n",
              "      <td>Loneliness, a silent companion in the night, ...</td>\n",
              "      <td>2</td>\n",
              "    </tr>\n",
              "    <tr>\n",
              "      <th>213</th>\n",
              "      <td>Navigating the river of contentment, a serene...</td>\n",
              "      <td>2</td>\n",
              "    </tr>\n",
              "    <tr>\n",
              "      <th>230</th>\n",
              "      <td>Playfully juggling responsibilities, a circus...</td>\n",
              "      <td>2</td>\n",
              "    </tr>\n",
              "    <tr>\n",
              "      <th>237</th>\n",
              "      <td>Proudly scaling the peaks of achievement, a m...</td>\n",
              "      <td>3</td>\n",
              "    </tr>\n",
              "    <tr>\n",
              "      <th>267</th>\n",
              "      <td>Shattered dreams lie on the floor like fragme...</td>\n",
              "      <td>2</td>\n",
              "    </tr>\n",
              "    <tr>\n",
              "      <th>300</th>\n",
              "      <td>Whispering tales of inspiration to the stars,...</td>\n",
              "      <td>2</td>\n",
              "    </tr>\n",
              "    <tr>\n",
              "      <th>304</th>\n",
              "      <td>With empathy as a lantern, wandering through ...</td>\n",
              "      <td>2</td>\n",
              "    </tr>\n",
              "    <tr>\n",
              "      <th>501</th>\n",
              "      <td>Heartfelt gratitude for the laughter shared du...</td>\n",
              "      <td>2</td>\n",
              "    </tr>\n",
              "    <tr>\n",
              "      <th>617</th>\n",
              "      <td>Rejuvenated by the salty breeze and the sound ...</td>\n",
              "      <td>2</td>\n",
              "    </tr>\n",
              "    <tr>\n",
              "      <th>625</th>\n",
              "      <td>Savoring the warmth of a cup of cocoa on a chi...</td>\n",
              "      <td>2</td>\n",
              "    </tr>\n",
              "    <tr>\n",
              "      <th>699</th>\n",
              "      <td>Whispers of inspiration from the rustling leav...</td>\n",
              "      <td>2</td>\n",
              "    </tr>\n",
              "  </tbody>\n",
              "</table>\n",
              "</div>\n",
              "    <div class=\"colab-df-buttons\">\n",
              "\n",
              "  <div class=\"colab-df-container\">\n",
              "    <button class=\"colab-df-convert\" onclick=\"convertToInteractive('df-eea24c0f-3232-40bc-ac43-b06977b22541')\"\n",
              "            title=\"Convert this dataframe to an interactive table.\"\n",
              "            style=\"display:none;\">\n",
              "\n",
              "  <svg xmlns=\"http://www.w3.org/2000/svg\" height=\"24px\" viewBox=\"0 -960 960 960\">\n",
              "    <path d=\"M120-120v-720h720v720H120Zm60-500h600v-160H180v160Zm220 220h160v-160H400v160Zm0 220h160v-160H400v160ZM180-400h160v-160H180v160Zm440 0h160v-160H620v160ZM180-180h160v-160H180v160Zm440 0h160v-160H620v160Z\"/>\n",
              "  </svg>\n",
              "    </button>\n",
              "\n",
              "  <style>\n",
              "    .colab-df-container {\n",
              "      display:flex;\n",
              "      gap: 12px;\n",
              "    }\n",
              "\n",
              "    .colab-df-convert {\n",
              "      background-color: #E8F0FE;\n",
              "      border: none;\n",
              "      border-radius: 50%;\n",
              "      cursor: pointer;\n",
              "      display: none;\n",
              "      fill: #1967D2;\n",
              "      height: 32px;\n",
              "      padding: 0 0 0 0;\n",
              "      width: 32px;\n",
              "    }\n",
              "\n",
              "    .colab-df-convert:hover {\n",
              "      background-color: #E2EBFA;\n",
              "      box-shadow: 0px 1px 2px rgba(60, 64, 67, 0.3), 0px 1px 3px 1px rgba(60, 64, 67, 0.15);\n",
              "      fill: #174EA6;\n",
              "    }\n",
              "\n",
              "    .colab-df-buttons div {\n",
              "      margin-bottom: 4px;\n",
              "    }\n",
              "\n",
              "    [theme=dark] .colab-df-convert {\n",
              "      background-color: #3B4455;\n",
              "      fill: #D2E3FC;\n",
              "    }\n",
              "\n",
              "    [theme=dark] .colab-df-convert:hover {\n",
              "      background-color: #434B5C;\n",
              "      box-shadow: 0px 1px 3px 1px rgba(0, 0, 0, 0.15);\n",
              "      filter: drop-shadow(0px 1px 2px rgba(0, 0, 0, 0.3));\n",
              "      fill: #FFFFFF;\n",
              "    }\n",
              "  </style>\n",
              "\n",
              "    <script>\n",
              "      const buttonEl =\n",
              "        document.querySelector('#df-eea24c0f-3232-40bc-ac43-b06977b22541 button.colab-df-convert');\n",
              "      buttonEl.style.display =\n",
              "        google.colab.kernel.accessAllowed ? 'block' : 'none';\n",
              "\n",
              "      async function convertToInteractive(key) {\n",
              "        const element = document.querySelector('#df-eea24c0f-3232-40bc-ac43-b06977b22541');\n",
              "        const dataTable =\n",
              "          await google.colab.kernel.invokeFunction('convertToInteractive',\n",
              "                                                    [key], {});\n",
              "        if (!dataTable) return;\n",
              "\n",
              "        const docLinkHtml = 'Like what you see? Visit the ' +\n",
              "          '<a target=\"_blank\" href=https://colab.research.google.com/notebooks/data_table.ipynb>data table notebook</a>'\n",
              "          + ' to learn more about interactive tables.';\n",
              "        element.innerHTML = '';\n",
              "        dataTable['output_type'] = 'display_data';\n",
              "        await google.colab.output.renderOutput(dataTable, element);\n",
              "        const docLink = document.createElement('div');\n",
              "        docLink.innerHTML = docLinkHtml;\n",
              "        element.appendChild(docLink);\n",
              "      }\n",
              "    </script>\n",
              "  </div>\n",
              "\n",
              "\n",
              "<div id=\"df-fec1b55b-86bc-477e-8c43-96aa05ad0dfa\">\n",
              "  <button class=\"colab-df-quickchart\" onclick=\"quickchart('df-fec1b55b-86bc-477e-8c43-96aa05ad0dfa')\"\n",
              "            title=\"Suggest charts\"\n",
              "            style=\"display:none;\">\n",
              "\n",
              "<svg xmlns=\"http://www.w3.org/2000/svg\" height=\"24px\"viewBox=\"0 0 24 24\"\n",
              "     width=\"24px\">\n",
              "    <g>\n",
              "        <path d=\"M19 3H5c-1.1 0-2 .9-2 2v14c0 1.1.9 2 2 2h14c1.1 0 2-.9 2-2V5c0-1.1-.9-2-2-2zM9 17H7v-7h2v7zm4 0h-2V7h2v10zm4 0h-2v-4h2v4z\"/>\n",
              "    </g>\n",
              "</svg>\n",
              "  </button>\n",
              "\n",
              "<style>\n",
              "  .colab-df-quickchart {\n",
              "      --bg-color: #E8F0FE;\n",
              "      --fill-color: #1967D2;\n",
              "      --hover-bg-color: #E2EBFA;\n",
              "      --hover-fill-color: #174EA6;\n",
              "      --disabled-fill-color: #AAA;\n",
              "      --disabled-bg-color: #DDD;\n",
              "  }\n",
              "\n",
              "  [theme=dark] .colab-df-quickchart {\n",
              "      --bg-color: #3B4455;\n",
              "      --fill-color: #D2E3FC;\n",
              "      --hover-bg-color: #434B5C;\n",
              "      --hover-fill-color: #FFFFFF;\n",
              "      --disabled-bg-color: #3B4455;\n",
              "      --disabled-fill-color: #666;\n",
              "  }\n",
              "\n",
              "  .colab-df-quickchart {\n",
              "    background-color: var(--bg-color);\n",
              "    border: none;\n",
              "    border-radius: 50%;\n",
              "    cursor: pointer;\n",
              "    display: none;\n",
              "    fill: var(--fill-color);\n",
              "    height: 32px;\n",
              "    padding: 0;\n",
              "    width: 32px;\n",
              "  }\n",
              "\n",
              "  .colab-df-quickchart:hover {\n",
              "    background-color: var(--hover-bg-color);\n",
              "    box-shadow: 0 1px 2px rgba(60, 64, 67, 0.3), 0 1px 3px 1px rgba(60, 64, 67, 0.15);\n",
              "    fill: var(--button-hover-fill-color);\n",
              "  }\n",
              "\n",
              "  .colab-df-quickchart-complete:disabled,\n",
              "  .colab-df-quickchart-complete:disabled:hover {\n",
              "    background-color: var(--disabled-bg-color);\n",
              "    fill: var(--disabled-fill-color);\n",
              "    box-shadow: none;\n",
              "  }\n",
              "\n",
              "  .colab-df-spinner {\n",
              "    border: 2px solid var(--fill-color);\n",
              "    border-color: transparent;\n",
              "    border-bottom-color: var(--fill-color);\n",
              "    animation:\n",
              "      spin 1s steps(1) infinite;\n",
              "  }\n",
              "\n",
              "  @keyframes spin {\n",
              "    0% {\n",
              "      border-color: transparent;\n",
              "      border-bottom-color: var(--fill-color);\n",
              "      border-left-color: var(--fill-color);\n",
              "    }\n",
              "    20% {\n",
              "      border-color: transparent;\n",
              "      border-left-color: var(--fill-color);\n",
              "      border-top-color: var(--fill-color);\n",
              "    }\n",
              "    30% {\n",
              "      border-color: transparent;\n",
              "      border-left-color: var(--fill-color);\n",
              "      border-top-color: var(--fill-color);\n",
              "      border-right-color: var(--fill-color);\n",
              "    }\n",
              "    40% {\n",
              "      border-color: transparent;\n",
              "      border-right-color: var(--fill-color);\n",
              "      border-top-color: var(--fill-color);\n",
              "    }\n",
              "    60% {\n",
              "      border-color: transparent;\n",
              "      border-right-color: var(--fill-color);\n",
              "    }\n",
              "    80% {\n",
              "      border-color: transparent;\n",
              "      border-right-color: var(--fill-color);\n",
              "      border-bottom-color: var(--fill-color);\n",
              "    }\n",
              "    90% {\n",
              "      border-color: transparent;\n",
              "      border-bottom-color: var(--fill-color);\n",
              "    }\n",
              "  }\n",
              "</style>\n",
              "\n",
              "  <script>\n",
              "    async function quickchart(key) {\n",
              "      const quickchartButtonEl =\n",
              "        document.querySelector('#' + key + ' button');\n",
              "      quickchartButtonEl.disabled = true;  // To prevent multiple clicks.\n",
              "      quickchartButtonEl.classList.add('colab-df-spinner');\n",
              "      try {\n",
              "        const charts = await google.colab.kernel.invokeFunction(\n",
              "            'suggestCharts', [key], {});\n",
              "      } catch (error) {\n",
              "        console.error('Error during call to suggestCharts:', error);\n",
              "      }\n",
              "      quickchartButtonEl.classList.remove('colab-df-spinner');\n",
              "      quickchartButtonEl.classList.add('colab-df-quickchart-complete');\n",
              "    }\n",
              "    (() => {\n",
              "      let quickchartButtonEl =\n",
              "        document.querySelector('#df-fec1b55b-86bc-477e-8c43-96aa05ad0dfa button');\n",
              "      quickchartButtonEl.style.display =\n",
              "        google.colab.kernel.accessAllowed ? 'block' : 'none';\n",
              "    })();\n",
              "  </script>\n",
              "</div>\n",
              "\n",
              "    </div>\n",
              "  </div>\n"
            ],
            "application/vnd.google.colaboratory.intrinsic+json": {
              "type": "dataframe",
              "summary": "{\n  \"name\": \"duplicate_texts[duplicate_texts['count'] > 1]\",\n  \"rows\": 21,\n  \"fields\": [\n    {\n      \"column\": \"Text\",\n      \"properties\": {\n        \"dtype\": \"string\",\n        \"num_unique_values\": 21,\n        \"samples\": [\n          \" A compassionate rain, tears of empathy falling gently, nurturing the seeds of kindness in the garden of human connections. \",\n          \"Heartfelt gratitude for the laughter shared during a family reunion. \",\n          \" Whispering tales of inspiration to the stars, a storyteller crafting constellations from the threads of imagination. \"\n        ],\n        \"semantic_type\": \"\",\n        \"description\": \"\"\n      }\n    },\n    {\n      \"column\": \"count\",\n      \"properties\": {\n        \"dtype\": \"number\",\n        \"std\": 0,\n        \"min\": 2,\n        \"max\": 3,\n        \"num_unique_values\": 2,\n        \"samples\": [\n          2,\n          3\n        ],\n        \"semantic_type\": \"\",\n        \"description\": \"\"\n      }\n    }\n  ]\n}"
            }
          },
          "metadata": {},
          "execution_count": 14
        }
      ]
    },
    {
      "cell_type": "markdown",
      "source": [
        "### Handling Duplicate Text Entries"
      ],
      "metadata": {
        "id": "Z9dxTOxu7SRk"
      }
    },
    {
      "cell_type": "code",
      "source": [
        "# Keeping the first occurrence of each duplicate\n",
        "sentiment_data = sentiment_data.drop_duplicates(subset=['Text'], keep='first')"
      ],
      "metadata": {
        "id": "z5rqQIW47V5o"
      },
      "execution_count": 15,
      "outputs": []
    },
    {
      "cell_type": "code",
      "source": [
        "print(\"No. of Duplicate Text Entries (keeping only the first occurrence): \", sentiment_data['Text'].duplicated().sum())"
      ],
      "metadata": {
        "colab": {
          "base_uri": "https://localhost:8080/"
        },
        "id": "tSakR6E77YvH",
        "outputId": "fb77c9ff-cf4f-4bd7-82b7-dde3e0486c3b"
      },
      "execution_count": 16,
      "outputs": [
        {
          "output_type": "stream",
          "name": "stdout",
          "text": [
            "No. of Duplicate Text Entries (keeping only the first occurrence):  0\n"
          ]
        }
      ]
    },
    {
      "cell_type": "code",
      "source": [
        "sentiment_data.info()"
      ],
      "metadata": {
        "colab": {
          "base_uri": "https://localhost:8080/"
        },
        "id": "N4-_B1zm7bgy",
        "outputId": "7aa84479-484f-4aad-8a09-07979343f9c3"
      },
      "execution_count": 17,
      "outputs": [
        {
          "output_type": "stream",
          "name": "stdout",
          "text": [
            "<class 'pandas.core.frame.DataFrame'>\n",
            "Index: 707 entries, 0 to 731\n",
            "Data columns (total 2 columns):\n",
            " #   Column     Non-Null Count  Dtype \n",
            "---  ------     --------------  ----- \n",
            " 0   Text       707 non-null    object\n",
            " 1   Sentiment  707 non-null    object\n",
            "dtypes: object(2)\n",
            "memory usage: 16.6+ KB\n"
          ]
        }
      ]
    },
    {
      "cell_type": "markdown",
      "source": [
        "## Data Preprocessing"
      ],
      "metadata": {
        "id": "f3Fkb3YSLHZ3"
      }
    },
    {
      "cell_type": "markdown",
      "source": [
        "### Encoding the sentiment labels"
      ],
      "metadata": {
        "id": "dIlJxmvSLKpR"
      }
    },
    {
      "cell_type": "code",
      "source": [
        "label_encoder = LabelEncoder()\n",
        "sentiment_data['Encoded Sentiment'] = label_encoder.fit_transform(sentiment_data['Sentiment'])"
      ],
      "metadata": {
        "id": "gnEKNiZILh1E"
      },
      "execution_count": 18,
      "outputs": []
    },
    {
      "cell_type": "markdown",
      "source": [
        "### Applying Preprocessing to all the texts"
      ],
      "metadata": {
        "id": "RcZwx2FnMFgF"
      }
    },
    {
      "cell_type": "code",
      "source": [
        "nltk.download('stopwords')\n",
        "nltk.download('punkt_tab')\n",
        "nltk.download('wordnet')\n",
        "\n",
        "def preprocess_text(text):\n",
        "    text = re.sub(r'[^a-zA-Z\\s]', '', text)\n",
        "    text = text.lower()\n",
        "    tokens = word_tokenize(text)\n",
        "    tokens = [word for word in tokens if word not in stopwords.words('english')]\n",
        "    lemmatizer = WordNetLemmatizer()\n",
        "    tokens = [lemmatizer.lemmatize(word) for word in tokens]\n",
        "    return tokens\n",
        "\n",
        "sentiment_data['Tokenized Text'] = [preprocess_text(text) for text in sentiment_data['Text'].values]"
      ],
      "metadata": {
        "id": "w9v-KX61bg4t",
        "colab": {
          "base_uri": "https://localhost:8080/"
        },
        "outputId": "a032727b-fbd5-4dcd-e000-f58f81431456"
      },
      "execution_count": 20,
      "outputs": [
        {
          "output_type": "stream",
          "name": "stderr",
          "text": [
            "[nltk_data] Downloading package stopwords to /root/nltk_data...\n",
            "[nltk_data]   Package stopwords is already up-to-date!\n",
            "[nltk_data] Downloading package punkt_tab to /root/nltk_data...\n",
            "[nltk_data]   Package punkt_tab is already up-to-date!\n",
            "[nltk_data] Downloading package wordnet to /root/nltk_data...\n"
          ]
        }
      ]
    },
    {
      "cell_type": "markdown",
      "source": [
        "### Dataset after Preprocessing/Tokenization of texts and Label Encoding of Sentiments"
      ],
      "metadata": {
        "id": "L_7kEIwwMbaO"
      }
    },
    {
      "cell_type": "code",
      "source": [
        "sentiment_data.head(10)"
      ],
      "metadata": {
        "colab": {
          "base_uri": "https://localhost:8080/",
          "height": 363
        },
        "id": "YrCYdmVYMlny",
        "outputId": "092c5f1c-de55-44a3-a098-78a5dd127682"
      },
      "execution_count": 21,
      "outputs": [
        {
          "output_type": "execute_result",
          "data": {
            "text/plain": [
              "                                                Text Sentiment  \\\n",
              "0   Enjoying a beautiful day at the park!        ...  Positive   \n",
              "1   Traffic was terrible this morning.           ...  Negative   \n",
              "2   Just finished an amazing workout! 💪          ...  Positive   \n",
              "3   Excited about the upcoming weekend getaway!  ...  Positive   \n",
              "4   Trying out a new recipe for dinner tonight.  ...   Neutral   \n",
              "5   Feeling grateful for the little things in lif...  Positive   \n",
              "6   Rainy days call for cozy blankets and hot coc...  Positive   \n",
              "7   The new movie release is a must-watch!       ...  Positive   \n",
              "8   Political discussions heating up on the timel...  Negative   \n",
              "9   Missing summer vibes and beach days.         ...   Neutral   \n",
              "\n",
              "   Encoded Sentiment                                 Tokenized Text  \n",
              "0                146               [enjoying, beautiful, day, park]  \n",
              "1                134                   [traffic, terrible, morning]  \n",
              "2                146                   [finished, amazing, workout]  \n",
              "3                146          [excited, upcoming, weekend, getaway]  \n",
              "4                135         [trying, new, recipe, dinner, tonight]  \n",
              "5                146       [feeling, grateful, little, thing, life]  \n",
              "6                146  [rainy, day, call, cozy, blanket, hot, cocoa]  \n",
              "7                146               [new, movie, release, mustwatch]  \n",
              "8                134     [political, discussion, heating, timeline]  \n",
              "9                135            [missing, summer, vibe, beach, day]  "
            ],
            "text/html": [
              "\n",
              "  <div id=\"df-6f47bba0-29bc-407c-8b6d-ed48cba19846\" class=\"colab-df-container\">\n",
              "    <div>\n",
              "<style scoped>\n",
              "    .dataframe tbody tr th:only-of-type {\n",
              "        vertical-align: middle;\n",
              "    }\n",
              "\n",
              "    .dataframe tbody tr th {\n",
              "        vertical-align: top;\n",
              "    }\n",
              "\n",
              "    .dataframe thead th {\n",
              "        text-align: right;\n",
              "    }\n",
              "</style>\n",
              "<table border=\"1\" class=\"dataframe\">\n",
              "  <thead>\n",
              "    <tr style=\"text-align: right;\">\n",
              "      <th></th>\n",
              "      <th>Text</th>\n",
              "      <th>Sentiment</th>\n",
              "      <th>Encoded Sentiment</th>\n",
              "      <th>Tokenized Text</th>\n",
              "    </tr>\n",
              "  </thead>\n",
              "  <tbody>\n",
              "    <tr>\n",
              "      <th>0</th>\n",
              "      <td>Enjoying a beautiful day at the park!        ...</td>\n",
              "      <td>Positive</td>\n",
              "      <td>146</td>\n",
              "      <td>[enjoying, beautiful, day, park]</td>\n",
              "    </tr>\n",
              "    <tr>\n",
              "      <th>1</th>\n",
              "      <td>Traffic was terrible this morning.           ...</td>\n",
              "      <td>Negative</td>\n",
              "      <td>134</td>\n",
              "      <td>[traffic, terrible, morning]</td>\n",
              "    </tr>\n",
              "    <tr>\n",
              "      <th>2</th>\n",
              "      <td>Just finished an amazing workout! 💪          ...</td>\n",
              "      <td>Positive</td>\n",
              "      <td>146</td>\n",
              "      <td>[finished, amazing, workout]</td>\n",
              "    </tr>\n",
              "    <tr>\n",
              "      <th>3</th>\n",
              "      <td>Excited about the upcoming weekend getaway!  ...</td>\n",
              "      <td>Positive</td>\n",
              "      <td>146</td>\n",
              "      <td>[excited, upcoming, weekend, getaway]</td>\n",
              "    </tr>\n",
              "    <tr>\n",
              "      <th>4</th>\n",
              "      <td>Trying out a new recipe for dinner tonight.  ...</td>\n",
              "      <td>Neutral</td>\n",
              "      <td>135</td>\n",
              "      <td>[trying, new, recipe, dinner, tonight]</td>\n",
              "    </tr>\n",
              "    <tr>\n",
              "      <th>5</th>\n",
              "      <td>Feeling grateful for the little things in lif...</td>\n",
              "      <td>Positive</td>\n",
              "      <td>146</td>\n",
              "      <td>[feeling, grateful, little, thing, life]</td>\n",
              "    </tr>\n",
              "    <tr>\n",
              "      <th>6</th>\n",
              "      <td>Rainy days call for cozy blankets and hot coc...</td>\n",
              "      <td>Positive</td>\n",
              "      <td>146</td>\n",
              "      <td>[rainy, day, call, cozy, blanket, hot, cocoa]</td>\n",
              "    </tr>\n",
              "    <tr>\n",
              "      <th>7</th>\n",
              "      <td>The new movie release is a must-watch!       ...</td>\n",
              "      <td>Positive</td>\n",
              "      <td>146</td>\n",
              "      <td>[new, movie, release, mustwatch]</td>\n",
              "    </tr>\n",
              "    <tr>\n",
              "      <th>8</th>\n",
              "      <td>Political discussions heating up on the timel...</td>\n",
              "      <td>Negative</td>\n",
              "      <td>134</td>\n",
              "      <td>[political, discussion, heating, timeline]</td>\n",
              "    </tr>\n",
              "    <tr>\n",
              "      <th>9</th>\n",
              "      <td>Missing summer vibes and beach days.         ...</td>\n",
              "      <td>Neutral</td>\n",
              "      <td>135</td>\n",
              "      <td>[missing, summer, vibe, beach, day]</td>\n",
              "    </tr>\n",
              "  </tbody>\n",
              "</table>\n",
              "</div>\n",
              "    <div class=\"colab-df-buttons\">\n",
              "\n",
              "  <div class=\"colab-df-container\">\n",
              "    <button class=\"colab-df-convert\" onclick=\"convertToInteractive('df-6f47bba0-29bc-407c-8b6d-ed48cba19846')\"\n",
              "            title=\"Convert this dataframe to an interactive table.\"\n",
              "            style=\"display:none;\">\n",
              "\n",
              "  <svg xmlns=\"http://www.w3.org/2000/svg\" height=\"24px\" viewBox=\"0 -960 960 960\">\n",
              "    <path d=\"M120-120v-720h720v720H120Zm60-500h600v-160H180v160Zm220 220h160v-160H400v160Zm0 220h160v-160H400v160ZM180-400h160v-160H180v160Zm440 0h160v-160H620v160ZM180-180h160v-160H180v160Zm440 0h160v-160H620v160Z\"/>\n",
              "  </svg>\n",
              "    </button>\n",
              "\n",
              "  <style>\n",
              "    .colab-df-container {\n",
              "      display:flex;\n",
              "      gap: 12px;\n",
              "    }\n",
              "\n",
              "    .colab-df-convert {\n",
              "      background-color: #E8F0FE;\n",
              "      border: none;\n",
              "      border-radius: 50%;\n",
              "      cursor: pointer;\n",
              "      display: none;\n",
              "      fill: #1967D2;\n",
              "      height: 32px;\n",
              "      padding: 0 0 0 0;\n",
              "      width: 32px;\n",
              "    }\n",
              "\n",
              "    .colab-df-convert:hover {\n",
              "      background-color: #E2EBFA;\n",
              "      box-shadow: 0px 1px 2px rgba(60, 64, 67, 0.3), 0px 1px 3px 1px rgba(60, 64, 67, 0.15);\n",
              "      fill: #174EA6;\n",
              "    }\n",
              "\n",
              "    .colab-df-buttons div {\n",
              "      margin-bottom: 4px;\n",
              "    }\n",
              "\n",
              "    [theme=dark] .colab-df-convert {\n",
              "      background-color: #3B4455;\n",
              "      fill: #D2E3FC;\n",
              "    }\n",
              "\n",
              "    [theme=dark] .colab-df-convert:hover {\n",
              "      background-color: #434B5C;\n",
              "      box-shadow: 0px 1px 3px 1px rgba(0, 0, 0, 0.15);\n",
              "      filter: drop-shadow(0px 1px 2px rgba(0, 0, 0, 0.3));\n",
              "      fill: #FFFFFF;\n",
              "    }\n",
              "  </style>\n",
              "\n",
              "    <script>\n",
              "      const buttonEl =\n",
              "        document.querySelector('#df-6f47bba0-29bc-407c-8b6d-ed48cba19846 button.colab-df-convert');\n",
              "      buttonEl.style.display =\n",
              "        google.colab.kernel.accessAllowed ? 'block' : 'none';\n",
              "\n",
              "      async function convertToInteractive(key) {\n",
              "        const element = document.querySelector('#df-6f47bba0-29bc-407c-8b6d-ed48cba19846');\n",
              "        const dataTable =\n",
              "          await google.colab.kernel.invokeFunction('convertToInteractive',\n",
              "                                                    [key], {});\n",
              "        if (!dataTable) return;\n",
              "\n",
              "        const docLinkHtml = 'Like what you see? Visit the ' +\n",
              "          '<a target=\"_blank\" href=https://colab.research.google.com/notebooks/data_table.ipynb>data table notebook</a>'\n",
              "          + ' to learn more about interactive tables.';\n",
              "        element.innerHTML = '';\n",
              "        dataTable['output_type'] = 'display_data';\n",
              "        await google.colab.output.renderOutput(dataTable, element);\n",
              "        const docLink = document.createElement('div');\n",
              "        docLink.innerHTML = docLinkHtml;\n",
              "        element.appendChild(docLink);\n",
              "      }\n",
              "    </script>\n",
              "  </div>\n",
              "\n",
              "\n",
              "<div id=\"df-4cc1ec3e-258d-4563-8b78-525a0757bbd9\">\n",
              "  <button class=\"colab-df-quickchart\" onclick=\"quickchart('df-4cc1ec3e-258d-4563-8b78-525a0757bbd9')\"\n",
              "            title=\"Suggest charts\"\n",
              "            style=\"display:none;\">\n",
              "\n",
              "<svg xmlns=\"http://www.w3.org/2000/svg\" height=\"24px\"viewBox=\"0 0 24 24\"\n",
              "     width=\"24px\">\n",
              "    <g>\n",
              "        <path d=\"M19 3H5c-1.1 0-2 .9-2 2v14c0 1.1.9 2 2 2h14c1.1 0 2-.9 2-2V5c0-1.1-.9-2-2-2zM9 17H7v-7h2v7zm4 0h-2V7h2v10zm4 0h-2v-4h2v4z\"/>\n",
              "    </g>\n",
              "</svg>\n",
              "  </button>\n",
              "\n",
              "<style>\n",
              "  .colab-df-quickchart {\n",
              "      --bg-color: #E8F0FE;\n",
              "      --fill-color: #1967D2;\n",
              "      --hover-bg-color: #E2EBFA;\n",
              "      --hover-fill-color: #174EA6;\n",
              "      --disabled-fill-color: #AAA;\n",
              "      --disabled-bg-color: #DDD;\n",
              "  }\n",
              "\n",
              "  [theme=dark] .colab-df-quickchart {\n",
              "      --bg-color: #3B4455;\n",
              "      --fill-color: #D2E3FC;\n",
              "      --hover-bg-color: #434B5C;\n",
              "      --hover-fill-color: #FFFFFF;\n",
              "      --disabled-bg-color: #3B4455;\n",
              "      --disabled-fill-color: #666;\n",
              "  }\n",
              "\n",
              "  .colab-df-quickchart {\n",
              "    background-color: var(--bg-color);\n",
              "    border: none;\n",
              "    border-radius: 50%;\n",
              "    cursor: pointer;\n",
              "    display: none;\n",
              "    fill: var(--fill-color);\n",
              "    height: 32px;\n",
              "    padding: 0;\n",
              "    width: 32px;\n",
              "  }\n",
              "\n",
              "  .colab-df-quickchart:hover {\n",
              "    background-color: var(--hover-bg-color);\n",
              "    box-shadow: 0 1px 2px rgba(60, 64, 67, 0.3), 0 1px 3px 1px rgba(60, 64, 67, 0.15);\n",
              "    fill: var(--button-hover-fill-color);\n",
              "  }\n",
              "\n",
              "  .colab-df-quickchart-complete:disabled,\n",
              "  .colab-df-quickchart-complete:disabled:hover {\n",
              "    background-color: var(--disabled-bg-color);\n",
              "    fill: var(--disabled-fill-color);\n",
              "    box-shadow: none;\n",
              "  }\n",
              "\n",
              "  .colab-df-spinner {\n",
              "    border: 2px solid var(--fill-color);\n",
              "    border-color: transparent;\n",
              "    border-bottom-color: var(--fill-color);\n",
              "    animation:\n",
              "      spin 1s steps(1) infinite;\n",
              "  }\n",
              "\n",
              "  @keyframes spin {\n",
              "    0% {\n",
              "      border-color: transparent;\n",
              "      border-bottom-color: var(--fill-color);\n",
              "      border-left-color: var(--fill-color);\n",
              "    }\n",
              "    20% {\n",
              "      border-color: transparent;\n",
              "      border-left-color: var(--fill-color);\n",
              "      border-top-color: var(--fill-color);\n",
              "    }\n",
              "    30% {\n",
              "      border-color: transparent;\n",
              "      border-left-color: var(--fill-color);\n",
              "      border-top-color: var(--fill-color);\n",
              "      border-right-color: var(--fill-color);\n",
              "    }\n",
              "    40% {\n",
              "      border-color: transparent;\n",
              "      border-right-color: var(--fill-color);\n",
              "      border-top-color: var(--fill-color);\n",
              "    }\n",
              "    60% {\n",
              "      border-color: transparent;\n",
              "      border-right-color: var(--fill-color);\n",
              "    }\n",
              "    80% {\n",
              "      border-color: transparent;\n",
              "      border-right-color: var(--fill-color);\n",
              "      border-bottom-color: var(--fill-color);\n",
              "    }\n",
              "    90% {\n",
              "      border-color: transparent;\n",
              "      border-bottom-color: var(--fill-color);\n",
              "    }\n",
              "  }\n",
              "</style>\n",
              "\n",
              "  <script>\n",
              "    async function quickchart(key) {\n",
              "      const quickchartButtonEl =\n",
              "        document.querySelector('#' + key + ' button');\n",
              "      quickchartButtonEl.disabled = true;  // To prevent multiple clicks.\n",
              "      quickchartButtonEl.classList.add('colab-df-spinner');\n",
              "      try {\n",
              "        const charts = await google.colab.kernel.invokeFunction(\n",
              "            'suggestCharts', [key], {});\n",
              "      } catch (error) {\n",
              "        console.error('Error during call to suggestCharts:', error);\n",
              "      }\n",
              "      quickchartButtonEl.classList.remove('colab-df-spinner');\n",
              "      quickchartButtonEl.classList.add('colab-df-quickchart-complete');\n",
              "    }\n",
              "    (() => {\n",
              "      let quickchartButtonEl =\n",
              "        document.querySelector('#df-4cc1ec3e-258d-4563-8b78-525a0757bbd9 button');\n",
              "      quickchartButtonEl.style.display =\n",
              "        google.colab.kernel.accessAllowed ? 'block' : 'none';\n",
              "    })();\n",
              "  </script>\n",
              "</div>\n",
              "\n",
              "    </div>\n",
              "  </div>\n"
            ],
            "application/vnd.google.colaboratory.intrinsic+json": {
              "type": "dataframe",
              "variable_name": "sentiment_data",
              "summary": "{\n  \"name\": \"sentiment_data\",\n  \"rows\": 707,\n  \"fields\": [\n    {\n      \"column\": \"Text\",\n      \"properties\": {\n        \"dtype\": \"string\",\n        \"num_unique_values\": 707,\n        \"samples\": [\n          \"Walking the Great Wall of China, each step a testament to ancient engineering marvels. \",\n          \" Laughter is the key to joy\\u2014attending a stand-up comedy show. \",\n          \" The fear of the unknown is keeping me up at night.    \"\n        ],\n        \"semantic_type\": \"\",\n        \"description\": \"\"\n      }\n    },\n    {\n      \"column\": \"Sentiment\",\n      \"properties\": {\n        \"dtype\": \"category\",\n        \"num_unique_values\": 191,\n        \"samples\": [\n          \"Colorful\",\n          \"Devastated\",\n          \"Touched\"\n        ],\n        \"semantic_type\": \"\",\n        \"description\": \"\"\n      }\n    },\n    {\n      \"column\": \"Encoded Sentiment\",\n      \"properties\": {\n        \"dtype\": \"number\",\n        \"std\": 50,\n        \"min\": 0,\n        \"max\": 190,\n        \"num_unique_values\": 191,\n        \"samples\": [\n          32,\n          53,\n          180\n        ],\n        \"semantic_type\": \"\",\n        \"description\": \"\"\n      }\n    },\n    {\n      \"column\": \"Tokenized Text\",\n      \"properties\": {\n        \"dtype\": \"object\",\n        \"semantic_type\": \"\",\n        \"description\": \"\"\n      }\n    }\n  ]\n}"
            }
          },
          "metadata": {},
          "execution_count": 21
        }
      ]
    },
    {
      "cell_type": "markdown",
      "source": [
        "### Extracting the Relevant Columns"
      ],
      "metadata": {
        "id": "M6gOG7ioaQC6"
      }
    },
    {
      "cell_type": "code",
      "source": [
        "tokenized_texts = sentiment_data['Tokenized Text'].values\n",
        "labels = sentiment_data['Encoded Sentiment'].values"
      ],
      "metadata": {
        "id": "97EzNH4raTvn"
      },
      "execution_count": 22,
      "outputs": []
    },
    {
      "cell_type": "markdown",
      "source": [
        "### Word2Vec Training & Text Vectorization"
      ],
      "metadata": {
        "id": "3W-KUBFoOO6I"
      }
    },
    {
      "cell_type": "markdown",
      "source": [
        "#### Train custom Word2Vec model"
      ],
      "metadata": {
        "id": "MWR_z3YUOSut"
      }
    },
    {
      "cell_type": "code",
      "source": [
        "word2vec_model = Word2Vec(\n",
        "    sentences=tokenized_texts,  # List of tokenized sentences\n",
        "    vector_size=100,            # Size of the word vectors\n",
        "    window=5,                   # Maximum distance between the current and predicted word\n",
        "    min_count=2,                # Ignores words with frequency lower than this\n",
        "    workers=4,                  # Number of CPU cores\n",
        "    sg = 1\n",
        ")"
      ],
      "metadata": {
        "id": "wMfwjaYacS-j"
      },
      "execution_count": 25,
      "outputs": []
    },
    {
      "cell_type": "code",
      "source": [
        "word2vec_model.save(\"word2vec.model\")"
      ],
      "metadata": {
        "id": "OP_bpk9agpyA"
      },
      "execution_count": 26,
      "outputs": []
    },
    {
      "cell_type": "markdown",
      "source": [
        "#### Word2Vec vocabulary details"
      ],
      "metadata": {
        "id": "JOVlvAjua_j6"
      }
    },
    {
      "cell_type": "code",
      "source": [
        "print(\"Word2Vec vocabulary size:\", len(word2vec_model.wv))\n",
        "print(\"Sample words in vocabulary:\", list(word2vec_model.wv.index_to_key)[:10])"
      ],
      "metadata": {
        "colab": {
          "base_uri": "https://localhost:8080/"
        },
        "id": "JskVYgAzeFQi",
        "outputId": "1969e84e-8049-4da8-a756-64e1f948e3bf"
      },
      "execution_count": 27,
      "outputs": [
        {
          "output_type": "stream",
          "name": "stdout",
          "text": [
            "Word2Vec vocabulary size: 978\n",
            "Sample words in vocabulary: ['new', 'life', 'day', 'joy', 'moment', 'feeling', 'like', 'friend', 'heart', 'night']\n"
          ]
        }
      ]
    },
    {
      "cell_type": "code",
      "source": [
        "# sample word vector\n",
        "word2vec_model.wv['dream']"
      ],
      "metadata": {
        "colab": {
          "base_uri": "https://localhost:8080/"
        },
        "id": "3gco8k9FGXaw",
        "outputId": "55ccf915-6eaa-4962-caa1-cb96665ce56a"
      },
      "execution_count": 32,
      "outputs": [
        {
          "output_type": "execute_result",
          "data": {
            "text/plain": [
              "array([-0.00134503,  0.00749628,  0.01095018, -0.01083784, -0.00843607,\n",
              "       -0.01750925, -0.00180087,  0.01882845, -0.00985678, -0.01170151,\n",
              "        0.00149062, -0.01250158,  0.00785652, -0.00074926,  0.00553191,\n",
              "       -0.00010326,  0.00367569, -0.01256671,  0.00342911, -0.02101866,\n",
              "        0.00043042,  0.00021563,  0.01052013, -0.01023289, -0.00771293,\n",
              "        0.00548167, -0.00563027, -0.01094416,  0.00374056,  0.00462585,\n",
              "        0.00411291,  0.00455317,  0.01100338,  0.00785194,  0.00418933,\n",
              "        0.01263985,  0.00027707, -0.00781501, -0.0131604 , -0.01429575,\n",
              "        0.00093814, -0.00445574, -0.00603149,  0.00528949, -0.00315149,\n",
              "       -0.0103952 , -0.00441027, -0.00483939, -0.00533885,  0.00661615,\n",
              "       -0.00096278, -0.00697056, -0.0093878 ,  0.00331642, -0.00594855,\n",
              "        0.00445199, -0.00104791, -0.00168783, -0.00209766,  0.00430703,\n",
              "       -0.00645585, -0.00095533, -0.00142288, -0.00096768, -0.0190217 ,\n",
              "        0.00868203, -0.00413591, -0.00284536, -0.00577498,  0.0043245 ,\n",
              "       -0.00265423,  0.00752113,  0.00453402,  0.01297446,  0.00690739,\n",
              "        0.01358398,  0.00639394, -0.01204719, -0.009677  ,  0.01309377,\n",
              "        0.00635608,  0.00816396,  0.00190839,  0.01871399, -0.00908463,\n",
              "        0.00489046, -0.00663631,  0.01441263,  0.01400485,  0.00860978,\n",
              "        0.01709686,  0.00470948, -0.00372317,  0.00583624,  0.00522263,\n",
              "        0.00974707,  0.01501857, -0.01562292,  0.00821107, -0.00993399],\n",
              "      dtype=float32)"
            ]
          },
          "metadata": {},
          "execution_count": 32
        }
      ]
    },
    {
      "cell_type": "markdown",
      "source": [
        "#### Converting the Tokenized texts into Sentence vectors"
      ],
      "metadata": {
        "id": "SmWrx5PUbnr0"
      }
    },
    {
      "cell_type": "code",
      "source": [
        "# using average of word vectors to represent sentences.\n",
        "def text_to_vectors(text, model, vector_size=100):\n",
        "    vectors = [model.wv[word] for word in text if word in model.wv]\n",
        "    if len(vectors) > 0:\n",
        "        return np.mean(vectors, axis=0)  # Average word vectors\n",
        "    else:\n",
        "        return np.zeros(vector_size)  # Return zero vector if no words are in vocabulary"
      ],
      "metadata": {
        "id": "Ur0YrrTRCAaa"
      },
      "execution_count": 29,
      "outputs": []
    },
    {
      "cell_type": "code",
      "source": [
        "vectorized_texts = np.array([text_to_vectors(text, model) for text in tokenized_texts])"
      ],
      "metadata": {
        "id": "y4y_rzEnCIRz"
      },
      "execution_count": 30,
      "outputs": []
    },
    {
      "cell_type": "code",
      "source": [
        "vectorized_texts.shape"
      ],
      "metadata": {
        "colab": {
          "base_uri": "https://localhost:8080/"
        },
        "id": "BfwleIwxc4pT",
        "outputId": "cc5b7db5-1ef0-49be-b6df-b616d03168ae"
      },
      "execution_count": 31,
      "outputs": [
        {
          "output_type": "execute_result",
          "data": {
            "text/plain": [
              "(707, 100)"
            ]
          },
          "metadata": {},
          "execution_count": 31
        }
      ]
    },
    {
      "cell_type": "code",
      "source": [
        "print(\"First Sentence in Tokenized form:\\n\", tokenized_texts[0])\n",
        "print(\"\\nFirst Sentence in Vectorized form:\\n\", vectorized_texts[0])  # Printing the first 5 word vectors from the first sentence"
      ],
      "metadata": {
        "colab": {
          "base_uri": "https://localhost:8080/"
        },
        "id": "C96__0EwDbt_",
        "outputId": "49306279-7084-4856-94e2-937d13f68d43"
      },
      "execution_count": 33,
      "outputs": [
        {
          "output_type": "stream",
          "name": "stdout",
          "text": [
            "First Sentence in Tokenized form:\n",
            " ['enjoying', 'beautiful', 'day', 'park']\n",
            "\n",
            "First Sentence in Vectorized form:\n",
            " [-0.00513012  0.00556102 -0.00458171 -0.00411881 -0.00185008 -0.0036347\n",
            " -0.00493423  0.00625088 -0.00465942  0.00146757 -0.00988239 -0.00609408\n",
            "  0.00271998  0.001852    0.00251819 -0.00564513  0.00096643  0.00044542\n",
            " -0.0010063  -0.00850558  0.00213788 -0.00097737 -0.00280217 -0.00342641\n",
            "  0.00315668 -0.00055318 -0.00039253  0.00011234 -0.00105617  0.00550717\n",
            "  0.00352085 -0.00223756  0.00176134 -0.00107218 -0.00067751  0.00136745\n",
            "  0.00445134 -0.00372059 -0.00085777 -0.00333346 -0.00470237 -0.00290568\n",
            "  0.00027674  0.00112983  0.00304642 -0.00339039  0.00042893 -0.00145852\n",
            " -0.00047056  0.00164184  0.0007676  -0.00551474 -0.00073693 -0.00200427\n",
            "  0.00049124  0.00226406  0.00074432  0.00218045 -0.00711484 -0.00230741\n",
            " -0.0008423   0.00310927 -0.00239204  0.00160744 -0.00837686  0.00427378\n",
            "  0.00692792  0.00294463 -0.00246845  0.00964445  0.00128749 -0.00122129\n",
            "  0.00452331  0.00311141 -0.00111498  0.00659626 -0.00198577  0.00271161\n",
            " -0.00249874 -0.00016081  0.00104207 -0.00485833 -0.00388877  0.00652634\n",
            "  0.00332418 -0.00032173 -0.00360014 -0.00227816  0.00325929  0.00147947\n",
            "  0.00462784  0.00584954  0.00167817 -0.00173407  0.00789859  0.00267799\n",
            "  0.00750378 -0.00357435  0.00351395 -0.0001428 ]\n"
          ]
        }
      ]
    },
    {
      "cell_type": "markdown",
      "source": [
        "### Preparing Data for Training"
      ],
      "metadata": {
        "id": "GWHA_Tdge5FB"
      }
    },
    {
      "cell_type": "code",
      "source": [
        "X = vectorized_texts\n",
        "y = labels"
      ],
      "metadata": {
        "id": "ly_wRyz0CLj7"
      },
      "execution_count": 34,
      "outputs": []
    },
    {
      "cell_type": "code",
      "source": [
        "class SentimentDataset(Dataset):\n",
        "    def __init__(self, X, y):\n",
        "        self.X = torch.tensor(X, dtype=torch.float32)\n",
        "        self.y = torch.tensor(y, dtype=torch.long)\n",
        "\n",
        "    def __len__(self):\n",
        "        return len(self.X)\n",
        "\n",
        "    def __getitem__(self, idx):\n",
        "        return self.X[idx], self.y[idx]"
      ],
      "metadata": {
        "id": "F7C5QFDQVW7r"
      },
      "execution_count": 35,
      "outputs": []
    },
    {
      "cell_type": "code",
      "source": [
        "# DataLoader for training\n",
        "batch_size = 64\n",
        "dataset = SentimentDataset(X, y)\n",
        "dataloader = DataLoader(dataset, batch_size=batch_size, shuffle=True)"
      ],
      "metadata": {
        "id": "JpjPky6Vv29b"
      },
      "execution_count": 36,
      "outputs": []
    },
    {
      "cell_type": "code",
      "source": [],
      "metadata": {
        "id": "U1y2dk7Khx9B"
      },
      "execution_count": null,
      "outputs": []
    }
  ]
}