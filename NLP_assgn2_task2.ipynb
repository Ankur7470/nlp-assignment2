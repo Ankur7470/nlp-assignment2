{
  "cells": [
    {
      "cell_type": "markdown",
      "metadata": {
        "colab_type": "text",
        "id": "view-in-github"
      },
      "source": [
        "<a href=\"https://colab.research.google.com/github/Ankur7470/nlp-assignment2/blob/main/NLP_assgn2_task2.ipynb\" target=\"_parent\"><img src=\"https://colab.research.google.com/assets/colab-badge.svg\" alt=\"Open In Colab\"/></a>"
      ]
    },
    {
      "cell_type": "code",
      "execution_count": 152,
      "metadata": {
        "colab": {
          "base_uri": "https://localhost:8080/"
        },
        "id": "8_J5SC7fKwWh",
        "outputId": "5acaa82f-6fec-46a9-d97d-173166bec684"
      },
      "outputs": [
        {
          "name": "stdout",
          "output_type": "stream",
          "text": [
            "Requirement already satisfied: gensim in c:\\users\\mbash\\documents\\mtech_2_term\\nlp\\torch-tut\\lib\\site-packages (4.3.3)\n",
            "Requirement already satisfied: numpy<2.0,>=1.18.5 in c:\\users\\mbash\\documents\\mtech_2_term\\nlp\\torch-tut\\lib\\site-packages (from gensim) (1.26.4)\n",
            "Requirement already satisfied: scipy<1.14.0,>=1.7.0 in c:\\users\\mbash\\documents\\mtech_2_term\\nlp\\torch-tut\\lib\\site-packages (from gensim) (1.13.1)\n",
            "Requirement already satisfied: smart-open>=1.8.1 in c:\\users\\mbash\\documents\\mtech_2_term\\nlp\\torch-tut\\lib\\site-packages (from gensim) (7.1.0)\n",
            "Requirement already satisfied: wrapt in c:\\users\\mbash\\documents\\mtech_2_term\\nlp\\torch-tut\\lib\\site-packages (from smart-open>=1.8.1->gensim) (1.17.2)\n"
          ]
        },
        {
          "name": "stderr",
          "output_type": "stream",
          "text": [
            "\n",
            "[notice] A new release of pip is available: 24.3.1 -> 25.0.1\n",
            "[notice] To update, run: python.exe -m pip install --upgrade pip\n"
          ]
        }
      ],
      "source": [
        "!pip install gensim"
      ]
    },
    {
      "cell_type": "code",
      "execution_count": 153,
      "metadata": {},
      "outputs": [
        {
          "name": "stdout",
          "output_type": "stream",
          "text": [
            "Requirement already satisfied: nltk in c:\\users\\mbash\\documents\\mtech_2_term\\nlp\\torch-tut\\lib\\site-packages (3.9.1)\n",
            "Requirement already satisfied: click in c:\\users\\mbash\\documents\\mtech_2_term\\nlp\\torch-tut\\lib\\site-packages (from nltk) (8.1.8)\n",
            "Requirement already satisfied: joblib in c:\\users\\mbash\\documents\\mtech_2_term\\nlp\\torch-tut\\lib\\site-packages (from nltk) (1.4.2)\n",
            "Requirement already satisfied: regex>=2021.8.3 in c:\\users\\mbash\\documents\\mtech_2_term\\nlp\\torch-tut\\lib\\site-packages (from nltk) (2024.11.6)\n",
            "Requirement already satisfied: tqdm in c:\\users\\mbash\\documents\\mtech_2_term\\nlp\\torch-tut\\lib\\site-packages (from nltk) (4.67.1)\n",
            "Requirement already satisfied: colorama in c:\\users\\mbash\\documents\\mtech_2_term\\nlp\\torch-tut\\lib\\site-packages (from click->nltk) (0.4.6)\n",
            "Note: you may need to restart the kernel to use updated packages.\n"
          ]
        },
        {
          "name": "stderr",
          "output_type": "stream",
          "text": [
            "\n",
            "[notice] A new release of pip is available: 24.3.1 -> 25.0.1\n",
            "[notice] To update, run: python.exe -m pip install --upgrade pip\n"
          ]
        }
      ],
      "source": [
        "%pip install nltk"
      ]
    },
    {
      "cell_type": "markdown",
      "metadata": {
        "id": "hU1piVqgJr6I"
      },
      "source": [
        "## Importing the necessary libraries"
      ]
    },
    {
      "cell_type": "code",
      "execution_count": 154,
      "metadata": {
        "id": "rc_p9n86CkgZ"
      },
      "outputs": [],
      "source": [
        "import pandas as pd\n",
        "import numpy as np\n",
        "import re\n",
        "import nltk\n",
        "from nltk.tokenize import word_tokenize\n",
        "from nltk.corpus import stopwords\n",
        "from nltk.stem import WordNetLemmatizer\n",
        "from sklearn.preprocessing import LabelEncoder\n",
        "from gensim.models import Word2Vec\n",
        "import torch\n",
        "from torch.utils.data import Dataset, DataLoader, random_split\n",
        "import matplotlib.pyplot as plt\n",
        "import seaborn as sns\n",
        "import torch.nn as nn\n",
        "import torch.nn.functional as F\n",
        "from sklearn.metrics import confusion_matrix, classification_report, accuracy_score\n",
        "\n"
      ]
    },
    {
      "cell_type": "markdown",
      "metadata": {
        "id": "fwONm8NXJxty"
      },
      "source": [
        "## EDA"
      ]
    },
    {
      "cell_type": "markdown",
      "metadata": {
        "id": "5SnqkZjRJ9ZF"
      },
      "source": [
        "### Loading the Sentiment Analysis Dataset"
      ]
    },
    {
      "cell_type": "code",
      "execution_count": 155,
      "metadata": {
        "id": "8-lPy3OvKl02"
      },
      "outputs": [],
      "source": [
        "sentiment_data = pd.read_csv(\"./dataset/sentimentdataset.csv\")"
      ]
    },
    {
      "cell_type": "markdown",
      "metadata": {
        "id": "2E04nAZMKB6u"
      },
      "source": [
        "### Information about the Dataset"
      ]
    },
    {
      "cell_type": "code",
      "execution_count": 156,
      "metadata": {
        "colab": {
          "base_uri": "https://localhost:8080/",
          "height": 695
        },
        "id": "4dzs3faoLbhc",
        "outputId": "73a77d3a-6762-4f06-ae11-f158216708ad"
      },
      "outputs": [
        {
          "data": {
            "text/html": [
              "<div>\n",
              "<style scoped>\n",
              "    .dataframe tbody tr th:only-of-type {\n",
              "        vertical-align: middle;\n",
              "    }\n",
              "\n",
              "    .dataframe tbody tr th {\n",
              "        vertical-align: top;\n",
              "    }\n",
              "\n",
              "    .dataframe thead th {\n",
              "        text-align: right;\n",
              "    }\n",
              "</style>\n",
              "<table border=\"1\" class=\"dataframe\">\n",
              "  <thead>\n",
              "    <tr style=\"text-align: right;\">\n",
              "      <th></th>\n",
              "      <th>Unnamed: 0.1</th>\n",
              "      <th>Unnamed: 0</th>\n",
              "      <th>Text</th>\n",
              "      <th>Sentiment</th>\n",
              "      <th>Timestamp</th>\n",
              "      <th>User</th>\n",
              "      <th>Platform</th>\n",
              "      <th>Hashtags</th>\n",
              "      <th>Retweets</th>\n",
              "      <th>Likes</th>\n",
              "      <th>Country</th>\n",
              "      <th>Year</th>\n",
              "      <th>Month</th>\n",
              "      <th>Day</th>\n",
              "      <th>Hour</th>\n",
              "    </tr>\n",
              "  </thead>\n",
              "  <tbody>\n",
              "    <tr>\n",
              "      <th>0</th>\n",
              "      <td>0</td>\n",
              "      <td>0</td>\n",
              "      <td>Enjoying a beautiful day at the park!        ...</td>\n",
              "      <td>Positive</td>\n",
              "      <td>2023-01-15 12:30:00</td>\n",
              "      <td>User123</td>\n",
              "      <td>Twitter</td>\n",
              "      <td>#Nature #Park</td>\n",
              "      <td>15.0</td>\n",
              "      <td>30.0</td>\n",
              "      <td>USA</td>\n",
              "      <td>2023</td>\n",
              "      <td>1</td>\n",
              "      <td>15</td>\n",
              "      <td>12</td>\n",
              "    </tr>\n",
              "    <tr>\n",
              "      <th>1</th>\n",
              "      <td>1</td>\n",
              "      <td>1</td>\n",
              "      <td>Traffic was terrible this morning.           ...</td>\n",
              "      <td>Negative</td>\n",
              "      <td>2023-01-15 08:45:00</td>\n",
              "      <td>CommuterX</td>\n",
              "      <td>Twitter</td>\n",
              "      <td>#Traffic #Morning</td>\n",
              "      <td>5.0</td>\n",
              "      <td>10.0</td>\n",
              "      <td>Canada</td>\n",
              "      <td>2023</td>\n",
              "      <td>1</td>\n",
              "      <td>15</td>\n",
              "      <td>8</td>\n",
              "    </tr>\n",
              "    <tr>\n",
              "      <th>2</th>\n",
              "      <td>2</td>\n",
              "      <td>2</td>\n",
              "      <td>Just finished an amazing workout! 💪          ...</td>\n",
              "      <td>Positive</td>\n",
              "      <td>2023-01-15 15:45:00</td>\n",
              "      <td>FitnessFan</td>\n",
              "      <td>Instagram</td>\n",
              "      <td>#Fitness #Workout</td>\n",
              "      <td>20.0</td>\n",
              "      <td>40.0</td>\n",
              "      <td>USA</td>\n",
              "      <td>2023</td>\n",
              "      <td>1</td>\n",
              "      <td>15</td>\n",
              "      <td>15</td>\n",
              "    </tr>\n",
              "    <tr>\n",
              "      <th>3</th>\n",
              "      <td>3</td>\n",
              "      <td>3</td>\n",
              "      <td>Excited about the upcoming weekend getaway!  ...</td>\n",
              "      <td>Positive</td>\n",
              "      <td>2023-01-15 18:20:00</td>\n",
              "      <td>AdventureX</td>\n",
              "      <td>Facebook</td>\n",
              "      <td>#Travel #Adventure</td>\n",
              "      <td>8.0</td>\n",
              "      <td>15.0</td>\n",
              "      <td>UK</td>\n",
              "      <td>2023</td>\n",
              "      <td>1</td>\n",
              "      <td>15</td>\n",
              "      <td>18</td>\n",
              "    </tr>\n",
              "    <tr>\n",
              "      <th>4</th>\n",
              "      <td>4</td>\n",
              "      <td>4</td>\n",
              "      <td>Trying out a new recipe for dinner tonight.  ...</td>\n",
              "      <td>Neutral</td>\n",
              "      <td>2023-01-15 19:55:00</td>\n",
              "      <td>ChefCook</td>\n",
              "      <td>Instagram</td>\n",
              "      <td>#Cooking #Food</td>\n",
              "      <td>12.0</td>\n",
              "      <td>25.0</td>\n",
              "      <td>Australia</td>\n",
              "      <td>2023</td>\n",
              "      <td>1</td>\n",
              "      <td>15</td>\n",
              "      <td>19</td>\n",
              "    </tr>\n",
              "  </tbody>\n",
              "</table>\n",
              "</div>"
            ],
            "text/plain": [
              "   Unnamed: 0.1  Unnamed: 0  \\\n",
              "0             0           0   \n",
              "1             1           1   \n",
              "2             2           2   \n",
              "3             3           3   \n",
              "4             4           4   \n",
              "\n",
              "                                                Text    Sentiment  \\\n",
              "0   Enjoying a beautiful day at the park!        ...   Positive     \n",
              "1   Traffic was terrible this morning.           ...   Negative     \n",
              "2   Just finished an amazing workout! 💪          ...   Positive     \n",
              "3   Excited about the upcoming weekend getaway!  ...   Positive     \n",
              "4   Trying out a new recipe for dinner tonight.  ...   Neutral      \n",
              "\n",
              "             Timestamp            User     Platform  \\\n",
              "0  2023-01-15 12:30:00   User123          Twitter     \n",
              "1  2023-01-15 08:45:00   CommuterX        Twitter     \n",
              "2  2023-01-15 15:45:00   FitnessFan      Instagram    \n",
              "3  2023-01-15 18:20:00   AdventureX       Facebook    \n",
              "4  2023-01-15 19:55:00   ChefCook        Instagram    \n",
              "\n",
              "                                     Hashtags  Retweets  Likes       Country  \\\n",
              "0   #Nature #Park                                  15.0   30.0     USA         \n",
              "1   #Traffic #Morning                               5.0   10.0     Canada      \n",
              "2   #Fitness #Workout                              20.0   40.0   USA           \n",
              "3   #Travel #Adventure                              8.0   15.0     UK          \n",
              "4   #Cooking #Food                                 12.0   25.0    Australia    \n",
              "\n",
              "   Year  Month  Day  Hour  \n",
              "0  2023      1   15    12  \n",
              "1  2023      1   15     8  \n",
              "2  2023      1   15    15  \n",
              "3  2023      1   15    18  \n",
              "4  2023      1   15    19  "
            ]
          },
          "execution_count": 156,
          "metadata": {},
          "output_type": "execute_result"
        }
      ],
      "source": [
        "sentiment_data.head()"
      ]
    },
    {
      "cell_type": "code",
      "execution_count": 157,
      "metadata": {
        "colab": {
          "base_uri": "https://localhost:8080/"
        },
        "id": "gmc-2FsmLhDO",
        "outputId": "cb39b475-ba0e-4cdb-f2b8-52ce5cd184c5"
      },
      "outputs": [
        {
          "name": "stdout",
          "output_type": "stream",
          "text": [
            "<class 'pandas.core.frame.DataFrame'>\n",
            "RangeIndex: 732 entries, 0 to 731\n",
            "Data columns (total 15 columns):\n",
            " #   Column        Non-Null Count  Dtype  \n",
            "---  ------        --------------  -----  \n",
            " 0   Unnamed: 0.1  732 non-null    int64  \n",
            " 1   Unnamed: 0    732 non-null    int64  \n",
            " 2   Text          732 non-null    object \n",
            " 3   Sentiment     732 non-null    object \n",
            " 4   Timestamp     732 non-null    object \n",
            " 5   User          732 non-null    object \n",
            " 6   Platform      732 non-null    object \n",
            " 7   Hashtags      732 non-null    object \n",
            " 8   Retweets      732 non-null    float64\n",
            " 9   Likes         732 non-null    float64\n",
            " 10  Country       732 non-null    object \n",
            " 11  Year          732 non-null    int64  \n",
            " 12  Month         732 non-null    int64  \n",
            " 13  Day           732 non-null    int64  \n",
            " 14  Hour          732 non-null    int64  \n",
            "dtypes: float64(2), int64(6), object(7)\n",
            "memory usage: 85.9+ KB\n"
          ]
        }
      ],
      "source": [
        "sentiment_data.info()"
      ]
    },
    {
      "cell_type": "code",
      "execution_count": 158,
      "metadata": {
        "id": "yGPPxJzLLsXu"
      },
      "outputs": [],
      "source": [
        "sentiment_data = sentiment_data.drop(columns=['Unnamed: 0.1', 'Unnamed: 0', 'Timestamp', 'User', 'Platform', 'Hashtags', 'Retweets', 'Likes', 'Country', 'Year', 'Month', 'Day', 'Hour'])"
      ]
    },
    {
      "cell_type": "markdown",
      "metadata": {
        "id": "gqRmwS9P6uHW"
      },
      "source": [
        "### Working with Sentiment Labels"
      ]
    },
    {
      "cell_type": "code",
      "execution_count": 159,
      "metadata": {
        "colab": {
          "base_uri": "https://localhost:8080/"
        },
        "id": "MdBfnOaoKQJL",
        "outputId": "72ce703b-7d1c-4503-bca0-bb790157e11e"
      },
      "outputs": [
        {
          "name": "stdout",
          "output_type": "stream",
          "text": [
            "\n",
            "No. of Unique Sentiments: 279\n"
          ]
        }
      ],
      "source": [
        "print(\"\\nNo. of Unique Sentiments:\", sentiment_data['Sentiment'].nunique())"
      ]
    },
    {
      "cell_type": "code",
      "execution_count": 160,
      "metadata": {
        "colab": {
          "base_uri": "https://localhost:8080/"
        },
        "id": "JtHv9fQJvToQ",
        "outputId": "f17c6513-478e-4596-8c22-21bb2780cc38"
      },
      "outputs": [
        {
          "data": {
            "text/plain": [
              "array([' Positive  ', ' Negative  ', ' Neutral   ', ' Anger        ',\n",
              "       ' Fear         ', ' Sadness      ', ' Disgust      ',\n",
              "       ' Happiness    ', ' Joy          ', ' Love         ',\n",
              "       ' Amusement    ', ' Enjoyment    ', ' Admiration   ',\n",
              "       ' Affection    ', ' Awe          ', ' Disappointed ',\n",
              "       ' Surprise     ', ' Acceptance   ', ' Adoration    ',\n",
              "       ' Anticipation ', ' Bitter       ', ' Calmness     ',\n",
              "       ' Confusion    ', ' Excitement   ', ' Kind         ',\n",
              "       ' Pride        ', ' Shame        ', ' Confusion ', ' Excitement ',\n",
              "       ' Shame ', ' Elation       ', ' Euphoria      ', ' Contentment   ',\n",
              "       ' Serenity      ', ' Gratitude     ', ' Hope          ',\n",
              "       ' Empowerment   ', ' Compassion    ', ' Tenderness    ',\n",
              "       ' Arousal       ', ' Enthusiasm    ', ' Fulfillment  ',\n",
              "       ' Reverence     ', ' Compassion', ' Fulfillment   ', ' Reverence ',\n",
              "       ' Elation   ', ' Despair         ', ' Grief           ',\n",
              "       ' Loneliness      ', ' Jealousy        ', ' Resentment      ',\n",
              "       ' Frustration     ', ' Boredom         ', ' Anxiety         ',\n",
              "       ' Intimidation    ', ' Helplessness    ', ' Envy            ',\n",
              "       ' Regret         ', ' Disgust         ', ' Despair      ',\n",
              "       ' Loneliness ', ' Frustration ', ' Anxiety   ', ' Intimidation ',\n",
              "       ' Helplessness ', ' Jealousy    ', ' Curiosity       ',\n",
              "       ' Indifference    ', ' Confusion       ', ' Numbness        ',\n",
              "       ' Melancholy      ', ' Nostalgia       ', ' Ambivalence     ',\n",
              "       ' Acceptance      ', ' Determination   ', ' Serenity        ',\n",
              "       ' Numbness ', ' Zest ', ' Contentment ', ' Hopeful ', ' Proud ',\n",
              "       ' Grateful ', ' Empathetic ', ' Compassionate ', ' Playful ',\n",
              "       ' Free-spirited ', ' Inspired ', ' Confident ', ' Serenity ',\n",
              "       ' Curiosity ', ' Ambivalence ', ' Despair ', ' Bitterness ',\n",
              "       ' Yearning ', ' Fearful ', ' Apprehensive ', ' Overwhelmed ',\n",
              "       ' Jealous ', ' Devastated ', ' Frustrated ', ' Envious ',\n",
              "       ' Dismissive ', ' Awe           ', ' Determination ',\n",
              "       ' Nostalgia      ', ' Thrill        ', ' Calmness      ',\n",
              "       ' Overwhelmed   ', ' Gratitude   ', ' Bittersweet ',\n",
              "       ' Curiosity     ', ' Admiration    ', ' Overjoyed     ',\n",
              "       ' Inspiration   ', ' Motivation    ', ' Amusement     ',\n",
              "       ' Contemplation ', ' JoyfulReunion ', ' Excitement    ',\n",
              "       ' Satisfaction  ', ' Blessed       ', ' Anticipation  ',\n",
              "       ' Reflection    ', ' Nostalgia     ', ' Appreciation  ',\n",
              "       ' Confidence    ', ' Surprise      ', ' Accomplishment ',\n",
              "       ' Wonderment    ', ' Optimism      ', ' Pride         ',\n",
              "       ' Happiness     ', ' Curiosity   ', ' Enchantment   ',\n",
              "       ' Intrigue      ', ' PlayfulJoy    ', ' Mindfulness   ',\n",
              "       ' DreamChaser   ', ' Elegance ', ' Whimsy        ', ' Pensive ',\n",
              "       ' Thrill      ', ' Harmony    ', ' Creativity   ', ' Radiance    ',\n",
              "       ' Wonder     ', ' Rejuvenation ', ' Inspiration ',\n",
              "       ' Coziness     ', ' Gratitude  ', ' Adventure ', ' Euphoria   ',\n",
              "       ' Awe    ', ' Melodic       ', ' FestiveJoy    ',\n",
              "       ' InnerJourney  ', ' Freedom       ', ' Dazzle        ',\n",
              "       ' Adrenaline     ', ' Harmony       ', ' ArtisticBurst ',\n",
              "       ' Radiance      ', ' Wonder       ', ' Inspiration  ',\n",
              "       ' CulinaryOdyssey ', ' Euphoria     ', ' Curiosity  ',\n",
              "       ' Resilience   ', ' Immersion ', ' Nostalgia ', ' Spark        ',\n",
              "       ' Gratitude    ', ' Marvel       ', ' Serenity   ',\n",
              "       ' Heartbreak    ', ' Loneliness    ', ' Grief      ',\n",
              "       ' Despair   ', ' Betrayal      ', ' Suffering ',\n",
              "       ' EmotionalStorm ', ' Regret        ', ' Isolation ',\n",
              "       ' Disappointment ', ' LostLove ', ' Melancholy ', ' Exhaustion ',\n",
              "       ' Sorrow      ', ' Darkness     ', ' Desperation ', ' Ruins      ',\n",
              "       ' Desolation ', ' Regret ', ' Grief ', ' Heartbreak ',\n",
              "       ' Betrayal ', ' Resilience ', ' Sorrow ', ' Loss ', ' Heartache ',\n",
              "       ' Solitude ', ' Joy ', ' Happiness ', ' Enthusiasm ',\n",
              "       ' Gratitude ', ' Positivity ', ' Kindness ', ' Friendship ',\n",
              "       ' Love ', ' Surprise ', ' Success ', ' Thrill ', ' Reflection ',\n",
              "       ' Enchantment ', ' Exploration ', ' Awe ', ' Amazement ',\n",
              "       ' Romance ', ' Captivation ', ' Wonder ', ' Tranquility ',\n",
              "       ' Grandeur ', ' Emotion ', ' Energy ', ' Celebration ', ' Charm ',\n",
              "       ' Ecstasy ', ' Hope ', ' Creativity ', ' Colorful ', ' Pride ',\n",
              "       ' Hypnotic ', ' Connection ', ' Iconic ', ' Euphoria ',\n",
              "       ' Journey ', ' Engagement ', ' Touched ', ' Suspense ',\n",
              "       ' Satisfaction ', ' Admiration ', ' Triumph ', ' Heartwarming ',\n",
              "       ' Obstacle ', ' Sympathy ', ' Pressure ', ' Renewed Effort ',\n",
              "       ' Miscalculation ', ' Challenge ', ' Solace ', ' Breakthrough ',\n",
              "       ' Harmony ', ' Joy in Baking ', ' Envisioning History ',\n",
              "       ' Imagination ', ' Vibrancy ', ' Mesmerizing ',\n",
              "       ' Culinary Adventure ', ' Winter Magic ', ' Thrilling Journey ',\n",
              "       \" Nature's Beauty \", ' Celestial Wonder ',\n",
              "       ' Creative Inspiration ', ' Runway Creativity ',\n",
              "       \" Ocean's Freedom \", ' Whispers of the Past ', ' Boredom ',\n",
              "       ' Indifference ', ' Disgust ', ' Relief ', ' Positive ',\n",
              "       ' Embarrassed ', ' Mischievous ', ' Sad ', ' Hate ', ' Bad ',\n",
              "       ' Neutral ', ' Happy '], dtype=object)"
            ]
          },
          "execution_count": 160,
          "metadata": {},
          "output_type": "execute_result"
        }
      ],
      "source": [
        "sentiment_data['Sentiment'].unique()"
      ]
    },
    {
      "cell_type": "code",
      "execution_count": 161,
      "metadata": {
        "id": "0JhFqwwtvXyZ"
      },
      "outputs": [],
      "source": [
        "# Stripping the leading and trailing spaces from each sentiment\n",
        "sentiment_data['Sentiment'] = [sentiment.strip() for sentiment in sentiment_data['Sentiment']]"
      ]
    },
    {
      "cell_type": "code",
      "execution_count": 162,
      "metadata": {
        "colab": {
          "base_uri": "https://localhost:8080/"
        },
        "id": "tvnCb_gWvbRt",
        "outputId": "5acbd313-2a9c-42f0-b93c-9de94b8afedc"
      },
      "outputs": [
        {
          "name": "stdout",
          "output_type": "stream",
          "text": [
            "\n",
            "No. of Unique Sentiments after stripping the unwanted spaces from sentiment labels : 191\n"
          ]
        }
      ],
      "source": [
        "print(\"\\nNo. of Unique Sentiments after stripping the unwanted spaces from sentiment labels :\", sentiment_data['Sentiment'].nunique())"
      ]
    },
    {
      "cell_type": "code",
      "execution_count": 163,
      "metadata": {
        "colab": {
          "base_uri": "https://localhost:8080/",
          "height": 464
        },
        "id": "xoCixY4s9_fJ",
        "outputId": "f6af3c8f-64b6-4f52-c5d7-57d5f10fa174"
      },
      "outputs": [
        {
          "name": "stdout",
          "output_type": "stream",
          "text": [
            "Sentiment Counts:\n",
            "\n"
          ]
        },
        {
          "data": {
            "text/plain": [
              "Sentiment\n",
              "Positive       45\n",
              "Joy            44\n",
              "Excitement     37\n",
              "Contentment    19\n",
              "Neutral        18\n",
              "Gratitude      18\n",
              "Curiosity      16\n",
              "Serenity       15\n",
              "Happy          14\n",
              "Nostalgia      11\n",
              "Name: count, dtype: int64"
            ]
          },
          "execution_count": 163,
          "metadata": {},
          "output_type": "execute_result"
        }
      ],
      "source": [
        "sentiment_counts = sentiment_data['Sentiment'].value_counts()\n",
        "print(\"Sentiment Counts:\\n\")\n",
        "sentiment_counts[:10]"
      ]
    },
    {
      "cell_type": "markdown",
      "metadata": {
        "id": "Eufw6NIZ66-9"
      },
      "source": [
        "### Checking for Duplicate Text Entries"
      ]
    },
    {
      "cell_type": "code",
      "execution_count": 164,
      "metadata": {
        "colab": {
          "base_uri": "https://localhost:8080/"
        },
        "id": "jzt14IT96-Fh",
        "outputId": "40316e65-afdd-4192-ac87-fa37de3f4813"
      },
      "outputs": [
        {
          "name": "stdout",
          "output_type": "stream",
          "text": [
            "No. of Duplicate Text Entries 25\n"
          ]
        }
      ],
      "source": [
        "print(\"No. of Duplicate Text Entries\", sentiment_data['Text'].duplicated().sum())"
      ]
    },
    {
      "cell_type": "code",
      "execution_count": 165,
      "metadata": {
        "colab": {
          "base_uri": "https://localhost:8080/",
          "height": 708
        },
        "id": "58P7_yK87B1d",
        "outputId": "fbc4b73f-0e75-4b94-f1dd-8c67872d31f9"
      },
      "outputs": [
        {
          "data": {
            "text/html": [
              "<div>\n",
              "<style scoped>\n",
              "    .dataframe tbody tr th:only-of-type {\n",
              "        vertical-align: middle;\n",
              "    }\n",
              "\n",
              "    .dataframe tbody tr th {\n",
              "        vertical-align: top;\n",
              "    }\n",
              "\n",
              "    .dataframe thead th {\n",
              "        text-align: right;\n",
              "    }\n",
              "</style>\n",
              "<table border=\"1\" class=\"dataframe\">\n",
              "  <thead>\n",
              "    <tr style=\"text-align: right;\">\n",
              "      <th></th>\n",
              "      <th>Text</th>\n",
              "      <th>count</th>\n",
              "    </tr>\n",
              "  </thead>\n",
              "  <tbody>\n",
              "    <tr>\n",
              "      <th>1</th>\n",
              "      <td>A compassionate rain, tears of empathy fallin...</td>\n",
              "      <td>3</td>\n",
              "    </tr>\n",
              "    <tr>\n",
              "      <th>4</th>\n",
              "      <td>A free spirit soaring on the wings of dreams,...</td>\n",
              "      <td>2</td>\n",
              "    </tr>\n",
              "    <tr>\n",
              "      <th>12</th>\n",
              "      <td>A playful escapade in the carnival of life, c...</td>\n",
              "      <td>3</td>\n",
              "    </tr>\n",
              "    <tr>\n",
              "      <th>40</th>\n",
              "      <td>Bathed in the golden hues of gratefulness, a ...</td>\n",
              "      <td>2</td>\n",
              "    </tr>\n",
              "    <tr>\n",
              "      <th>52</th>\n",
              "      <td>Charting a course through the waves of hopefu...</td>\n",
              "      <td>2</td>\n",
              "    </tr>\n",
              "    <tr>\n",
              "      <th>59</th>\n",
              "      <td>Confident strides in the dance of life, a bal...</td>\n",
              "      <td>2</td>\n",
              "    </tr>\n",
              "    <tr>\n",
              "      <th>81</th>\n",
              "      <td>Dismissive gestures, a curtain drawn to shiel...</td>\n",
              "      <td>2</td>\n",
              "    </tr>\n",
              "    <tr>\n",
              "      <th>93</th>\n",
              "      <td>Embraced by the hopeful dawn, a gardener sowi...</td>\n",
              "      <td>3</td>\n",
              "    </tr>\n",
              "    <tr>\n",
              "      <th>148</th>\n",
              "      <td>Floating on clouds of inspiration, an artist ...</td>\n",
              "      <td>2</td>\n",
              "    </tr>\n",
              "    <tr>\n",
              "      <th>176</th>\n",
              "      <td>Hopeful whispers of wind, carrying the promis...</td>\n",
              "      <td>2</td>\n",
              "    </tr>\n",
              "    <tr>\n",
              "      <th>203</th>\n",
              "      <td>Loneliness, a silent companion in the night, ...</td>\n",
              "      <td>2</td>\n",
              "    </tr>\n",
              "    <tr>\n",
              "      <th>213</th>\n",
              "      <td>Navigating the river of contentment, a serene...</td>\n",
              "      <td>2</td>\n",
              "    </tr>\n",
              "    <tr>\n",
              "      <th>230</th>\n",
              "      <td>Playfully juggling responsibilities, a circus...</td>\n",
              "      <td>2</td>\n",
              "    </tr>\n",
              "    <tr>\n",
              "      <th>237</th>\n",
              "      <td>Proudly scaling the peaks of achievement, a m...</td>\n",
              "      <td>3</td>\n",
              "    </tr>\n",
              "    <tr>\n",
              "      <th>267</th>\n",
              "      <td>Shattered dreams lie on the floor like fragme...</td>\n",
              "      <td>2</td>\n",
              "    </tr>\n",
              "    <tr>\n",
              "      <th>300</th>\n",
              "      <td>Whispering tales of inspiration to the stars,...</td>\n",
              "      <td>2</td>\n",
              "    </tr>\n",
              "    <tr>\n",
              "      <th>304</th>\n",
              "      <td>With empathy as a lantern, wandering through ...</td>\n",
              "      <td>2</td>\n",
              "    </tr>\n",
              "    <tr>\n",
              "      <th>501</th>\n",
              "      <td>Heartfelt gratitude for the laughter shared du...</td>\n",
              "      <td>2</td>\n",
              "    </tr>\n",
              "    <tr>\n",
              "      <th>617</th>\n",
              "      <td>Rejuvenated by the salty breeze and the sound ...</td>\n",
              "      <td>2</td>\n",
              "    </tr>\n",
              "    <tr>\n",
              "      <th>625</th>\n",
              "      <td>Savoring the warmth of a cup of cocoa on a chi...</td>\n",
              "      <td>2</td>\n",
              "    </tr>\n",
              "    <tr>\n",
              "      <th>699</th>\n",
              "      <td>Whispers of inspiration from the rustling leav...</td>\n",
              "      <td>2</td>\n",
              "    </tr>\n",
              "  </tbody>\n",
              "</table>\n",
              "</div>"
            ],
            "text/plain": [
              "                                                  Text  count\n",
              "1     A compassionate rain, tears of empathy fallin...      3\n",
              "4     A free spirit soaring on the wings of dreams,...      2\n",
              "12    A playful escapade in the carnival of life, c...      3\n",
              "40    Bathed in the golden hues of gratefulness, a ...      2\n",
              "52    Charting a course through the waves of hopefu...      2\n",
              "59    Confident strides in the dance of life, a bal...      2\n",
              "81    Dismissive gestures, a curtain drawn to shiel...      2\n",
              "93    Embraced by the hopeful dawn, a gardener sowi...      3\n",
              "148   Floating on clouds of inspiration, an artist ...      2\n",
              "176   Hopeful whispers of wind, carrying the promis...      2\n",
              "203   Loneliness, a silent companion in the night, ...      2\n",
              "213   Navigating the river of contentment, a serene...      2\n",
              "230   Playfully juggling responsibilities, a circus...      2\n",
              "237   Proudly scaling the peaks of achievement, a m...      3\n",
              "267   Shattered dreams lie on the floor like fragme...      2\n",
              "300   Whispering tales of inspiration to the stars,...      2\n",
              "304   With empathy as a lantern, wandering through ...      2\n",
              "501  Heartfelt gratitude for the laughter shared du...      2\n",
              "617  Rejuvenated by the salty breeze and the sound ...      2\n",
              "625  Savoring the warmth of a cup of cocoa on a chi...      2\n",
              "699  Whispers of inspiration from the rustling leav...      2"
            ]
          },
          "execution_count": 165,
          "metadata": {},
          "output_type": "execute_result"
        }
      ],
      "source": [
        "# Filtering texts that appear more than once\n",
        "duplicate_texts = sentiment_data.groupby('Text').size().reset_index(name='count')\n",
        "duplicate_texts[duplicate_texts['count'] > 1]"
      ]
    },
    {
      "cell_type": "markdown",
      "metadata": {
        "id": "Z9dxTOxu7SRk"
      },
      "source": [
        "### Handling Duplicate Text Entries"
      ]
    },
    {
      "cell_type": "code",
      "execution_count": 166,
      "metadata": {
        "id": "z5rqQIW47V5o"
      },
      "outputs": [],
      "source": [
        "# Keeping the first occurrence of each duplicate\n",
        "sentiment_data = sentiment_data.drop_duplicates(subset=['Text'], keep='first')"
      ]
    },
    {
      "cell_type": "code",
      "execution_count": 167,
      "metadata": {
        "colab": {
          "base_uri": "https://localhost:8080/"
        },
        "id": "tSakR6E77YvH",
        "outputId": "fb77c9ff-cf4f-4bd7-82b7-dde3e0486c3b"
      },
      "outputs": [
        {
          "name": "stdout",
          "output_type": "stream",
          "text": [
            "No. of Duplicate Text Entries (keeping only the first occurrence):  0\n"
          ]
        }
      ],
      "source": [
        "print(\"No. of Duplicate Text Entries (keeping only the first occurrence): \", sentiment_data['Text'].duplicated().sum())"
      ]
    },
    {
      "cell_type": "code",
      "execution_count": 168,
      "metadata": {
        "colab": {
          "base_uri": "https://localhost:8080/"
        },
        "id": "N4-_B1zm7bgy",
        "outputId": "7aa84479-484f-4aad-8a09-07979343f9c3"
      },
      "outputs": [
        {
          "name": "stdout",
          "output_type": "stream",
          "text": [
            "<class 'pandas.core.frame.DataFrame'>\n",
            "Index: 707 entries, 0 to 731\n",
            "Data columns (total 2 columns):\n",
            " #   Column     Non-Null Count  Dtype \n",
            "---  ------     --------------  ----- \n",
            " 0   Text       707 non-null    object\n",
            " 1   Sentiment  707 non-null    object\n",
            "dtypes: object(2)\n",
            "memory usage: 16.6+ KB\n"
          ]
        }
      ],
      "source": [
        "sentiment_data.info()"
      ]
    },
    {
      "cell_type": "markdown",
      "metadata": {
        "id": "f3Fkb3YSLHZ3"
      },
      "source": [
        "## Data Preprocessing"
      ]
    },
    {
      "cell_type": "markdown",
      "metadata": {
        "id": "dIlJxmvSLKpR"
      },
      "source": [
        "### Encoding the sentiment labels"
      ]
    },
    {
      "cell_type": "code",
      "execution_count": 169,
      "metadata": {
        "id": "gnEKNiZILh1E"
      },
      "outputs": [],
      "source": [
        "label_encoder = LabelEncoder()\n"
      ]
    },
    {
      "cell_type": "markdown",
      "metadata": {
        "id": "RcZwx2FnMFgF"
      },
      "source": [
        "### Applying Preprocessing to all the texts"
      ]
    },
    {
      "cell_type": "code",
      "execution_count": 170,
      "metadata": {
        "colab": {
          "base_uri": "https://localhost:8080/"
        },
        "id": "w9v-KX61bg4t",
        "outputId": "a032727b-fbd5-4dcd-e000-f58f81431456"
      },
      "outputs": [
        {
          "name": "stderr",
          "output_type": "stream",
          "text": [
            "[nltk_data] Downloading package stopwords to\n",
            "[nltk_data]     C:\\Users\\mbash\\AppData\\Roaming\\nltk_data...\n",
            "[nltk_data]   Package stopwords is already up-to-date!\n",
            "[nltk_data] Downloading package punkt_tab to\n",
            "[nltk_data]     C:\\Users\\mbash\\AppData\\Roaming\\nltk_data...\n",
            "[nltk_data]   Package punkt_tab is already up-to-date!\n",
            "[nltk_data] Downloading package wordnet to\n",
            "[nltk_data]     C:\\Users\\mbash\\AppData\\Roaming\\nltk_data...\n",
            "[nltk_data]   Package wordnet is already up-to-date!\n"
          ]
        }
      ],
      "source": [
        "nltk.download('stopwords')\n",
        "nltk.download('punkt_tab')\n",
        "nltk.download('wordnet')\n",
        "\n",
        "def preprocess_text(text):\n",
        "    text = re.sub(r'[^a-zA-Z\\s]', '', text)\n",
        "    text = text.lower()\n",
        "    tokens = word_tokenize(text)\n",
        "    tokens = [word for word in tokens if word not in stopwords.words('english')]\n",
        "    lemmatizer = WordNetLemmatizer()\n",
        "    tokens = [lemmatizer.lemmatize(word) for word in tokens]\n",
        "    return tokens\n",
        "\n",
        "sentiment_data['Tokenized Text'] = [preprocess_text(text) for text in sentiment_data['Text'].values]"
      ]
    },
    {
      "cell_type": "markdown",
      "metadata": {
        "id": "L_7kEIwwMbaO"
      },
      "source": [
        "### Dataset after Preprocessing/Tokenization of texts and Label Encoding of Sentiments"
      ]
    },
    {
      "cell_type": "code",
      "execution_count": 171,
      "metadata": {
        "colab": {
          "base_uri": "https://localhost:8080/",
          "height": 363
        },
        "id": "YrCYdmVYMlny",
        "outputId": "092c5f1c-de55-44a3-a098-78a5dd127682"
      },
      "outputs": [
        {
          "data": {
            "text/html": [
              "<div>\n",
              "<style scoped>\n",
              "    .dataframe tbody tr th:only-of-type {\n",
              "        vertical-align: middle;\n",
              "    }\n",
              "\n",
              "    .dataframe tbody tr th {\n",
              "        vertical-align: top;\n",
              "    }\n",
              "\n",
              "    .dataframe thead th {\n",
              "        text-align: right;\n",
              "    }\n",
              "</style>\n",
              "<table border=\"1\" class=\"dataframe\">\n",
              "  <thead>\n",
              "    <tr style=\"text-align: right;\">\n",
              "      <th></th>\n",
              "      <th>Text</th>\n",
              "      <th>Sentiment</th>\n",
              "      <th>Tokenized Text</th>\n",
              "    </tr>\n",
              "  </thead>\n",
              "  <tbody>\n",
              "    <tr>\n",
              "      <th>0</th>\n",
              "      <td>Enjoying a beautiful day at the park!        ...</td>\n",
              "      <td>Positive</td>\n",
              "      <td>[enjoying, beautiful, day, park]</td>\n",
              "    </tr>\n",
              "    <tr>\n",
              "      <th>1</th>\n",
              "      <td>Traffic was terrible this morning.           ...</td>\n",
              "      <td>Negative</td>\n",
              "      <td>[traffic, terrible, morning]</td>\n",
              "    </tr>\n",
              "    <tr>\n",
              "      <th>2</th>\n",
              "      <td>Just finished an amazing workout! 💪          ...</td>\n",
              "      <td>Positive</td>\n",
              "      <td>[finished, amazing, workout]</td>\n",
              "    </tr>\n",
              "    <tr>\n",
              "      <th>3</th>\n",
              "      <td>Excited about the upcoming weekend getaway!  ...</td>\n",
              "      <td>Positive</td>\n",
              "      <td>[excited, upcoming, weekend, getaway]</td>\n",
              "    </tr>\n",
              "    <tr>\n",
              "      <th>4</th>\n",
              "      <td>Trying out a new recipe for dinner tonight.  ...</td>\n",
              "      <td>Neutral</td>\n",
              "      <td>[trying, new, recipe, dinner, tonight]</td>\n",
              "    </tr>\n",
              "    <tr>\n",
              "      <th>5</th>\n",
              "      <td>Feeling grateful for the little things in lif...</td>\n",
              "      <td>Positive</td>\n",
              "      <td>[feeling, grateful, little, thing, life]</td>\n",
              "    </tr>\n",
              "    <tr>\n",
              "      <th>6</th>\n",
              "      <td>Rainy days call for cozy blankets and hot coc...</td>\n",
              "      <td>Positive</td>\n",
              "      <td>[rainy, day, call, cozy, blanket, hot, cocoa]</td>\n",
              "    </tr>\n",
              "    <tr>\n",
              "      <th>7</th>\n",
              "      <td>The new movie release is a must-watch!       ...</td>\n",
              "      <td>Positive</td>\n",
              "      <td>[new, movie, release, mustwatch]</td>\n",
              "    </tr>\n",
              "    <tr>\n",
              "      <th>8</th>\n",
              "      <td>Political discussions heating up on the timel...</td>\n",
              "      <td>Negative</td>\n",
              "      <td>[political, discussion, heating, timeline]</td>\n",
              "    </tr>\n",
              "    <tr>\n",
              "      <th>9</th>\n",
              "      <td>Missing summer vibes and beach days.         ...</td>\n",
              "      <td>Neutral</td>\n",
              "      <td>[missing, summer, vibe, beach, day]</td>\n",
              "    </tr>\n",
              "  </tbody>\n",
              "</table>\n",
              "</div>"
            ],
            "text/plain": [
              "                                                Text Sentiment  \\\n",
              "0   Enjoying a beautiful day at the park!        ...  Positive   \n",
              "1   Traffic was terrible this morning.           ...  Negative   \n",
              "2   Just finished an amazing workout! 💪          ...  Positive   \n",
              "3   Excited about the upcoming weekend getaway!  ...  Positive   \n",
              "4   Trying out a new recipe for dinner tonight.  ...   Neutral   \n",
              "5   Feeling grateful for the little things in lif...  Positive   \n",
              "6   Rainy days call for cozy blankets and hot coc...  Positive   \n",
              "7   The new movie release is a must-watch!       ...  Positive   \n",
              "8   Political discussions heating up on the timel...  Negative   \n",
              "9   Missing summer vibes and beach days.         ...   Neutral   \n",
              "\n",
              "                                  Tokenized Text  \n",
              "0               [enjoying, beautiful, day, park]  \n",
              "1                   [traffic, terrible, morning]  \n",
              "2                   [finished, amazing, workout]  \n",
              "3          [excited, upcoming, weekend, getaway]  \n",
              "4         [trying, new, recipe, dinner, tonight]  \n",
              "5       [feeling, grateful, little, thing, life]  \n",
              "6  [rainy, day, call, cozy, blanket, hot, cocoa]  \n",
              "7               [new, movie, release, mustwatch]  \n",
              "8     [political, discussion, heating, timeline]  \n",
              "9            [missing, summer, vibe, beach, day]  "
            ]
          },
          "execution_count": 171,
          "metadata": {},
          "output_type": "execute_result"
        }
      ],
      "source": [
        "sentiment_data.head(10)"
      ]
    },
    {
      "cell_type": "code",
      "execution_count": 172,
      "metadata": {},
      "outputs": [],
      "source": [
        "len(np.unique(sentiment_data['Sentiment']))\n",
        "\n",
        "# Convert NumPy array to list\n",
        "arr_list = np.unique(sentiment_data['Sentiment']).tolist()\n",
        "import json\n",
        "# Save as JSON file\n",
        "with open(\"array.json\", \"w\") as f:\n",
        "    json.dump(arr_list, f)\n",
        "\n",
        "# np.savetxt(\"array.csv\", arr_list, delimiter=\",\", fmt=\"%d\")"
      ]
    },
    {
      "cell_type": "code",
      "execution_count": null,
      "metadata": {},
      "outputs": [],
      "source": [
        "# positive = {\n",
        "#     \"Acceptance\", \"Accomplishment\", \"Admiration\", \"Adoration\", \"Affection\", \"Amazement\",\n",
        "#     \"Appreciation\", \"Blessed\", \"Breakthrough\", \"Calmness\", \"Celebration\", \"Charm\",\n",
        "#     \"Compassion\", \"Confidence\", \"Contentment\", \"Creativity\", \"Curiosity\", \"Dazzle\",\n",
        "#     \"Determination\", \"Ecstasy\", \"Elation\", \"Elegance\", \"Empowerment\", \"Enchantment\",\n",
        "#     \"Engagement\", \"Enjoyment\", \"Enthusiasm\", \"Euphoria\", \"Excitement\", \"FestiveJoy\",\n",
        "#     \"Freedom\", \"Friendship\", \"Fulfillment\", \"Grateful\", \"Gratitude\", \"Happiness\",\n",
        "#     \"Happy\", \"Harmony\", \"Heartwarming\", \"Hope\", \"Hopeful\", \"Inspiration\", \"Inspired\",\n",
        "#     \"Joy\", \"Kindness\", \"Love\", \"Marvel\", \"Motivation\", \"Optimism\", \"Overjoyed\",\n",
        "#     \"Playful\", \"Positivity\", \"Pride\", \"Proud\", \"Radiance\", \"Rejuvenation\", \"Relief\",\n",
        "#     \"Resilience\", \"Romance\", \"Satisfaction\", \"Serenity\", \"Success\", \"Thrill\",\n",
        "#     \"Tranquility\", \"Triumph\", \"Vibrancy\", \"Wonder\", \"Wonderment\", \"Positive\", \"Amusement\",\n",
        "#     \"Awe\", \"Compassionate\", \"JoyfulReunion\", \"Colorful\", \"PlayfulJoy\", \"Confident\",\n",
        "#     \"Celestial Wonder\", \"Spark\", \"Imagination\", \"Thrilling Journey\", \"Whimsy\", \"Touched\",\n",
        "#     \"Adventure\", \"Adrenaline\", \"Exploration\", \"Hypnotic\", \"Energy\", \"Tenderness\", \n",
        "#     \"Free-spirited\", \"Grandeur\", \"Zest\", \"Kind\"\n",
        "# }\n",
        "\n",
        "# negative = {\n",
        "#     \"Anger\", \"Anxiety\", \"Bad\", \"Betrayal\", \"Bitter\", \"Bitterness\", \"Bittersweet\",\n",
        "#     \"Darkness\", \"Desolation\", \"Despair\", \"Desperation\", \"Devastated\", \"Disappointed\",\n",
        "#     \"Disappointment\", \"Disgust\", \"Frustration\", \"Grief\", \"Hate\", \"Heartache\",\n",
        "#     \"Heartbreak\", \"Helplessness\", \"Intimidation\", \"Isolation\", \"Jealous\", \"Jealousy\",\n",
        "#     \"Loneliness\", \"Loss\", \"LostLove\", \"Melancholy\", \"Miscalculation\", \"Numbness\",\n",
        "#     \"Overwhelmed\", \"Regret\", \"Resentment\", \"Ruins\", \"Sad\", \"Sadness\", \"Shame\", \"Sorrow\",\n",
        "#     \"Suffering\", \"Suspense\", \"Sympathy\", \"Yearning\", \"Fear\", \"Fearful\", \"Negative\",\n",
        "#     \"Mischievous\", \"Embarrassed\", \"Envy\", \"Envious\", \"Dismissive\", \"Frustrated\",\n",
        "#     \"Apprehensive\", \"Pensive\", \"Exhaustion\", \"Indifference\", \"Confusion\", \"Solace\"\n",
        "# }\n",
        "\n",
        "# neutral = {\n",
        "#     \"Ambivalence\", \"Anticipation\", \"Arousal\", \"ArtisticBurst\", \"Boredom\",\n",
        "#     \"Captivation\", \"Challenge\", \"Connection\", \"Contemplation\", \"Coziness\",\n",
        "#     \"Creative Inspiration\", \"Culinary Adventure\", \"CulinaryOdyssey\", \"Emotion\",\n",
        "#     \"EmotionalStorm\", \"Empathetic\", \"Envisioning History\", \"Iconic\", \"Immersion\",\n",
        "#     \"InnerJourney\", \"Journey\", \"Melodic\", \"Mesmerizing\", \"Mindfulness\",\n",
        "#     \"Nature's Beauty\", \"Neutral\", \"Nostalgia\", \"Obstacle\", \"Ocean's Freedom\",\n",
        "#     \"Pressure\", \"Reflection\", \"Renewed Effort\", \"Reverence\", \"Runway Creativity\",\n",
        "#     \"Serenity\", \"Solitude\", \"Surprise\", \"Whispers of the Past\", \"Winter Magic\",\n",
        "#     \"Intrigue\", \"DreamChaser\", \"Joy in Baking\"\n",
        "# }"
      ]
    },
    {
      "cell_type": "code",
      "execution_count": 882,
      "metadata": {},
      "outputs": [],
      "source": [
        "positive = {\n",
        "    \"Acceptance\", \"Accomplishment\", \"Admiration\", \"Adoration\", \"Affection\", \"Amazement\",\n",
        "    \"Appreciation\", \"Blessed\", \"Breakthrough\", \"Calmness\", \"Celebration\", \"Charm\",\n",
        "    \"Compassion\", \"Confidence\", \"Contentment\", \"Creativity\", \"Curiosity\", \"Dazzle\",\n",
        "    \"Determination\", \"Ecstasy\", \"Elation\", \"Elegance\", \"Empowerment\", \"Enchantment\",\n",
        "    \"Engagement\", \"Enjoyment\", \"Enthusiasm\", \"Euphoria\", \"Excitement\", \"FestiveJoy\",\n",
        "    \"Freedom\", \"Friendship\", \"Fulfillment\", \"Grateful\", \"Gratitude\", \"Happiness\",\n",
        "    \"Happy\", \"Harmony\", \"Heartwarming\", \"Hope\", \"Hopeful\", \"Inspiration\", \"Inspired\",\n",
        "    \"Joy\", \"Kindness\", \"Love\", \"Marvel\", \"Motivation\", \"Optimism\", \"Overjoyed\",\n",
        "    \"Playful\", \"Positivity\", \"Pride\", \"Proud\", \"Radiance\", \"Rejuvenation\", \"Relief\",\n",
        "    \"Resilience\", \"Romance\", \"Satisfaction\", \"Serenity\", \"Success\", \"Thrill\",\n",
        "    \"Tranquility\", \"Triumph\", \"Vibrancy\", \"Wonder\", \"Wonderment\", \"Positive\", \"Amusement\",\n",
        "    \"Awe\", \"Compassionate\", \"JoyfulReunion\", \"Colorful\", \"PlayfulJoy\", \"Confident\",\n",
        "    \"Celestial Wonder\", \"Spark\",  \"Thrilling Journey\", \"Whimsy\", \"Touched\",\n",
        "    \"Adrenaline\", \"Exploration\", \"Hypnotic\", \"Energy\", \"Tenderness\", \n",
        "    \"Free-spirited\", \"Grandeur\", \"Zest\", \"Kind\",\n",
        "    \"Adventure\"\n",
        "}\n",
        "\n",
        "negative = {\n",
        "    \"Anger\", \"Anxiety\", \"Bad\", \"Betrayal\", \"Bitter\", \"Bitterness\", \"Bittersweet\",\n",
        "    \"Darkness\", \"Desolation\", \"Despair\", \"Desperation\", \"Devastated\", \"Disappointed\",\n",
        "    \"Disappointment\", \"Disgust\", \"Frustration\", \"Grief\", \"Hate\", \"Heartache\",\n",
        "    \"Heartbreak\", \"Helplessness\", \"Intimidation\", \"Isolation\", \"Jealous\", \"Jealousy\",\n",
        "    \"Loneliness\", \"Loss\", \"LostLove\", \"Melancholy\",  \"Numbness\",\n",
        "    \"Overwhelmed\", \"Regret\", \"Resentment\", \"Ruins\", \"Sad\", \"Sadness\", \"Shame\", \"Sorrow\",\n",
        "    \"Suffering\",  \"Sympathy\",  \"Fear\", \"Fearful\", \"Negative\",\n",
        "    \"Mischievous\", \"Embarrassed\", \"Envy\", \"Envious\", \"Dismissive\", \"Frustrated\",\n",
        "    \"Apprehensive\", \"Pensive\", \"Exhaustion\", \"Indifference\", \"Confusion\", \"Solace\", \"Suspense\",\"Yearning\"\n",
        "}\n",
        "\n",
        "neutral = {\n",
        "    \"Ambivalence\", \"Anticipation\", \"Arousal\", \"ArtisticBurst\", \"Boredom\",\"Miscalculation\",\n",
        "    \"Captivation\", \"Challenge\", \"Connection\", \"Contemplation\", \"Coziness\",\n",
        "    \"Creative Inspiration\", \"Culinary Adventure\", \"CulinaryOdyssey\", \"Emotion\",\n",
        "    \"EmotionalStorm\", \"Empathetic\", \"Envisioning History\", \"Iconic\", \"Immersion\",\n",
        "    \"InnerJourney\", \"Journey\", \"Melodic\", \"Mesmerizing\", \"Mindfulness\",\n",
        "    \"Nature's Beauty\", \"Neutral\", \"Nostalgia\", \"Obstacle\", \"Ocean's Freedom\",\n",
        "    \"Pressure\", \"Reflection\", \"Renewed Effort\", \"Reverence\", \"Runway Creativity\",\n",
        "    \"Serenity\", \"Solitude\", \"Surprise\", \"Whispers of the Past\", \"Winter Magic\",\n",
        "    \"Intrigue\", \"DreamChaser\", \"Joy in Baking\",\"Imagination\"\n",
        "}\n"
      ]
    },
    {
      "cell_type": "code",
      "execution_count": 883,
      "metadata": {},
      "outputs": [],
      "source": [
        "\n",
        "sentiment_mapping = {}\n",
        "\n",
        "for sentiment in positive:\n",
        "    sentiment_mapping[sentiment] = \"Positive\"\n",
        "for sentiment in negative:\n",
        "    sentiment_mapping[sentiment] = \"Negative\"\n",
        "for sentiment in neutral:\n",
        "    sentiment_mapping[sentiment] = \"Neutral\"\n",
        "\n",
        "# Function to classify sentiments\n",
        "def classify_sentiment(sentiment):\n",
        "    return sentiment_mapping.get(sentiment, \"Unknown\")  # Default to \"Unknown\" if not found\n",
        " # Default to \"Unknown\" if not found\n",
        "\n",
        "# Apply function to create a new column\n",
        "sentiment_data[\"Sentiment_Group\"] = sentiment_data[\"Sentiment\"].apply(classify_sentiment)\n",
        "\n"
      ]
    },
    {
      "cell_type": "code",
      "execution_count": 884,
      "metadata": {},
      "outputs": [
        {
          "name": "stdout",
          "output_type": "stream",
          "text": [
            "Empty DataFrame\n",
            "Columns: [Sentiment, Sentiment_Group]\n",
            "Index: []\n"
          ]
        }
      ],
      "source": [
        "# Filter rows where Sentiment_Group is \"Unknown\"\n",
        "unknown_sentiments = sentiment_data[sentiment_data[\"Sentiment_Group\"] == \"Unknown\"]\n",
        "\n",
        "# Print results\n",
        "print(unknown_sentiments[[\"Sentiment\", \"Sentiment_Group\"]])\n"
      ]
    },
    {
      "cell_type": "code",
      "execution_count": 886,
      "metadata": {},
      "outputs": [
        {
          "data": {
            "text/html": [
              "<div>\n",
              "<style scoped>\n",
              "    .dataframe tbody tr th:only-of-type {\n",
              "        vertical-align: middle;\n",
              "    }\n",
              "\n",
              "    .dataframe tbody tr th {\n",
              "        vertical-align: top;\n",
              "    }\n",
              "\n",
              "    .dataframe thead th {\n",
              "        text-align: right;\n",
              "    }\n",
              "</style>\n",
              "<table border=\"1\" class=\"dataframe\">\n",
              "  <thead>\n",
              "    <tr style=\"text-align: right;\">\n",
              "      <th></th>\n",
              "      <th>Text</th>\n",
              "      <th>Sentiment</th>\n",
              "      <th>Tokenized Text</th>\n",
              "      <th>Sentiment_Group</th>\n",
              "      <th>Encoded Sentiment</th>\n",
              "    </tr>\n",
              "  </thead>\n",
              "  <tbody>\n",
              "    <tr>\n",
              "      <th>0</th>\n",
              "      <td>Enjoying a beautiful day at the park!        ...</td>\n",
              "      <td>Positive</td>\n",
              "      <td>[enjoying, beautiful, day, park]</td>\n",
              "      <td>Positive</td>\n",
              "      <td>2</td>\n",
              "    </tr>\n",
              "    <tr>\n",
              "      <th>1</th>\n",
              "      <td>Traffic was terrible this morning.           ...</td>\n",
              "      <td>Negative</td>\n",
              "      <td>[traffic, terrible, morning]</td>\n",
              "      <td>Negative</td>\n",
              "      <td>0</td>\n",
              "    </tr>\n",
              "    <tr>\n",
              "      <th>2</th>\n",
              "      <td>Just finished an amazing workout! 💪          ...</td>\n",
              "      <td>Positive</td>\n",
              "      <td>[finished, amazing, workout]</td>\n",
              "      <td>Positive</td>\n",
              "      <td>2</td>\n",
              "    </tr>\n",
              "    <tr>\n",
              "      <th>3</th>\n",
              "      <td>Excited about the upcoming weekend getaway!  ...</td>\n",
              "      <td>Positive</td>\n",
              "      <td>[excited, upcoming, weekend, getaway]</td>\n",
              "      <td>Positive</td>\n",
              "      <td>2</td>\n",
              "    </tr>\n",
              "    <tr>\n",
              "      <th>4</th>\n",
              "      <td>Trying out a new recipe for dinner tonight.  ...</td>\n",
              "      <td>Neutral</td>\n",
              "      <td>[trying, new, recipe, dinner, tonight]</td>\n",
              "      <td>Neutral</td>\n",
              "      <td>1</td>\n",
              "    </tr>\n",
              "    <tr>\n",
              "      <th>...</th>\n",
              "      <td>...</td>\n",
              "      <td>...</td>\n",
              "      <td>...</td>\n",
              "      <td>...</td>\n",
              "      <td>...</td>\n",
              "    </tr>\n",
              "    <tr>\n",
              "      <th>727</th>\n",
              "      <td>Collaborating on a science project that receiv...</td>\n",
              "      <td>Happy</td>\n",
              "      <td>[collaborating, science, project, received, re...</td>\n",
              "      <td>Positive</td>\n",
              "      <td>2</td>\n",
              "    </tr>\n",
              "    <tr>\n",
              "      <th>728</th>\n",
              "      <td>Attending a surprise birthday party organized ...</td>\n",
              "      <td>Happy</td>\n",
              "      <td>[attending, surprise, birthday, party, organiz...</td>\n",
              "      <td>Positive</td>\n",
              "      <td>2</td>\n",
              "    </tr>\n",
              "    <tr>\n",
              "      <th>729</th>\n",
              "      <td>Successfully fundraising for a school charity ...</td>\n",
              "      <td>Happy</td>\n",
              "      <td>[successfully, fundraising, school, charity, i...</td>\n",
              "      <td>Positive</td>\n",
              "      <td>2</td>\n",
              "    </tr>\n",
              "    <tr>\n",
              "      <th>730</th>\n",
              "      <td>Participating in a multicultural festival, cel...</td>\n",
              "      <td>Happy</td>\n",
              "      <td>[participating, multicultural, festival, celeb...</td>\n",
              "      <td>Positive</td>\n",
              "      <td>2</td>\n",
              "    </tr>\n",
              "    <tr>\n",
              "      <th>731</th>\n",
              "      <td>Organizing a virtual talent show during challe...</td>\n",
              "      <td>Happy</td>\n",
              "      <td>[organizing, virtual, talent, show, challengin...</td>\n",
              "      <td>Positive</td>\n",
              "      <td>2</td>\n",
              "    </tr>\n",
              "  </tbody>\n",
              "</table>\n",
              "<p>707 rows × 5 columns</p>\n",
              "</div>"
            ],
            "text/plain": [
              "                                                  Text Sentiment  \\\n",
              "0     Enjoying a beautiful day at the park!        ...  Positive   \n",
              "1     Traffic was terrible this morning.           ...  Negative   \n",
              "2     Just finished an amazing workout! 💪          ...  Positive   \n",
              "3     Excited about the upcoming weekend getaway!  ...  Positive   \n",
              "4     Trying out a new recipe for dinner tonight.  ...   Neutral   \n",
              "..                                                 ...       ...   \n",
              "727  Collaborating on a science project that receiv...     Happy   \n",
              "728  Attending a surprise birthday party organized ...     Happy   \n",
              "729  Successfully fundraising for a school charity ...     Happy   \n",
              "730  Participating in a multicultural festival, cel...     Happy   \n",
              "731  Organizing a virtual talent show during challe...     Happy   \n",
              "\n",
              "                                        Tokenized Text Sentiment_Group  \\\n",
              "0                     [enjoying, beautiful, day, park]        Positive   \n",
              "1                         [traffic, terrible, morning]        Negative   \n",
              "2                         [finished, amazing, workout]        Positive   \n",
              "3                [excited, upcoming, weekend, getaway]        Positive   \n",
              "4               [trying, new, recipe, dinner, tonight]         Neutral   \n",
              "..                                                 ...             ...   \n",
              "727  [collaborating, science, project, received, re...        Positive   \n",
              "728  [attending, surprise, birthday, party, organiz...        Positive   \n",
              "729  [successfully, fundraising, school, charity, i...        Positive   \n",
              "730  [participating, multicultural, festival, celeb...        Positive   \n",
              "731  [organizing, virtual, talent, show, challengin...        Positive   \n",
              "\n",
              "     Encoded Sentiment  \n",
              "0                    2  \n",
              "1                    0  \n",
              "2                    2  \n",
              "3                    2  \n",
              "4                    1  \n",
              "..                 ...  \n",
              "727                  2  \n",
              "728                  2  \n",
              "729                  2  \n",
              "730                  2  \n",
              "731                  2  \n",
              "\n",
              "[707 rows x 5 columns]"
            ]
          },
          "execution_count": 886,
          "metadata": {},
          "output_type": "execute_result"
        }
      ],
      "source": [
        "sentiment_data['Encoded Sentiment'] = label_encoder.fit_transform(sentiment_data['Sentiment_Group'])\n",
        "sentiment_data"
      ]
    },
    {
      "cell_type": "markdown",
      "metadata": {
        "id": "M6gOG7ioaQC6"
      },
      "source": [
        "### Extracting the Relevant Columns"
      ]
    },
    {
      "cell_type": "code",
      "execution_count": 887,
      "metadata": {
        "id": "97EzNH4raTvn"
      },
      "outputs": [
        {
          "data": {
            "text/plain": [
              "array([2, 0, 2, 2, 1, 2, 2, 2, 0, 1, 2, 0, 2, 2, 1, 2, 2, 2, 1, 0, 2, 2,\n",
              "       2, 2, 2, 2, 2, 2, 2, 2, 2, 2, 2, 2, 2, 2, 2, 2, 2, 2, 2, 2, 2, 2,\n",
              "       2, 2, 2, 2, 2, 2, 2, 2, 0, 0, 0, 0, 2, 2, 2, 2, 2, 2, 2, 2, 0, 1,\n",
              "       2, 2, 1, 0, 2, 0, 2, 2, 2, 0, 0, 0, 0, 0, 2, 2, 2, 2, 2, 2, 2, 2,\n",
              "       0, 1, 2, 2, 1, 0, 2, 0, 2, 2, 2, 0, 2, 2, 0, 2, 0, 2, 2, 2, 0, 2,\n",
              "       2, 2, 1, 2, 2, 2, 2, 2, 1, 2, 2, 1, 2, 2, 2, 1, 2, 2, 2, 2, 2, 1,\n",
              "       2, 2, 1, 2, 2, 2, 2, 1, 2, 2, 2, 2, 2, 1, 2, 2, 1, 2, 2, 2, 1, 2,\n",
              "       2, 2, 2, 2, 1, 2, 2, 1, 2, 0, 0, 0, 0, 0, 0, 1, 0, 0, 0, 0, 0, 0,\n",
              "       0, 0, 0, 0, 0, 0, 1, 0, 0, 0, 0, 0, 0, 0, 0, 0, 0, 0, 0, 1, 2, 0,\n",
              "       0, 0, 0, 1, 1, 2, 2, 1, 2, 0, 0, 0, 0, 1, 1, 2, 2, 1, 2, 0, 0, 0,\n",
              "       0, 1, 1, 2, 2, 1, 0, 0, 0, 0, 1, 1, 2, 2, 1, 2, 0, 0, 0, 0, 1, 1,\n",
              "       2, 2, 1, 2, 0, 2, 2, 2, 2, 2, 1, 2, 2, 2, 2, 2, 2, 1, 2, 1, 2, 2,\n",
              "       2, 2, 2, 2, 2, 2, 1, 2, 2, 2, 2, 2, 2, 2, 0, 0, 0, 0, 0, 0, 0, 0,\n",
              "       0, 0, 0, 0, 0, 0, 0, 0, 0, 0, 0, 0, 0, 0, 0, 0, 0, 0, 0, 0, 0, 0,\n",
              "       0, 0, 0, 2, 2, 1, 2, 2, 0, 2, 2, 0, 2, 2, 2, 2, 2, 2, 2, 2, 1, 2,\n",
              "       2, 2, 2, 1, 1, 1, 1, 2, 2, 2, 2, 1, 2, 2, 2, 2, 2, 2, 2, 2, 1, 2,\n",
              "       1, 1, 2, 2, 0, 2, 2, 2, 2, 2, 2, 2, 1, 2, 2, 2, 2, 2, 1, 2, 1, 2,\n",
              "       2, 2, 1, 2, 2, 1, 2, 2, 1, 2, 2, 2, 2, 2, 2, 1, 1, 2, 2, 2, 1, 0,\n",
              "       0, 0, 0, 0, 0, 1, 0, 0, 0, 0, 0, 0, 0, 0, 0, 0, 0, 0, 0, 0, 0, 0,\n",
              "       0, 0, 0, 0, 0, 0, 2, 0, 0, 0, 0, 0, 0, 0, 0, 0, 0, 0, 1, 0, 0, 0,\n",
              "       0, 0, 0, 0, 1, 2, 2, 2, 2, 2, 2, 2, 2, 2, 2, 2, 2, 2, 1, 2, 2, 2,\n",
              "       2, 2, 2, 1, 2, 2, 2, 2, 2, 1, 2, 2, 2, 2, 1, 1, 2, 2, 2, 2, 2, 2,\n",
              "       2, 1, 2, 2, 1, 1, 2, 2, 2, 2, 2, 2, 2, 1, 2, 2, 2, 1, 1, 2, 1, 2,\n",
              "       1, 2, 2, 2, 2, 2, 1, 0, 2, 2, 2, 2, 2, 1, 2, 2, 2, 2, 2, 0, 0, 1,\n",
              "       1, 0, 1, 1, 1, 1, 0, 2, 2, 0, 2, 2, 2, 1, 1, 1, 2, 1, 1, 1, 2, 1,\n",
              "       2, 1, 1, 1, 1, 2, 1, 2, 0, 1, 0, 2, 0, 1, 2, 2, 2, 2, 0, 2, 2, 2,\n",
              "       2, 2, 2, 2, 2, 2, 2, 2, 2, 2, 2, 2, 2, 2, 2, 2, 2, 2, 2, 2, 2, 2,\n",
              "       2, 2, 2, 2, 2, 2, 2, 2, 2, 2, 2, 2, 2, 2, 2, 2, 2, 2, 2, 2, 2, 2,\n",
              "       2, 2, 2, 2, 2, 2, 2, 0, 2, 2, 2, 2, 2, 2, 2, 2, 0, 2, 0, 0, 0, 2,\n",
              "       2, 0, 2, 2, 0, 0, 2, 2, 2, 2, 2, 0, 2, 2, 2, 2, 2, 2, 0, 2, 0, 0,\n",
              "       0, 0, 0, 0, 0, 0, 0, 0, 0, 0, 0, 0, 0, 0, 0, 0, 0, 0, 0, 1, 1, 1,\n",
              "       1, 1, 1, 1, 1, 1, 1, 1, 1, 1, 1, 2, 2, 2, 2, 2, 2, 2, 2, 2, 2, 2,\n",
              "       2, 2, 2])"
            ]
          },
          "execution_count": 887,
          "metadata": {},
          "output_type": "execute_result"
        }
      ],
      "source": [
        "tokenized_texts = sentiment_data['Tokenized Text'].values\n",
        "labels = sentiment_data['Encoded Sentiment'].values\n",
        "labels"
      ]
    },
    {
      "cell_type": "markdown",
      "metadata": {
        "id": "3W-KUBFoOO6I"
      },
      "source": [
        "### Word2Vec Training & Text Vectorization"
      ]
    },
    {
      "cell_type": "markdown",
      "metadata": {
        "id": "MWR_z3YUOSut"
      },
      "source": [
        "#### Train custom Word2Vec model"
      ]
    },
    {
      "cell_type": "code",
      "execution_count": 888,
      "metadata": {
        "id": "wMfwjaYacS-j"
      },
      "outputs": [],
      "source": [
        "word2vec_model = Word2Vec(\n",
        "    sentences=tokenized_texts,  # List of tokenized sentences\n",
        "    vector_size=100,            # Size of the word vectors\n",
        "    window=5,                   # Maximum distance between the current and predicted word\n",
        "    min_count=2,                # Ignores words with frequency lower than this\n",
        "    workers=4,                  # Number of CPU cores\n",
        "    sg = 1\n",
        ")"
      ]
    },
    {
      "cell_type": "code",
      "execution_count": 889,
      "metadata": {
        "id": "OP_bpk9agpyA"
      },
      "outputs": [],
      "source": [
        "word2vec_model.save(\"word2vec.model\")"
      ]
    },
    {
      "cell_type": "markdown",
      "metadata": {
        "id": "JOVlvAjua_j6"
      },
      "source": [
        "#### Word2Vec vocabulary details"
      ]
    },
    {
      "cell_type": "code",
      "execution_count": 890,
      "metadata": {
        "colab": {
          "base_uri": "https://localhost:8080/"
        },
        "id": "JskVYgAzeFQi",
        "outputId": "1969e84e-8049-4da8-a756-64e1f948e3bf"
      },
      "outputs": [
        {
          "name": "stdout",
          "output_type": "stream",
          "text": [
            "Word2Vec vocabulary size: 978\n",
            "Sample words in vocabulary: ['new', 'life', 'day', 'joy', 'moment', 'feeling', 'like', 'friend', 'heart', 'night']\n"
          ]
        }
      ],
      "source": [
        "print(\"Word2Vec vocabulary size:\", len(word2vec_model.wv))\n",
        "print(\"Sample words in vocabulary:\", list(word2vec_model.wv.index_to_key)[:10])"
      ]
    },
    {
      "cell_type": "code",
      "execution_count": 891,
      "metadata": {
        "colab": {
          "base_uri": "https://localhost:8080/"
        },
        "id": "3gco8k9FGXaw",
        "outputId": "55ccf915-6eaa-4962-caa1-cb96665ce56a"
      },
      "outputs": [
        {
          "data": {
            "text/plain": [
              "array([-0.00134503,  0.00749628,  0.01095018, -0.01083784, -0.00843607,\n",
              "       -0.01750925, -0.00180087,  0.01882845, -0.00985678, -0.01170151,\n",
              "        0.00149062, -0.01250158,  0.00785652, -0.00074926,  0.00553191,\n",
              "       -0.00010326,  0.00367569, -0.01256671,  0.00342911, -0.02101866,\n",
              "        0.00043042,  0.00021563,  0.01052013, -0.01023289, -0.00771293,\n",
              "        0.00548167, -0.00563027, -0.01094416,  0.00374056,  0.00462585,\n",
              "        0.00411291,  0.00455317,  0.01100338,  0.00785194,  0.00418933,\n",
              "        0.01263985,  0.00027707, -0.00781501, -0.0131604 , -0.01429575,\n",
              "        0.00093814, -0.00445574, -0.00603149,  0.00528949, -0.00315149,\n",
              "       -0.0103952 , -0.00441027, -0.00483939, -0.00533885,  0.00661615,\n",
              "       -0.00096278, -0.00697056, -0.0093878 ,  0.00331642, -0.00594855,\n",
              "        0.00445199, -0.00104791, -0.00168783, -0.00209766,  0.00430703,\n",
              "       -0.00645585, -0.00095533, -0.00142288, -0.00096768, -0.0190217 ,\n",
              "        0.00868203, -0.00413591, -0.00284536, -0.00577498,  0.0043245 ,\n",
              "       -0.00265423,  0.00752113,  0.00453402,  0.01297446,  0.00690739,\n",
              "        0.01358398,  0.00639394, -0.01204719, -0.009677  ,  0.01309377,\n",
              "        0.00635608,  0.00816396,  0.00190839,  0.01871399, -0.00908463,\n",
              "        0.00489046, -0.00663631,  0.01441263,  0.01400485,  0.00860978,\n",
              "        0.01709686,  0.00470948, -0.00372317,  0.00583624,  0.00522263,\n",
              "        0.00974707,  0.01501857, -0.01562292,  0.00821107, -0.00993399],\n",
              "      dtype=float32)"
            ]
          },
          "execution_count": 891,
          "metadata": {},
          "output_type": "execute_result"
        }
      ],
      "source": [
        "# sample word vector\n",
        "word2vec_model.wv['dream']"
      ]
    },
    {
      "cell_type": "markdown",
      "metadata": {
        "id": "SmWrx5PUbnr0"
      },
      "source": [
        "#### Converting the Tokenized texts into Sentence vectors"
      ]
    },
    {
      "cell_type": "code",
      "execution_count": 892,
      "metadata": {
        "id": "Ur0YrrTRCAaa"
      },
      "outputs": [],
      "source": [
        "# using average of word vectors to represent sentences.\n",
        "def text_to_vectors(text, model, vector_size=100):\n",
        "    vectors = [model.wv[word] for word in text if word in model.wv]\n",
        "    if len(vectors) > 0:\n",
        "        return np.mean(vectors, axis=0)  # Average word vectors\n",
        "    else:\n",
        "        return np.zeros(vector_size)  # Return zero vector if no words are in vocabulary"
      ]
    },
    {
      "cell_type": "code",
      "execution_count": 893,
      "metadata": {
        "id": "y4y_rzEnCIRz"
      },
      "outputs": [],
      "source": [
        "vectorized_texts = np.array([text_to_vectors(text, word2vec_model) for text in tokenized_texts])"
      ]
    },
    {
      "cell_type": "code",
      "execution_count": 894,
      "metadata": {
        "colab": {
          "base_uri": "https://localhost:8080/"
        },
        "id": "BfwleIwxc4pT",
        "outputId": "cc5b7db5-1ef0-49be-b6df-b616d03168ae"
      },
      "outputs": [
        {
          "data": {
            "text/plain": [
              "(707, 100)"
            ]
          },
          "execution_count": 894,
          "metadata": {},
          "output_type": "execute_result"
        }
      ],
      "source": [
        "vectorized_texts.shape"
      ]
    },
    {
      "cell_type": "code",
      "execution_count": 895,
      "metadata": {
        "colab": {
          "base_uri": "https://localhost:8080/"
        },
        "id": "C96__0EwDbt_",
        "outputId": "49306279-7084-4856-94e2-937d13f68d43"
      },
      "outputs": [
        {
          "name": "stdout",
          "output_type": "stream",
          "text": [
            "First Sentence in Tokenized form:\n",
            " ['enjoying', 'beautiful', 'day', 'park']\n",
            "\n",
            "First Sentence in Vectorized form:\n",
            " [-0.00513012  0.00556102 -0.00458171 -0.00411881 -0.00185008 -0.0036347\n",
            " -0.00493423  0.00625088 -0.00465942  0.00146757 -0.00988239 -0.00609408\n",
            "  0.00271998  0.001852    0.00251819 -0.00564513  0.00096643  0.00044542\n",
            " -0.0010063  -0.00850558  0.00213788 -0.00097737 -0.00280217 -0.00342641\n",
            "  0.00315668 -0.00055318 -0.00039253  0.00011234 -0.00105617  0.00550717\n",
            "  0.00352085 -0.00223756  0.00176134 -0.00107218 -0.00067751  0.00136745\n",
            "  0.00445134 -0.00372059 -0.00085777 -0.00333346 -0.00470237 -0.00290568\n",
            "  0.00027674  0.00112983  0.00304642 -0.00339039  0.00042893 -0.00145852\n",
            " -0.00047056  0.00164184  0.0007676  -0.00551474 -0.00073693 -0.00200427\n",
            "  0.00049124  0.00226406  0.00074432  0.00218045 -0.00711484 -0.00230741\n",
            " -0.0008423   0.00310927 -0.00239204  0.00160744 -0.00837686  0.00427378\n",
            "  0.00692792  0.00294463 -0.00246845  0.00964445  0.00128749 -0.00122129\n",
            "  0.00452331  0.00311141 -0.00111498  0.00659626 -0.00198577  0.00271161\n",
            " -0.00249874 -0.00016081  0.00104207 -0.00485833 -0.00388877  0.00652634\n",
            "  0.00332418 -0.00032173 -0.00360014 -0.00227816  0.00325929  0.00147947\n",
            "  0.00462784  0.00584954  0.00167817 -0.00173407  0.00789859  0.00267799\n",
            "  0.00750378 -0.00357435  0.00351395 -0.0001428 ]\n"
          ]
        }
      ],
      "source": [
        "print(\"First Sentence in Tokenized form:\\n\", tokenized_texts[0])\n",
        "print(\"\\nFirst Sentence in Vectorized form:\\n\", vectorized_texts[0])  # Printing the first 5 word vectors from the first sentence"
      ]
    },
    {
      "cell_type": "markdown",
      "metadata": {
        "id": "GWHA_Tdge5FB"
      },
      "source": [
        "### Preparing Data for Training"
      ]
    },
    {
      "cell_type": "code",
      "execution_count": 896,
      "metadata": {
        "id": "ly_wRyz0CLj7"
      },
      "outputs": [],
      "source": [
        "X = vectorized_texts\n",
        "y = labels"
      ]
    },
    {
      "cell_type": "code",
      "execution_count": 897,
      "metadata": {},
      "outputs": [
        {
          "data": {
            "text/plain": [
              "3"
            ]
          },
          "execution_count": 897,
          "metadata": {},
          "output_type": "execute_result"
        }
      ],
      "source": [
        "unique_values, counts = np.unique(y, return_counts=True)\n",
        "len(unique_values)"
      ]
    },
    {
      "cell_type": "code",
      "execution_count": 898,
      "metadata": {
        "id": "F7C5QFDQVW7r"
      },
      "outputs": [],
      "source": [
        "class SentimentDataset(Dataset):\n",
        "    def __init__(self, X, y):\n",
        "        self.X = torch.tensor(X, dtype=torch.float32)\n",
        "        self.y = torch.tensor(y, dtype=torch.long)\n",
        "\n",
        "    def __len__(self):\n",
        "        return len(self.X)\n",
        "\n",
        "    def __getitem__(self, idx):\n",
        "        return self.X[idx], self.y[idx]"
      ]
    },
    {
      "cell_type": "code",
      "execution_count": 899,
      "metadata": {
        "id": "JpjPky6Vv29b"
      },
      "outputs": [],
      "source": [
        "# DataLoader for training\n",
        "batch_size = 32\n",
        "dataset = SentimentDataset(X, y)\n",
        "# dataloader = DataLoader(dataset, batch_size=batch_size, shuffle=True)\n",
        "\n",
        "# split sizes\n",
        "train_size = int(0.8 * len(dataset))\n",
        "test_size = len(dataset) - train_size\n",
        "\n",
        "generator = torch.Generator().manual_seed(42)\n",
        "\n",
        "\n",
        "train_dataset, test_dataset = random_split(dataset, [train_size, test_size], generator=generator)\n",
        "\n",
        "# Create DataLoaders\n",
        "train_loader = DataLoader(train_dataset, batch_size=batch_size, shuffle=True)\n",
        "test_loader = DataLoader(test_dataset, batch_size=batch_size, shuffle=True)"
      ]
    },
    {
      "cell_type": "code",
      "execution_count": 900,
      "metadata": {},
      "outputs": [
        {
          "data": {
            "text/plain": [
              "tensor([[-0.0051,  0.0056, -0.0046,  ..., -0.0036,  0.0035, -0.0001],\n",
              "        [-0.0108,  0.0017,  0.0066,  ..., -0.0005, -0.0010, -0.0027],\n",
              "        [-0.0025,  0.0078, -0.0020,  ...,  0.0023, -0.0050,  0.0019],\n",
              "        ...,\n",
              "        [-0.0063,  0.0068,  0.0011,  ..., -0.0118,  0.0045, -0.0058],\n",
              "        [-0.0030,  0.0051,  0.0029,  ..., -0.0051,  0.0043, -0.0009],\n",
              "        [-0.0040,  0.0045,  0.0014,  ..., -0.0078,  0.0039, -0.0043]])"
            ]
          },
          "execution_count": 900,
          "metadata": {},
          "output_type": "execute_result"
        }
      ],
      "source": [
        "test_dataset.dataset.X"
      ]
    },
    {
      "cell_type": "code",
      "execution_count": 901,
      "metadata": {
        "id": "U1y2dk7Khx9B"
      },
      "outputs": [],
      "source": [
        "class Model(nn.Module) :\n",
        "    #4 input -> HL1 -> HL2 -> output 3\n",
        "\n",
        "    def __init__(self, in_features= 100, h1 = 128, h2 = 256, h3 = 64, h4 = 256, out_features = 3):\n",
        "        super().__init__()\n",
        "        self.fc1 = nn.Linear(in_features, h1)\n",
        "        self.fc2 = nn.Linear(h1, h2)\n",
        "        self.fc3 = nn.Linear(h2, h3)\n",
        "        self.fc4 = nn.Linear(h3, h4)\n",
        "        self.out = nn.Linear(h4, out_features)\n",
        "         # Dropout layer (0.2 probability)\n",
        "        self.dropout = nn.Dropout(0.2)\n",
        "\n",
        "    def forward(self, x):\n",
        "        x = F.relu(self.fc1(x))\n",
        "        x = F.relu(self.fc2(x))\n",
        "        # x = self.dropout(x)\n",
        "        x = F.relu(self.fc3(x))\n",
        "        # x = self.dropout(x)\n",
        "        x = F.relu(self.fc4(x))\n",
        "        x = self.out(x)\n",
        "\n",
        "        return x"
      ]
    },
    {
      "cell_type": "code",
      "execution_count": 902,
      "metadata": {},
      "outputs": [],
      "source": [
        "torch.manual_seed(42)\n",
        "\n",
        "model = Model() # creating model\n",
        "criterion = nn.CrossEntropyLoss() # defining loss \n",
        "\n",
        "optimizer = torch.optim.Adam(model.parameters(), lr = 0.002)\n",
        "\n",
        "epochs = 100\n"
      ]
    },
    {
      "cell_type": "code",
      "execution_count": 903,
      "metadata": {},
      "outputs": [],
      "source": [
        "def train_model(model, criterion, optimizer, epochs) :\n",
        "    losses = []\n",
        "\n",
        "    for epoch in range(epochs):\n",
        "        for batch_X, batch_y in train_loader:  # iterate over mini-batches\n",
        "            \n",
        "            # forward pass\n",
        "            y_pred = model(batch_X)\n",
        "\n",
        "            # compute loss\n",
        "            loss = criterion(y_pred, batch_y)\n",
        "\n",
        "            # track losses\n",
        "            losses.append(loss.detach().numpy())\n",
        "\n",
        "            # Backpropagation\n",
        "            optimizer.zero_grad()\n",
        "            loss.backward()\n",
        "            optimizer.step()\n",
        "        # losses.append(loss.detach().numpy())\n",
        "        # Print loss every 10 epochs\n",
        "        if epoch % 10 == 0:\n",
        "            print(f'Epoch {epoch}, Loss: {loss.item()}')\n",
        "    \n",
        "    return losses"
      ]
    },
    {
      "cell_type": "code",
      "execution_count": 904,
      "metadata": {},
      "outputs": [
        {
          "name": "stdout",
          "output_type": "stream",
          "text": [
            "Epoch 0, Loss: 0.9177469611167908\n",
            "Epoch 10, Loss: 1.0580660104751587\n",
            "Epoch 20, Loss: 0.8813546299934387\n",
            "Epoch 30, Loss: 1.0991830825805664\n",
            "Epoch 40, Loss: 0.7577584981918335\n",
            "Epoch 50, Loss: 1.0447360277175903\n",
            "Epoch 60, Loss: 0.9758217930793762\n",
            "Epoch 70, Loss: 1.0108442306518555\n",
            "Epoch 80, Loss: 0.4952749013900757\n",
            "Epoch 90, Loss: 0.6289622187614441\n",
            "Epoch 100, Loss: 0.6218728423118591\n",
            "Epoch 110, Loss: 0.2830459475517273\n",
            "Epoch 120, Loss: 0.6512624025344849\n",
            "Epoch 130, Loss: 0.6425368785858154\n",
            "Epoch 140, Loss: 0.31166863441467285\n",
            "Epoch 150, Loss: 0.4093059003353119\n",
            "Epoch 160, Loss: 0.3767774999141693\n",
            "Epoch 170, Loss: 0.1854674518108368\n",
            "Epoch 180, Loss: 0.23350495100021362\n",
            "Epoch 190, Loss: 0.17182734608650208\n",
            "Epoch 200, Loss: 0.23608767986297607\n",
            "Epoch 210, Loss: 0.06779283285140991\n",
            "Epoch 220, Loss: 0.07627496868371964\n",
            "Epoch 230, Loss: 0.021699169650673866\n",
            "Epoch 240, Loss: 0.7400538325309753\n",
            "Epoch 250, Loss: 0.015190904960036278\n",
            "Epoch 260, Loss: 0.02444573864340782\n",
            "Epoch 270, Loss: 0.0012782615376636386\n",
            "Epoch 280, Loss: 0.05956293269991875\n",
            "Epoch 290, Loss: 0.0062117851339280605\n"
          ]
        }
      ],
      "source": [
        "train_loss = train_model(model, criterion, optimizer, epochs=300)"
      ]
    },
    {
      "cell_type": "code",
      "execution_count": 905,
      "metadata": {},
      "outputs": [
        {
          "data": {
            "image/png": "[encoded data removed]",
            "text/plain": [
              "<Figure size 640x480 with 1 Axes>"
            ]
          },
          "metadata": {},
          "output_type": "display_data"
        }
      ],
      "source": [
        "plt.plot(range(len(train_loss)), train_loss)\n",
        "plt.ylabel(\"loss\")\n",
        "plt.xlabel(\"Epochs\")\n",
        "plt.show()"
      ]
    },
    {
      "cell_type": "code",
      "execution_count": 906,
      "metadata": {},
      "outputs": [
        {
          "name": "stdout",
          "output_type": "stream",
          "text": [
            "Accuracy: 0.6479\n"
          ]
        },
        {
          "data": {
            "image/png": "[encoded data removed]",
            "text/plain": [
              "<Figure size 600x500 with 2 Axes>"
            ]
          },
          "metadata": {},
          "output_type": "display_data"
        }
      ],
      "source": [
        "# import torch\n",
        "# import numpy as np\n",
        "# import matplotlib.pyplot as plt\n",
        "# import seaborn as sns\n",
        "# from sklearn.metrics import accuracy_score, confusion_matrix\n",
        "\n",
        "# Function to make predictions using test_loader\n",
        "def predict(model, test_loader):\n",
        "    model.eval()  # Set to evaluation mode (disable dropout, batch norm)\n",
        "    \n",
        "    y_true_list = []\n",
        "    y_pred_list = []\n",
        "\n",
        "    with torch.no_grad():  # No gradient tracking for inference\n",
        "        for batch_X, batch_y in test_loader:  # Iterate through batches\n",
        "            y_pred = model(batch_X)  # Forward pass\n",
        "            y_pred_classes = torch.argmax(y_pred, dim=1)  # Get class with highest probability\n",
        "            \n",
        "            # Store predictions and actual labels\n",
        "            y_true_list.extend(batch_y.numpy())  # Convert to NumPy & store\n",
        "            y_pred_list.extend(y_pred_classes.numpy())  # Convert to NumPy & store\n",
        "\n",
        "    return np.array(y_true_list), np.array(y_pred_list)\n",
        "\n",
        "# Get predictions\n",
        "y_test_true, y_test_pred = predict(model, test_loader)\n",
        "\n",
        "# Compute accuracy\n",
        "accuracy = accuracy_score(y_test_true, y_test_pred)\n",
        "print(f'Accuracy: {accuracy:.4f}')\n",
        "\n",
        "# Compute confusion matrix\n",
        "cm = confusion_matrix(y_test_true, y_test_pred)\n",
        "\n",
        "# Plot confusion matrix\n",
        "plt.figure(figsize=(6,5))\n",
        "sns.heatmap(cm, annot=True, fmt='d', cmap='Blues', xticklabels=np.unique(y_test_true), yticklabels=np.unique(y_test_true))\n",
        "plt.xlabel('Predicted Label')\n",
        "plt.ylabel('True Label')\n",
        "plt.title('Confusion Matrix')\n",
        "plt.show()\n"
      ]
    },
    {
      "cell_type": "code",
      "execution_count": 907,
      "metadata": {},
      "outputs": [],
      "source": [
        "import time\n",
        "timestamp = int(time.time()) \n",
        "# timestamp = datetime.now().strftime(\"%Y%m%d_%H%M%S\")\n",
        "\n",
        "# Create filename with timestamp\n",
        "model_filename = f\"model_{timestamp}.pth\"\n",
        "torch.save(model, f\"./models/model_{timestamp}.pth\")"
      ]
    }
  ],
  "metadata": {
    "colab": {
      "authorship_tag": "ABX9TyPZxGnagT2ExgIuIpsCl2br",
      "include_colab_link": true,
      "provenance": []
    },
    "kernelspec": {
      "display_name": "torch-tut",
      "language": "python",
      "name": "python3"
    },
    "language_info": {
      "codemirror_mode": {
        "name": "ipython",
        "version": 3
      },
      "file_extension": ".py",
      "mimetype": "text/x-python",
      "name": "python",
      "nbconvert_exporter": "python",
      "pygments_lexer": "ipython3",
      "version": "3.12.8"
    }
  },
  "nbformat": 4,
  "nbformat_minor": 0
}
